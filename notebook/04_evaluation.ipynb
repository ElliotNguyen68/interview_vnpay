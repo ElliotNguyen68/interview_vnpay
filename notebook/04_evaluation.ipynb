{
 "cells": [
  {
   "cell_type": "code",
   "execution_count": 1,
   "metadata": {},
   "outputs": [],
   "source": [
    "import os\n",
    "\n",
    "os.environ[\"CONFIG_PATH\"] = \"/home/locnt7\"\n",
    "\n",
    "os.environ[\"SPARK_SERVER\"] = \"SPARK@95\""
   ]
  },
  {
   "cell_type": "code",
   "execution_count": 2,
   "metadata": {},
   "outputs": [],
   "source": [
    "import datetime as dt\n",
    "import gc\n",
    "import pandas as pd\n",
    "import seaborn as sns\n",
    "import scipy\n",
    "import scipy.stats as st\n",
    "from pdp.core import hdfs_utils, spark_utils\n",
    "from pyspark.sql import functions as F\n",
    "from pyspark.sql import types as T\n",
    "from pyspark.sql.window import Window\n",
    "from typing import List\n",
    "import numpy as np\n",
    "from datetime import timedelta,datetime,date\n",
    "from sklearn.preprocessing import MultiLabelBinarizer\n",
    "from sklearn.model_selection import train_test_split\n",
    "from sklearn.neighbors import KNeighborsClassifier\n",
    "from sklearn.linear_model import LogisticRegression\n",
    "from sklearn.metrics import auc,f1_score,precision_score,recall_score,accuracy_score,confusion_matrix\n",
    "from sklearn.preprocessing import LabelEncoder\n",
    "import matplotlib.pyplot as plt \n",
    "%matplotlib inline\n",
    "import sys\n",
    "sys.path.append('/home/locnt7/interview/')"
   ]
  },
  {
   "cell_type": "code",
   "execution_count": 3,
   "metadata": {},
   "outputs": [
    {
     "name": "stderr",
     "output_type": "stream",
     "text": [
      "22/11/21 22:56:26 WARN NativeCodeLoader: Unable to load native-hadoop library for your platform... using builtin-java classes where applicable\n",
      "Using Spark's default log4j profile: org/apache/spark/log4j-defaults.properties\n",
      "Setting default log level to \"WARN\".\n",
      "To adjust logging level use sc.setLogLevel(newLevel). For SparkR, use setLogLevel(newLevel).\n",
      "22/11/21 22:56:27 WARN Utils: Service 'SparkUI' could not bind on port 9696. Attempting port 9697.\n",
      "22/11/21 22:56:27 WARN Utils: Service 'SparkUI' could not bind on port 9697. Attempting port 9698.\n"
     ]
    },
    {
     "name": "stdout",
     "output_type": "stream",
     "text": [
      "===============================================\n",
      "Spark Master: spark://10.60.37.95:7077\n",
      "UI Web:       http://10.60.37.95:9698\n",
      "Version:      3.1.2\n",
      "App Name:     EVAL RECOMMENDATION\n"
     ]
    }
   ],
   "source": [
    "from pdp.core import spark_utils,hdfs_utils\n",
    "from pyspark.sql import functions as F\n",
    "\n",
    "import datetime as dt\n",
    "NO_CORES=20\n",
    "spark = spark_utils.get_spark_session(\n",
    "    app_name=\"eval recommendation\",\n",
    "    cores=NO_CORES,\n",
    "    driver_memory=32,\n",
    "    executor_memory=32,\n",
    "    ui_port=9696,\n",
    "    log_level=\"ERROR\",\n",
    ")"
   ]
  },
  {
   "cell_type": "code",
   "execution_count": 4,
   "metadata": {},
   "outputs": [],
   "source": [
    "df_=pd.read_csv('/home/locnt7/files/df_final.csv')\\\n",
    "    .assign(timestamp=lambda x:x.timestamp.apply(lambda x:datetime.strptime(x,'%Y-%m-%d %H:%M:%S')))"
   ]
  },
  {
   "cell_type": "code",
   "execution_count": 5,
   "metadata": {},
   "outputs": [
    {
     "data": {
      "text/plain": [
       "trans_id                         5952133\n",
       "item_id                           434679\n",
       "user_id                           298515\n",
       "amount                                18\n",
       "cost                                3.52\n",
       "description    mousey long legs soft toy\n",
       "timestamp            2018-03-27 10:24:00\n",
       "Name: 0, dtype: object"
      ]
     },
     "execution_count": 5,
     "metadata": {},
     "output_type": "execute_result"
    }
   ],
   "source": [
    "df_.iloc[0]"
   ]
  },
  {
   "cell_type": "code",
   "execution_count": 5,
   "metadata": {},
   "outputs": [],
   "source": [
    "df_item=pd.read_csv('files/data_item_vnpay.csv')"
   ]
  },
  {
   "cell_type": "code",
   "execution_count": 7,
   "metadata": {},
   "outputs": [
    {
     "data": {
      "text/plain": [
       "Timestamp('2019-02-20 08:50:00')"
      ]
     },
     "execution_count": 7,
     "metadata": {},
     "output_type": "execute_result"
    }
   ],
   "source": [
    "df_['timestamp'].max()"
   ]
  },
  {
   "cell_type": "code",
   "execution_count": 6,
   "metadata": {},
   "outputs": [],
   "source": [
    "from recommender.Recommender import Recommender"
   ]
  },
  {
   "cell_type": "code",
   "execution_count": 7,
   "metadata": {},
   "outputs": [],
   "source": [
    "recommender=Recommender(spark=spark)"
   ]
  },
  {
   "cell_type": "code",
   "execution_count": 8,
   "metadata": {},
   "outputs": [],
   "source": [
    "recommender.fit(df_)"
   ]
  },
  {
   "cell_type": "code",
   "execution_count": 9,
   "metadata": {},
   "outputs": [
    {
     "name": "stderr",
     "output_type": "stream",
     "text": [
      "                                                                                \r"
     ]
    },
    {
     "name": "stdout",
     "output_type": "stream",
     "text": [
      "load\n"
     ]
    }
   ],
   "source": [
    "recommender._init_recommendation(data_item=df_item,dt=datetime(2019,2,1))"
   ]
  },
  {
   "cell_type": "code",
   "execution_count": 12,
   "metadata": {},
   "outputs": [
    {
     "name": "stderr",
     "output_type": "stream",
     "text": [
      "                                                                                \r"
     ]
    },
    {
     "data": {
      "text/html": [
       "<div>\n",
       "<style scoped>\n",
       "    .dataframe tbody tr th:only-of-type {\n",
       "        vertical-align: middle;\n",
       "    }\n",
       "\n",
       "    .dataframe tbody tr th {\n",
       "        vertical-align: top;\n",
       "    }\n",
       "\n",
       "    .dataframe thead th {\n",
       "        text-align: right;\n",
       "    }\n",
       "</style>\n",
       "<table border=\"1\" class=\"dataframe\">\n",
       "  <thead>\n",
       "    <tr style=\"text-align: right;\">\n",
       "      <th></th>\n",
       "      <th>user_id</th>\n",
       "      <th>segment</th>\n",
       "      <th>recommendation</th>\n",
       "    </tr>\n",
       "  </thead>\n",
       "  <tbody>\n",
       "    <tr>\n",
       "      <th>0</th>\n",
       "      <td>1</td>\n",
       "      <td>new</td>\n",
       "      <td>[470883, 1787583, 1787079, 998886, 1782459, 47...</td>\n",
       "    </tr>\n",
       "  </tbody>\n",
       "</table>\n",
       "</div>"
      ],
      "text/plain": [
       "   user_id segment                                     recommendation\n",
       "0        1     new  [470883, 1787583, 1787079, 998886, 1782459, 47..."
      ]
     },
     "execution_count": 12,
     "metadata": {},
     "output_type": "execute_result"
    }
   ],
   "source": [
    "recommender.recommend_batch([1])"
   ]
  },
  {
   "cell_type": "code",
   "execution_count": 13,
   "metadata": {},
   "outputs": [
    {
     "name": "stderr",
     "output_type": "stream",
     "text": [
      "/home/locnt7/interview/recommender/Recommender.py:135: SettingWithCopyWarning: \n",
      "A value is trying to be set on a copy of a slice from a DataFrame.\n",
      "Try using .loc[row_indexer,col_indexer] = value instead\n",
      "\n",
      "See the caveats in the documentation: https://pandas.pydata.org/pandas-docs/stable/user_guide/indexing.html#returning-a-view-versus-a-copy\n",
      "  new_users['recommendation']=new_users.apply(lambda _:most_frequent_item,axis=1)\n",
      "                                                                                \r"
     ]
    },
    {
     "data": {
      "text/html": [
       "<div>\n",
       "<style scoped>\n",
       "    .dataframe tbody tr th:only-of-type {\n",
       "        vertical-align: middle;\n",
       "    }\n",
       "\n",
       "    .dataframe tbody tr th {\n",
       "        vertical-align: top;\n",
       "    }\n",
       "\n",
       "    .dataframe thead th {\n",
       "        text-align: right;\n",
       "    }\n",
       "</style>\n",
       "<table border=\"1\" class=\"dataframe\">\n",
       "  <thead>\n",
       "    <tr style=\"text-align: right;\">\n",
       "      <th></th>\n",
       "      <th>user_id</th>\n",
       "      <th>segment</th>\n",
       "      <th>recommendation</th>\n",
       "    </tr>\n",
       "  </thead>\n",
       "  <tbody>\n",
       "    <tr>\n",
       "      <th>1</th>\n",
       "      <td>1</td>\n",
       "      <td>new</td>\n",
       "      <td>[470883, 1787583, 1787079, 998886, 1782459, 47...</td>\n",
       "    </tr>\n",
       "    <tr>\n",
       "      <th>0</th>\n",
       "      <td>296688</td>\n",
       "      <td>warm</td>\n",
       "      <td>[471870, 1787583, 464898, 455049, 480795, 4461...</td>\n",
       "    </tr>\n",
       "    <tr>\n",
       "      <th>0</th>\n",
       "      <td>259287</td>\n",
       "      <td>old</td>\n",
       "      <td>[476637, 486570, 486591, 486612, 486633, 48665...</td>\n",
       "    </tr>\n",
       "    <tr>\n",
       "      <th>1</th>\n",
       "      <td>259539</td>\n",
       "      <td>old</td>\n",
       "      <td>[471009, 482181, 470883, 464520, 486591, 48648...</td>\n",
       "    </tr>\n",
       "  </tbody>\n",
       "</table>\n",
       "</div>"
      ],
      "text/plain": [
       "   user_id segment                                     recommendation\n",
       "1        1     new  [470883, 1787583, 1787079, 998886, 1782459, 47...\n",
       "0   296688    warm  [471870, 1787583, 464898, 455049, 480795, 4461...\n",
       "0   259287     old  [476637, 486570, 486591, 486612, 486633, 48665...\n",
       "1   259539     old  [471009, 482181, 470883, 464520, 486591, 48648..."
      ]
     },
     "execution_count": 13,
     "metadata": {},
     "output_type": "execute_result"
    }
   ],
   "source": [
    "\n",
    "recommender.recommend_batch([259287,1,259539,296688],)"
   ]
  },
  {
   "cell_type": "code",
   "execution_count": 14,
   "metadata": {},
   "outputs": [
    {
     "data": {
      "text/plain": [
       "datetime.date(2022, 1, 1)"
      ]
     },
     "execution_count": 14,
     "metadata": {},
     "output_type": "execute_result"
    }
   ],
   "source": [
    "datetime(2022,1,1).date()"
   ]
  },
  {
   "cell_type": "code",
   "execution_count": 15,
   "metadata": {},
   "outputs": [],
   "source": [
    "df_spark=spark.createDataFrame(df_)"
   ]
  },
  {
   "cell_type": "code",
   "execution_count": 16,
   "metadata": {},
   "outputs": [],
   "source": [
    "df__=df_spark.withColumn('date',F.to_date('timestamp')).toPandas()"
   ]
  },
  {
   "cell_type": "code",
   "execution_count": 17,
   "metadata": {},
   "outputs": [],
   "source": [
    "dt=datetime(2019,1,1)\n",
    "dt_end=datetime(2019,2,20)\n"
   ]
  },
  {
   "cell_type": "code",
   "execution_count": 18,
   "metadata": {},
   "outputs": [
    {
     "ename": "SyntaxError",
     "evalue": "invalid syntax (1446386700.py, line 2)",
     "output_type": "error",
     "traceback": [
      "\u001b[0;36m  Input \u001b[0;32mIn [18]\u001b[0;36m\u001b[0m\n\u001b[0;31m    data=df__.loc[lambda x: x.timestamp<]\u001b[0m\n\u001b[0m                                        ^\u001b[0m\n\u001b[0;31mSyntaxError\u001b[0m\u001b[0;31m:\u001b[0m invalid syntax\n"
     ]
    }
   ],
   "source": [
    "while dt<dt_end:\n",
    "    data=df__.loc[lambda x: x.timestamp<]"
   ]
  },
  {
   "cell_type": "code",
   "execution_count": 19,
   "metadata": {},
   "outputs": [],
   "source": [
    "dt=datetime(2019,1,1)"
   ]
  },
  {
   "cell_type": "code",
   "execution_count": 11,
   "metadata": {},
   "outputs": [
    {
     "ename": "TypeError",
     "evalue": "Invalid comparison between dtype=datetime64[ns] and module",
     "output_type": "error",
     "traceback": [
      "\u001b[0;31m---------------------------------------------------------------------------\u001b[0m",
      "\u001b[0;31mInvalidComparison\u001b[0m                         Traceback (most recent call last)",
      "File \u001b[0;32m~/EDA/new_env/lib/python3.9/site-packages/pandas/core/arrays/datetimelike.py:1008\u001b[0m, in \u001b[0;36mDatetimeLikeArrayMixin._cmp_method\u001b[0;34m(self, other, op)\u001b[0m\n\u001b[1;32m   1007\u001b[0m \u001b[39mtry\u001b[39;00m:\n\u001b[0;32m-> 1008\u001b[0m     other \u001b[39m=\u001b[39m \u001b[39mself\u001b[39;49m\u001b[39m.\u001b[39;49m_validate_comparison_value(other)\n\u001b[1;32m   1009\u001b[0m \u001b[39mexcept\u001b[39;00m InvalidComparison:\n",
      "File \u001b[0;32m~/EDA/new_env/lib/python3.9/site-packages/pandas/core/arrays/datetimelike.py:546\u001b[0m, in \u001b[0;36mDatetimeLikeArrayMixin._validate_comparison_value\u001b[0;34m(self, other)\u001b[0m\n\u001b[1;32m    545\u001b[0m \u001b[39melif\u001b[39;00m \u001b[39mnot\u001b[39;00m is_list_like(other):\n\u001b[0;32m--> 546\u001b[0m     \u001b[39mraise\u001b[39;00m InvalidComparison(other)\n\u001b[1;32m    548\u001b[0m \u001b[39melif\u001b[39;00m \u001b[39mlen\u001b[39m(other) \u001b[39m!=\u001b[39m \u001b[39mlen\u001b[39m(\u001b[39mself\u001b[39m):\n",
      "\u001b[0;31mInvalidComparison\u001b[0m: <module 'datetime' from '/data/data_science/anaconda3/lib/python3.9/datetime.py'>",
      "\nDuring handling of the above exception, another exception occurred:\n",
      "\u001b[0;31mTypeError\u001b[0m                                 Traceback (most recent call last)",
      "\u001b[1;32m/Users/lap14171/interview/notebook/04_evaluation.ipynb Cell 20\u001b[0m in \u001b[0;36m<cell line: 1>\u001b[0;34m()\u001b[0m\n\u001b[0;32m----> <a href='vscode-notebook-cell:/Users/lap14171/interview/notebook/04_evaluation.ipynb#X43sZmlsZQ%3D%3D?line=0'>1</a>\u001b[0m data_\u001b[39m=\u001b[39mdf_\u001b[39m.\u001b[39;49mloc[\u001b[39mlambda\u001b[39;49;00m x:x\u001b[39m.\u001b[39;49mtimestamp\u001b[39m<\u001b[39;49mdt]\n",
      "File \u001b[0;32m~/EDA/new_env/lib/python3.9/site-packages/pandas/core/indexing.py:930\u001b[0m, in \u001b[0;36m_LocationIndexer.__getitem__\u001b[0;34m(self, key)\u001b[0m\n\u001b[1;32m    926\u001b[0m \u001b[39melse\u001b[39;00m:\n\u001b[1;32m    927\u001b[0m     \u001b[39m# we by definition only have the 0th axis\u001b[39;00m\n\u001b[1;32m    928\u001b[0m     axis \u001b[39m=\u001b[39m \u001b[39mself\u001b[39m\u001b[39m.\u001b[39maxis \u001b[39mor\u001b[39;00m \u001b[39m0\u001b[39m\n\u001b[0;32m--> 930\u001b[0m     maybe_callable \u001b[39m=\u001b[39m com\u001b[39m.\u001b[39;49mapply_if_callable(key, \u001b[39mself\u001b[39;49m\u001b[39m.\u001b[39;49mobj)\n\u001b[1;32m    931\u001b[0m     \u001b[39mreturn\u001b[39;00m \u001b[39mself\u001b[39m\u001b[39m.\u001b[39m_getitem_axis(maybe_callable, axis\u001b[39m=\u001b[39maxis)\n",
      "File \u001b[0;32m~/EDA/new_env/lib/python3.9/site-packages/pandas/core/common.py:358\u001b[0m, in \u001b[0;36mapply_if_callable\u001b[0;34m(maybe_callable, obj, **kwargs)\u001b[0m\n\u001b[1;32m    347\u001b[0m \u001b[39m\"\"\"\u001b[39;00m\n\u001b[1;32m    348\u001b[0m \u001b[39mEvaluate possibly callable input using obj and kwargs if it is callable,\u001b[39;00m\n\u001b[1;32m    349\u001b[0m \u001b[39motherwise return as it is.\u001b[39;00m\n\u001b[0;32m   (...)\u001b[0m\n\u001b[1;32m    355\u001b[0m \u001b[39m**kwargs\u001b[39;00m\n\u001b[1;32m    356\u001b[0m \u001b[39m\"\"\"\u001b[39;00m\n\u001b[1;32m    357\u001b[0m \u001b[39mif\u001b[39;00m callable(maybe_callable):\n\u001b[0;32m--> 358\u001b[0m     \u001b[39mreturn\u001b[39;00m maybe_callable(obj, \u001b[39m*\u001b[39;49m\u001b[39m*\u001b[39;49mkwargs)\n\u001b[1;32m    360\u001b[0m \u001b[39mreturn\u001b[39;00m maybe_callable\n",
      "\u001b[1;32m/Users/lap14171/interview/notebook/04_evaluation.ipynb Cell 20\u001b[0m in \u001b[0;36m<lambda>\u001b[0;34m(x)\u001b[0m\n\u001b[0;32m----> <a href='vscode-notebook-cell:/Users/lap14171/interview/notebook/04_evaluation.ipynb#X43sZmlsZQ%3D%3D?line=0'>1</a>\u001b[0m data_\u001b[39m=\u001b[39mdf_\u001b[39m.\u001b[39mloc[\u001b[39mlambda\u001b[39;00m x:x\u001b[39m.\u001b[39;49mtimestamp\u001b[39m<\u001b[39;49mdt]\n",
      "File \u001b[0;32m~/EDA/new_env/lib/python3.9/site-packages/pandas/core/ops/common.py:69\u001b[0m, in \u001b[0;36m_unpack_zerodim_and_defer.<locals>.new_method\u001b[0;34m(self, other)\u001b[0m\n\u001b[1;32m     65\u001b[0m             \u001b[39mreturn\u001b[39;00m \u001b[39mNotImplemented\u001b[39m\n\u001b[1;32m     67\u001b[0m other \u001b[39m=\u001b[39m item_from_zerodim(other)\n\u001b[0;32m---> 69\u001b[0m \u001b[39mreturn\u001b[39;00m method(\u001b[39mself\u001b[39;49m, other)\n",
      "File \u001b[0;32m~/EDA/new_env/lib/python3.9/site-packages/pandas/core/arraylike.py:40\u001b[0m, in \u001b[0;36mOpsMixin.__lt__\u001b[0;34m(self, other)\u001b[0m\n\u001b[1;32m     38\u001b[0m \u001b[39m@unpack_zerodim_and_defer\u001b[39m(\u001b[39m\"\u001b[39m\u001b[39m__lt__\u001b[39m\u001b[39m\"\u001b[39m)\n\u001b[1;32m     39\u001b[0m \u001b[39mdef\u001b[39;00m \u001b[39m__lt__\u001b[39m(\u001b[39mself\u001b[39m, other):\n\u001b[0;32m---> 40\u001b[0m     \u001b[39mreturn\u001b[39;00m \u001b[39mself\u001b[39;49m\u001b[39m.\u001b[39;49m_cmp_method(other, operator\u001b[39m.\u001b[39;49mlt)\n",
      "File \u001b[0;32m~/EDA/new_env/lib/python3.9/site-packages/pandas/core/series.py:5502\u001b[0m, in \u001b[0;36mSeries._cmp_method\u001b[0;34m(self, other, op)\u001b[0m\n\u001b[1;32m   5499\u001b[0m rvalues \u001b[39m=\u001b[39m extract_array(other, extract_numpy\u001b[39m=\u001b[39m\u001b[39mTrue\u001b[39;00m, extract_range\u001b[39m=\u001b[39m\u001b[39mTrue\u001b[39;00m)\n\u001b[1;32m   5501\u001b[0m \u001b[39mwith\u001b[39;00m np\u001b[39m.\u001b[39merrstate(\u001b[39mall\u001b[39m\u001b[39m=\u001b[39m\u001b[39m\"\u001b[39m\u001b[39mignore\u001b[39m\u001b[39m\"\u001b[39m):\n\u001b[0;32m-> 5502\u001b[0m     res_values \u001b[39m=\u001b[39m ops\u001b[39m.\u001b[39;49mcomparison_op(lvalues, rvalues, op)\n\u001b[1;32m   5504\u001b[0m \u001b[39mreturn\u001b[39;00m \u001b[39mself\u001b[39m\u001b[39m.\u001b[39m_construct_result(res_values, name\u001b[39m=\u001b[39mres_name)\n",
      "File \u001b[0;32m~/EDA/new_env/lib/python3.9/site-packages/pandas/core/ops/array_ops.py:270\u001b[0m, in \u001b[0;36mcomparison_op\u001b[0;34m(left, right, op)\u001b[0m\n\u001b[1;32m    261\u001b[0m         \u001b[39mraise\u001b[39;00m \u001b[39mValueError\u001b[39;00m(\n\u001b[1;32m    262\u001b[0m             \u001b[39m\"\u001b[39m\u001b[39mLengths must match to compare\u001b[39m\u001b[39m\"\u001b[39m, lvalues\u001b[39m.\u001b[39mshape, rvalues\u001b[39m.\u001b[39mshape\n\u001b[1;32m    263\u001b[0m         )\n\u001b[1;32m    265\u001b[0m \u001b[39mif\u001b[39;00m should_extension_dispatch(lvalues, rvalues) \u001b[39mor\u001b[39;00m (\n\u001b[1;32m    266\u001b[0m     (\u001b[39misinstance\u001b[39m(rvalues, (Timedelta, BaseOffset, Timestamp)) \u001b[39mor\u001b[39;00m right \u001b[39mis\u001b[39;00m NaT)\n\u001b[1;32m    267\u001b[0m     \u001b[39mand\u001b[39;00m \u001b[39mnot\u001b[39;00m is_object_dtype(lvalues\u001b[39m.\u001b[39mdtype)\n\u001b[1;32m    268\u001b[0m ):\n\u001b[1;32m    269\u001b[0m     \u001b[39m# Call the method on lvalues\u001b[39;00m\n\u001b[0;32m--> 270\u001b[0m     res_values \u001b[39m=\u001b[39m op(lvalues, rvalues)\n\u001b[1;32m    272\u001b[0m \u001b[39melif\u001b[39;00m is_scalar(rvalues) \u001b[39mand\u001b[39;00m isna(rvalues):\n\u001b[1;32m    273\u001b[0m     \u001b[39m# numpy does not like comparisons vs None\u001b[39;00m\n\u001b[1;32m    274\u001b[0m     \u001b[39mif\u001b[39;00m op \u001b[39mis\u001b[39;00m operator\u001b[39m.\u001b[39mne:\n",
      "File \u001b[0;32m~/EDA/new_env/lib/python3.9/site-packages/pandas/core/ops/common.py:69\u001b[0m, in \u001b[0;36m_unpack_zerodim_and_defer.<locals>.new_method\u001b[0;34m(self, other)\u001b[0m\n\u001b[1;32m     65\u001b[0m             \u001b[39mreturn\u001b[39;00m \u001b[39mNotImplemented\u001b[39m\n\u001b[1;32m     67\u001b[0m other \u001b[39m=\u001b[39m item_from_zerodim(other)\n\u001b[0;32m---> 69\u001b[0m \u001b[39mreturn\u001b[39;00m method(\u001b[39mself\u001b[39;49m, other)\n",
      "File \u001b[0;32m~/EDA/new_env/lib/python3.9/site-packages/pandas/core/arraylike.py:40\u001b[0m, in \u001b[0;36mOpsMixin.__lt__\u001b[0;34m(self, other)\u001b[0m\n\u001b[1;32m     38\u001b[0m \u001b[39m@unpack_zerodim_and_defer\u001b[39m(\u001b[39m\"\u001b[39m\u001b[39m__lt__\u001b[39m\u001b[39m\"\u001b[39m)\n\u001b[1;32m     39\u001b[0m \u001b[39mdef\u001b[39;00m \u001b[39m__lt__\u001b[39m(\u001b[39mself\u001b[39m, other):\n\u001b[0;32m---> 40\u001b[0m     \u001b[39mreturn\u001b[39;00m \u001b[39mself\u001b[39;49m\u001b[39m.\u001b[39;49m_cmp_method(other, operator\u001b[39m.\u001b[39;49mlt)\n",
      "File \u001b[0;32m~/EDA/new_env/lib/python3.9/site-packages/pandas/core/arrays/datetimelike.py:1010\u001b[0m, in \u001b[0;36mDatetimeLikeArrayMixin._cmp_method\u001b[0;34m(self, other, op)\u001b[0m\n\u001b[1;32m   1008\u001b[0m     other \u001b[39m=\u001b[39m \u001b[39mself\u001b[39m\u001b[39m.\u001b[39m_validate_comparison_value(other)\n\u001b[1;32m   1009\u001b[0m \u001b[39mexcept\u001b[39;00m InvalidComparison:\n\u001b[0;32m-> 1010\u001b[0m     \u001b[39mreturn\u001b[39;00m invalid_comparison(\u001b[39mself\u001b[39;49m, other, op)\n\u001b[1;32m   1012\u001b[0m dtype \u001b[39m=\u001b[39m \u001b[39mgetattr\u001b[39m(other, \u001b[39m\"\u001b[39m\u001b[39mdtype\u001b[39m\u001b[39m\"\u001b[39m, \u001b[39mNone\u001b[39;00m)\n\u001b[1;32m   1013\u001b[0m \u001b[39mif\u001b[39;00m is_object_dtype(dtype):\n\u001b[1;32m   1014\u001b[0m     \u001b[39m# We have to use comp_method_OBJECT_ARRAY instead of numpy\u001b[39;00m\n\u001b[1;32m   1015\u001b[0m     \u001b[39m#  comparison otherwise it would fail to raise when\u001b[39;00m\n\u001b[1;32m   1016\u001b[0m     \u001b[39m#  comparing tz-aware and tz-naive\u001b[39;00m\n",
      "File \u001b[0;32m~/EDA/new_env/lib/python3.9/site-packages/pandas/core/ops/invalid.py:34\u001b[0m, in \u001b[0;36minvalid_comparison\u001b[0;34m(left, right, op)\u001b[0m\n\u001b[1;32m     32\u001b[0m \u001b[39melse\u001b[39;00m:\n\u001b[1;32m     33\u001b[0m     typ \u001b[39m=\u001b[39m \u001b[39mtype\u001b[39m(right)\u001b[39m.\u001b[39m\u001b[39m__name__\u001b[39m\n\u001b[0;32m---> 34\u001b[0m     \u001b[39mraise\u001b[39;00m \u001b[39mTypeError\u001b[39;00m(\u001b[39mf\u001b[39m\u001b[39m\"\u001b[39m\u001b[39mInvalid comparison between dtype=\u001b[39m\u001b[39m{\u001b[39;00mleft\u001b[39m.\u001b[39mdtype\u001b[39m}\u001b[39;00m\u001b[39m and \u001b[39m\u001b[39m{\u001b[39;00mtyp\u001b[39m}\u001b[39;00m\u001b[39m\"\u001b[39m)\n\u001b[1;32m     35\u001b[0m \u001b[39mreturn\u001b[39;00m res_values\n",
      "\u001b[0;31mTypeError\u001b[0m: Invalid comparison between dtype=datetime64[ns] and module"
     ]
    }
   ],
   "source": [
    "data_=df_.loc[lambda x:x.timestamp<dt]"
   ]
  },
  {
   "cell_type": "code",
   "execution_count": 21,
   "metadata": {},
   "outputs": [
    {
     "name": "stderr",
     "output_type": "stream",
     "text": [
      "                                                                                \r"
     ]
    }
   ],
   "source": [
    "recommender_=Recommender(spark=spark)\n",
    "recommender_.fit(data_)\n",
    "recommender_._init_recommendation(data_item=df_item,dt=dt)"
   ]
  },
  {
   "cell_type": "code",
   "execution_count": 22,
   "metadata": {},
   "outputs": [],
   "source": [
    "truth_=df_.loc[lambda x:(dt<=x.timestamp)&(x.timestamp<dt+timedelta(1))]"
   ]
  },
  {
   "cell_type": "code",
   "execution_count": 23,
   "metadata": {},
   "outputs": [],
   "source": [
    "user_pred=list(set(truth_.sort_values('timestamp')['user_id']))"
   ]
  },
  {
   "cell_type": "code",
   "execution_count": 26,
   "metadata": {},
   "outputs": [
    {
     "name": "stderr",
     "output_type": "stream",
     "text": [
      "                                                                                \r"
     ]
    }
   ],
   "source": [
    "pred_tomorrow=recommender.recommend_batch(user_pred,n_recommends=30)"
   ]
  },
  {
   "cell_type": "code",
   "execution_count": 30,
   "metadata": {},
   "outputs": [
    {
     "data": {
      "text/plain": [
       "0.0305"
      ]
     },
     "execution_count": 30,
     "metadata": {},
     "output_type": "execute_result"
    }
   ],
   "source": [
    "61/2000"
   ]
  },
  {
   "cell_type": "code",
   "execution_count": 29,
   "metadata": {},
   "outputs": [
    {
     "data": {
      "text/html": [
       "<div>\n",
       "<style scoped>\n",
       "    .dataframe tbody tr th:only-of-type {\n",
       "        vertical-align: middle;\n",
       "    }\n",
       "\n",
       "    .dataframe tbody tr th {\n",
       "        vertical-align: top;\n",
       "    }\n",
       "\n",
       "    .dataframe thead th {\n",
       "        text-align: right;\n",
       "    }\n",
       "</style>\n",
       "<table border=\"1\" class=\"dataframe\">\n",
       "  <thead>\n",
       "    <tr style=\"text-align: right;\">\n",
       "      <th></th>\n",
       "      <th>trans_id</th>\n",
       "      <th>item_id</th>\n",
       "      <th>user_id</th>\n",
       "      <th>amount</th>\n",
       "      <th>cost</th>\n",
       "      <th>description</th>\n",
       "      <th>timestamp</th>\n",
       "    </tr>\n",
       "  </thead>\n",
       "  <tbody>\n",
       "    <tr>\n",
       "      <th>448</th>\n",
       "      <td>6292638</td>\n",
       "      <td>482769</td>\n",
       "      <td>383292</td>\n",
       "      <td>6</td>\n",
       "      <td>4.490000</td>\n",
       "      <td>set 2 pantry design tea towels</td>\n",
       "      <td>2019-01-01 08:43:00</td>\n",
       "    </tr>\n",
       "    <tr>\n",
       "      <th>794</th>\n",
       "      <td>6293133</td>\n",
       "      <td>340977</td>\n",
       "      <td>368991</td>\n",
       "      <td>3</td>\n",
       "      <td>0.290000</td>\n",
       "      <td>sleeping cat erasers</td>\n",
       "      <td>2019-01-01 11:57:00</td>\n",
       "    </tr>\n",
       "    <tr>\n",
       "      <th>1314</th>\n",
       "      <td>6293034</td>\n",
       "      <td>460488</td>\n",
       "      <td>365820</td>\n",
       "      <td>30</td>\n",
       "      <td>2.811236</td>\n",
       "      <td>jumbo bag scandinavian blue paisley</td>\n",
       "      <td>2019-01-01 10:52:00</td>\n",
       "    </tr>\n",
       "    <tr>\n",
       "      <th>1380</th>\n",
       "      <td>6293056</td>\n",
       "      <td>460488</td>\n",
       "      <td>353073</td>\n",
       "      <td>9</td>\n",
       "      <td>2.811236</td>\n",
       "      <td>jumbo bag scandinavian blue paisley</td>\n",
       "      <td>2019-01-01 11:20:00</td>\n",
       "    </tr>\n",
       "    <tr>\n",
       "      <th>1564</th>\n",
       "      <td>6292737</td>\n",
       "      <td>460488</td>\n",
       "      <td>338079</td>\n",
       "      <td>30</td>\n",
       "      <td>2.811236</td>\n",
       "      <td>jumbo bag scandinavian blue paisley</td>\n",
       "      <td>2019-01-01 09:13:00</td>\n",
       "    </tr>\n",
       "    <tr>\n",
       "      <th>...</th>\n",
       "      <td>...</td>\n",
       "      <td>...</td>\n",
       "      <td>...</td>\n",
       "      <td>...</td>\n",
       "      <td>...</td>\n",
       "      <td>...</td>\n",
       "      <td>...</td>\n",
       "    </tr>\n",
       "    <tr>\n",
       "      <th>360358</th>\n",
       "      <td>6292550</td>\n",
       "      <td>482790</td>\n",
       "      <td>364266</td>\n",
       "      <td>3</td>\n",
       "      <td>6.840000</td>\n",
       "      <td>cotton apron pantry design</td>\n",
       "      <td>2019-01-01 08:23:00</td>\n",
       "    </tr>\n",
       "    <tr>\n",
       "      <th>360459</th>\n",
       "      <td>6292539</td>\n",
       "      <td>487767</td>\n",
       "      <td>362103</td>\n",
       "      <td>72</td>\n",
       "      <td>1.730000</td>\n",
       "      <td>filigree heart butterfly white</td>\n",
       "      <td>2019-01-01 08:21:00</td>\n",
       "    </tr>\n",
       "    <tr>\n",
       "      <th>360537</th>\n",
       "      <td>6292671</td>\n",
       "      <td>491232</td>\n",
       "      <td>261954</td>\n",
       "      <td>36</td>\n",
       "      <td>2.880000</td>\n",
       "      <td>spaceboy rocket lolly makers</td>\n",
       "      <td>2019-01-01 08:53:00</td>\n",
       "    </tr>\n",
       "    <tr>\n",
       "      <th>360557</th>\n",
       "      <td>6292253</td>\n",
       "      <td>491232</td>\n",
       "      <td>373044</td>\n",
       "      <td>3</td>\n",
       "      <td>2.880000</td>\n",
       "      <td>spaceboy rocket lolly makers</td>\n",
       "      <td>2019-01-01 07:03:00</td>\n",
       "    </tr>\n",
       "    <tr>\n",
       "      <th>360711</th>\n",
       "      <td>6293133</td>\n",
       "      <td>1788843</td>\n",
       "      <td>368991</td>\n",
       "      <td>3</td>\n",
       "      <td>1.730000</td>\n",
       "      <td>charlie &amp; lola wastepaper bin flora blue</td>\n",
       "      <td>2019-01-01 11:57:00</td>\n",
       "    </tr>\n",
       "  </tbody>\n",
       "</table>\n",
       "<p>2064 rows × 7 columns</p>\n",
       "</div>"
      ],
      "text/plain": [
       "        trans_id  item_id  user_id  amount      cost  \\\n",
       "448      6292638   482769   383292       6  4.490000   \n",
       "794      6293133   340977   368991       3  0.290000   \n",
       "1314     6293034   460488   365820      30  2.811236   \n",
       "1380     6293056   460488   353073       9  2.811236   \n",
       "1564     6292737   460488   338079      30  2.811236   \n",
       "...          ...      ...      ...     ...       ...   \n",
       "360358   6292550   482790   364266       3  6.840000   \n",
       "360459   6292539   487767   362103      72  1.730000   \n",
       "360537   6292671   491232   261954      36  2.880000   \n",
       "360557   6292253   491232   373044       3  2.880000   \n",
       "360711   6293133  1788843   368991       3  1.730000   \n",
       "\n",
       "                                     description           timestamp  \n",
       "448               set 2 pantry design tea towels 2019-01-01 08:43:00  \n",
       "794                         sleeping cat erasers 2019-01-01 11:57:00  \n",
       "1314         jumbo bag scandinavian blue paisley 2019-01-01 10:52:00  \n",
       "1380         jumbo bag scandinavian blue paisley 2019-01-01 11:20:00  \n",
       "1564         jumbo bag scandinavian blue paisley 2019-01-01 09:13:00  \n",
       "...                                          ...                 ...  \n",
       "360358                cotton apron pantry design 2019-01-01 08:23:00  \n",
       "360459           filigree heart butterfly white  2019-01-01 08:21:00  \n",
       "360537              spaceboy rocket lolly makers 2019-01-01 08:53:00  \n",
       "360557              spaceboy rocket lolly makers 2019-01-01 07:03:00  \n",
       "360711  charlie & lola wastepaper bin flora blue 2019-01-01 11:57:00  \n",
       "\n",
       "[2064 rows x 7 columns]"
      ]
     },
     "execution_count": 29,
     "metadata": {},
     "output_type": "execute_result"
    }
   ],
   "source": [
    "truth_"
   ]
  },
  {
   "cell_type": "code",
   "execution_count": 27,
   "metadata": {},
   "outputs": [
    {
     "data": {
      "text/html": [
       "<div>\n",
       "<style scoped>\n",
       "    .dataframe tbody tr th:only-of-type {\n",
       "        vertical-align: middle;\n",
       "    }\n",
       "\n",
       "    .dataframe tbody tr th {\n",
       "        vertical-align: top;\n",
       "    }\n",
       "\n",
       "    .dataframe thead th {\n",
       "        text-align: right;\n",
       "    }\n",
       "</style>\n",
       "<table border=\"1\" class=\"dataframe\">\n",
       "  <thead>\n",
       "    <tr style=\"text-align: right;\">\n",
       "      <th></th>\n",
       "      <th>user_id</th>\n",
       "      <th>recommendation</th>\n",
       "      <th>segment</th>\n",
       "      <th>trans_id</th>\n",
       "      <th>item_id</th>\n",
       "      <th>amount</th>\n",
       "      <th>cost</th>\n",
       "      <th>description</th>\n",
       "      <th>timestamp</th>\n",
       "      <th>is_correct</th>\n",
       "    </tr>\n",
       "  </thead>\n",
       "  <tbody>\n",
       "    <tr>\n",
       "      <th>651</th>\n",
       "      <td>341964</td>\n",
       "      <td>[490728, 494949, 490665, 485100, 493584, 47365...</td>\n",
       "      <td>warm</td>\n",
       "      <td>6292814</td>\n",
       "      <td>475041</td>\n",
       "      <td>12</td>\n",
       "      <td>2.280000</td>\n",
       "      <td>traditional knitting nancy</td>\n",
       "      <td>2019-01-01 09:54:00</td>\n",
       "      <td>True</td>\n",
       "    </tr>\n",
       "    <tr>\n",
       "      <th>662</th>\n",
       "      <td>341964</td>\n",
       "      <td>[490728, 494949, 490665, 485100, 493584, 47365...</td>\n",
       "      <td>warm</td>\n",
       "      <td>6292814</td>\n",
       "      <td>459711</td>\n",
       "      <td>6</td>\n",
       "      <td>1.931676</td>\n",
       "      <td>traditional wooden skipping rope</td>\n",
       "      <td>2019-01-01 09:54:00</td>\n",
       "      <td>True</td>\n",
       "    </tr>\n",
       "    <tr>\n",
       "      <th>674</th>\n",
       "      <td>341964</td>\n",
       "      <td>[490728, 494949, 490665, 485100, 493584, 47365...</td>\n",
       "      <td>warm</td>\n",
       "      <td>6292814</td>\n",
       "      <td>481110</td>\n",
       "      <td>6</td>\n",
       "      <td>4.080000</td>\n",
       "      <td>paper chain kit vintage christmas</td>\n",
       "      <td>2019-01-01 09:54:00</td>\n",
       "      <td>True</td>\n",
       "    </tr>\n",
       "    <tr>\n",
       "      <th>688</th>\n",
       "      <td>341964</td>\n",
       "      <td>[490728, 494949, 490665, 485100, 493584, 47365...</td>\n",
       "      <td>warm</td>\n",
       "      <td>6292814</td>\n",
       "      <td>477246</td>\n",
       "      <td>3</td>\n",
       "      <td>5.180000</td>\n",
       "      <td>alarm clock bakelike green</td>\n",
       "      <td>2019-01-01 09:54:00</td>\n",
       "      <td>True</td>\n",
       "    </tr>\n",
       "    <tr>\n",
       "      <th>742</th>\n",
       "      <td>318339</td>\n",
       "      <td>[1665741, 487368, 1787079, 487221, 470064, 470...</td>\n",
       "      <td>old</td>\n",
       "      <td>6292726</td>\n",
       "      <td>1665741</td>\n",
       "      <td>72</td>\n",
       "      <td>7.346296</td>\n",
       "      <td>chilli lights</td>\n",
       "      <td>2019-01-01 09:07:00</td>\n",
       "      <td>True</td>\n",
       "    </tr>\n",
       "    <tr>\n",
       "      <th>...</th>\n",
       "      <td>...</td>\n",
       "      <td>...</td>\n",
       "      <td>...</td>\n",
       "      <td>...</td>\n",
       "      <td>...</td>\n",
       "      <td>...</td>\n",
       "      <td>...</td>\n",
       "      <td>...</td>\n",
       "      <td>...</td>\n",
       "      <td>...</td>\n",
       "    </tr>\n",
       "    <tr>\n",
       "      <th>1987</th>\n",
       "      <td>364665</td>\n",
       "      <td>[482244, 472269, 443562, 473949, 487032, 48104...</td>\n",
       "      <td>old</td>\n",
       "      <td>6292407</td>\n",
       "      <td>473949</td>\n",
       "      <td>18</td>\n",
       "      <td>5.180000</td>\n",
       "      <td>feltcraft cushion butterfly</td>\n",
       "      <td>2019-01-01 08:07:00</td>\n",
       "      <td>True</td>\n",
       "    </tr>\n",
       "    <tr>\n",
       "      <th>2003</th>\n",
       "      <td>364665</td>\n",
       "      <td>[482244, 472269, 443562, 473949, 487032, 48104...</td>\n",
       "      <td>old</td>\n",
       "      <td>6292407</td>\n",
       "      <td>487032</td>\n",
       "      <td>18</td>\n",
       "      <td>2.280000</td>\n",
       "      <td>bundle of 3 alphabet exercise books</td>\n",
       "      <td>2019-01-01 08:07:00</td>\n",
       "      <td>True</td>\n",
       "    </tr>\n",
       "    <tr>\n",
       "      <th>2022</th>\n",
       "      <td>312186</td>\n",
       "      <td>[477162, 477477, 481110, 481950, 481992, 48108...</td>\n",
       "      <td>old</td>\n",
       "      <td>6292341</td>\n",
       "      <td>481992</td>\n",
       "      <td>432</td>\n",
       "      <td>0.760000</td>\n",
       "      <td>60 cake cases vintage christmas 72</td>\n",
       "      <td>2019-01-01 07:53:00</td>\n",
       "      <td>True</td>\n",
       "    </tr>\n",
       "    <tr>\n",
       "      <th>2039</th>\n",
       "      <td>278523</td>\n",
       "      <td>[486066, 487326, 477225, 477246, 477267, 47728...</td>\n",
       "      <td>old</td>\n",
       "      <td>6292803</td>\n",
       "      <td>1732374</td>\n",
       "      <td>9</td>\n",
       "      <td>4.080000</td>\n",
       "      <td>wooden frame antique white</td>\n",
       "      <td>2019-01-01 09:46:00</td>\n",
       "      <td>True</td>\n",
       "    </tr>\n",
       "    <tr>\n",
       "      <th>2056</th>\n",
       "      <td>278523</td>\n",
       "      <td>[486066, 487326, 477225, 477246, 477267, 47728...</td>\n",
       "      <td>old</td>\n",
       "      <td>6292803</td>\n",
       "      <td>1732122</td>\n",
       "      <td>9</td>\n",
       "      <td>3.641361</td>\n",
       "      <td>wooden picture frame white finish</td>\n",
       "      <td>2019-01-01 09:46:00</td>\n",
       "      <td>True</td>\n",
       "    </tr>\n",
       "  </tbody>\n",
       "</table>\n",
       "<p>64 rows × 10 columns</p>\n",
       "</div>"
      ],
      "text/plain": [
       "      user_id                                     recommendation segment  \\\n",
       "651    341964  [490728, 494949, 490665, 485100, 493584, 47365...    warm   \n",
       "662    341964  [490728, 494949, 490665, 485100, 493584, 47365...    warm   \n",
       "674    341964  [490728, 494949, 490665, 485100, 493584, 47365...    warm   \n",
       "688    341964  [490728, 494949, 490665, 485100, 493584, 47365...    warm   \n",
       "742    318339  [1665741, 487368, 1787079, 487221, 470064, 470...     old   \n",
       "...       ...                                                ...     ...   \n",
       "1987   364665  [482244, 472269, 443562, 473949, 487032, 48104...     old   \n",
       "2003   364665  [482244, 472269, 443562, 473949, 487032, 48104...     old   \n",
       "2022   312186  [477162, 477477, 481110, 481950, 481992, 48108...     old   \n",
       "2039   278523  [486066, 487326, 477225, 477246, 477267, 47728...     old   \n",
       "2056   278523  [486066, 487326, 477225, 477246, 477267, 47728...     old   \n",
       "\n",
       "      trans_id  item_id  amount      cost  \\\n",
       "651    6292814   475041      12  2.280000   \n",
       "662    6292814   459711       6  1.931676   \n",
       "674    6292814   481110       6  4.080000   \n",
       "688    6292814   477246       3  5.180000   \n",
       "742    6292726  1665741      72  7.346296   \n",
       "...        ...      ...     ...       ...   \n",
       "1987   6292407   473949      18  5.180000   \n",
       "2003   6292407   487032      18  2.280000   \n",
       "2022   6292341   481992     432  0.760000   \n",
       "2039   6292803  1732374       9  4.080000   \n",
       "2056   6292803  1732122       9  3.641361   \n",
       "\n",
       "                              description           timestamp  is_correct  \n",
       "651            traditional knitting nancy 2019-01-01 09:54:00        True  \n",
       "662      traditional wooden skipping rope 2019-01-01 09:54:00        True  \n",
       "674     paper chain kit vintage christmas 2019-01-01 09:54:00        True  \n",
       "688            alarm clock bakelike green 2019-01-01 09:54:00        True  \n",
       "742                         chilli lights 2019-01-01 09:07:00        True  \n",
       "...                                   ...                 ...         ...  \n",
       "1987          feltcraft cushion butterfly 2019-01-01 08:07:00        True  \n",
       "2003  bundle of 3 alphabet exercise books 2019-01-01 08:07:00        True  \n",
       "2022   60 cake cases vintage christmas 72 2019-01-01 07:53:00        True  \n",
       "2039          wooden frame antique white  2019-01-01 09:46:00        True  \n",
       "2056    wooden picture frame white finish 2019-01-01 09:46:00        True  \n",
       "\n",
       "[64 rows x 10 columns]"
      ]
     },
     "execution_count": 27,
     "metadata": {},
     "output_type": "execute_result"
    }
   ],
   "source": [
    "pred_tomorrow.merge(truth_,how='inner',on='user_id')\\\n",
    "    .assign(is_correct=lambda x: x.apply(lambda x:x.item_id in x.recommendation,axis=1))\\\n",
    "        .loc[lambda x:x.is_correct==True]"
   ]
  },
  {
   "cell_type": "code",
   "execution_count": 32,
   "metadata": {},
   "outputs": [],
   "source": [
    "df_res=pred_tomorrow.merge(truth_,how='inner',on='user_id')"
   ]
  },
  {
   "cell_type": "code",
   "execution_count": 33,
   "metadata": {},
   "outputs": [
    {
     "data": {
      "text/html": [
       "<div>\n",
       "<style scoped>\n",
       "    .dataframe tbody tr th:only-of-type {\n",
       "        vertical-align: middle;\n",
       "    }\n",
       "\n",
       "    .dataframe tbody tr th {\n",
       "        vertical-align: top;\n",
       "    }\n",
       "\n",
       "    .dataframe thead th {\n",
       "        text-align: right;\n",
       "    }\n",
       "</style>\n",
       "<table border=\"1\" class=\"dataframe\">\n",
       "  <thead>\n",
       "    <tr style=\"text-align: right;\">\n",
       "      <th></th>\n",
       "      <th>user_id</th>\n",
       "      <th>recommendation</th>\n",
       "      <th>segment</th>\n",
       "      <th>trans_id</th>\n",
       "      <th>item_id</th>\n",
       "      <th>amount</th>\n",
       "      <th>cost</th>\n",
       "      <th>description</th>\n",
       "      <th>timestamp</th>\n",
       "    </tr>\n",
       "  </thead>\n",
       "  <tbody>\n",
       "    <tr>\n",
       "      <th>0</th>\n",
       "      <td>291837</td>\n",
       "      <td>[490371, 463806, 489678, 481992, 477519, 47745...</td>\n",
       "      <td>warm</td>\n",
       "      <td>6292946</td>\n",
       "      <td>477477</td>\n",
       "      <td>30</td>\n",
       "      <td>2.280000</td>\n",
       "      <td>ribbon reel christmas present</td>\n",
       "      <td>2019-01-01 10:30:00</td>\n",
       "    </tr>\n",
       "    <tr>\n",
       "      <th>1</th>\n",
       "      <td>291837</td>\n",
       "      <td>[490371, 463806, 489678, 481992, 477519, 47745...</td>\n",
       "      <td>warm</td>\n",
       "      <td>6292946</td>\n",
       "      <td>490329</td>\n",
       "      <td>36</td>\n",
       "      <td>1.730000</td>\n",
       "      <td>roll wrap vintage christmas</td>\n",
       "      <td>2019-01-01 10:30:00</td>\n",
       "    </tr>\n",
       "    <tr>\n",
       "      <th>2</th>\n",
       "      <td>291837</td>\n",
       "      <td>[490371, 463806, 489678, 481992, 477519, 47745...</td>\n",
       "      <td>warm</td>\n",
       "      <td>6292946</td>\n",
       "      <td>490896</td>\n",
       "      <td>72</td>\n",
       "      <td>0.540000</td>\n",
       "      <td>pack of 12 vintage christmas tissue</td>\n",
       "      <td>2019-01-01 10:30:00</td>\n",
       "    </tr>\n",
       "    <tr>\n",
       "      <th>3</th>\n",
       "      <td>291837</td>\n",
       "      <td>[490371, 463806, 489678, 481992, 477519, 47745...</td>\n",
       "      <td>warm</td>\n",
       "      <td>6292946</td>\n",
       "      <td>485751</td>\n",
       "      <td>12</td>\n",
       "      <td>5.730000</td>\n",
       "      <td>miseltoe heart wreath white mistletoe cream</td>\n",
       "      <td>2019-01-01 10:30:00</td>\n",
       "    </tr>\n",
       "    <tr>\n",
       "      <th>4</th>\n",
       "      <td>291837</td>\n",
       "      <td>[490371, 463806, 489678, 481992, 477519, 47745...</td>\n",
       "      <td>warm</td>\n",
       "      <td>6292946</td>\n",
       "      <td>477372</td>\n",
       "      <td>54</td>\n",
       "      <td>1.730000</td>\n",
       "      <td>3d vintage christmas stickers</td>\n",
       "      <td>2019-01-01 10:30:00</td>\n",
       "    </tr>\n",
       "    <tr>\n",
       "      <th>...</th>\n",
       "      <td>...</td>\n",
       "      <td>...</td>\n",
       "      <td>...</td>\n",
       "      <td>...</td>\n",
       "      <td>...</td>\n",
       "      <td>...</td>\n",
       "      <td>...</td>\n",
       "      <td>...</td>\n",
       "      <td>...</td>\n",
       "    </tr>\n",
       "    <tr>\n",
       "      <th>2059</th>\n",
       "      <td>278523</td>\n",
       "      <td>[486066, 487326, 477225, 477246, 477267, 47728...</td>\n",
       "      <td>old</td>\n",
       "      <td>6292803</td>\n",
       "      <td>489741</td>\n",
       "      <td>6</td>\n",
       "      <td>2.280000</td>\n",
       "      <td>small white heart of wicker</td>\n",
       "      <td>2019-01-01 09:46:00</td>\n",
       "    </tr>\n",
       "    <tr>\n",
       "      <th>2060</th>\n",
       "      <td>298494</td>\n",
       "      <td>[470883, 476637, 477120, 482349, 476679, 46651...</td>\n",
       "      <td>old</td>\n",
       "      <td>6292352</td>\n",
       "      <td>470358</td>\n",
       "      <td>36</td>\n",
       "      <td>0.882078</td>\n",
       "      <td>magnets pack of 4 swallows</td>\n",
       "      <td>2019-01-01 07:54:00</td>\n",
       "    </tr>\n",
       "    <tr>\n",
       "      <th>2061</th>\n",
       "      <td>298494</td>\n",
       "      <td>[470883, 476637, 477120, 482349, 476679, 46651...</td>\n",
       "      <td>old</td>\n",
       "      <td>6292352</td>\n",
       "      <td>474432</td>\n",
       "      <td>12</td>\n",
       "      <td>5.180000</td>\n",
       "      <td>cardholder holly wreath metal</td>\n",
       "      <td>2019-01-01 07:54:00</td>\n",
       "    </tr>\n",
       "    <tr>\n",
       "      <th>2062</th>\n",
       "      <td>298494</td>\n",
       "      <td>[470883, 476637, 477120, 482349, 476679, 46651...</td>\n",
       "      <td>old</td>\n",
       "      <td>6292352</td>\n",
       "      <td>489678</td>\n",
       "      <td>18</td>\n",
       "      <td>3.440000</td>\n",
       "      <td>box of 6 mini vintage crackers</td>\n",
       "      <td>2019-01-01 07:54:00</td>\n",
       "    </tr>\n",
       "    <tr>\n",
       "      <th>2063</th>\n",
       "      <td>298494</td>\n",
       "      <td>[470883, 476637, 477120, 482349, 476679, 46651...</td>\n",
       "      <td>old</td>\n",
       "      <td>6292352</td>\n",
       "      <td>490224</td>\n",
       "      <td>30</td>\n",
       "      <td>2.880000</td>\n",
       "      <td>jumbo bag 50's christmas</td>\n",
       "      <td>2019-01-01 07:54:00</td>\n",
       "    </tr>\n",
       "  </tbody>\n",
       "</table>\n",
       "<p>2064 rows × 9 columns</p>\n",
       "</div>"
      ],
      "text/plain": [
       "      user_id                                     recommendation segment  \\\n",
       "0      291837  [490371, 463806, 489678, 481992, 477519, 47745...    warm   \n",
       "1      291837  [490371, 463806, 489678, 481992, 477519, 47745...    warm   \n",
       "2      291837  [490371, 463806, 489678, 481992, 477519, 47745...    warm   \n",
       "3      291837  [490371, 463806, 489678, 481992, 477519, 47745...    warm   \n",
       "4      291837  [490371, 463806, 489678, 481992, 477519, 47745...    warm   \n",
       "...       ...                                                ...     ...   \n",
       "2059   278523  [486066, 487326, 477225, 477246, 477267, 47728...     old   \n",
       "2060   298494  [470883, 476637, 477120, 482349, 476679, 46651...     old   \n",
       "2061   298494  [470883, 476637, 477120, 482349, 476679, 46651...     old   \n",
       "2062   298494  [470883, 476637, 477120, 482349, 476679, 46651...     old   \n",
       "2063   298494  [470883, 476637, 477120, 482349, 476679, 46651...     old   \n",
       "\n",
       "      trans_id  item_id  amount      cost  \\\n",
       "0      6292946   477477      30  2.280000   \n",
       "1      6292946   490329      36  1.730000   \n",
       "2      6292946   490896      72  0.540000   \n",
       "3      6292946   485751      12  5.730000   \n",
       "4      6292946   477372      54  1.730000   \n",
       "...        ...      ...     ...       ...   \n",
       "2059   6292803   489741       6  2.280000   \n",
       "2060   6292352   470358      36  0.882078   \n",
       "2061   6292352   474432      12  5.180000   \n",
       "2062   6292352   489678      18  3.440000   \n",
       "2063   6292352   490224      30  2.880000   \n",
       "\n",
       "                                      description           timestamp  \n",
       "0                  ribbon reel christmas present  2019-01-01 10:30:00  \n",
       "1                     roll wrap vintage christmas 2019-01-01 10:30:00  \n",
       "2             pack of 12 vintage christmas tissue 2019-01-01 10:30:00  \n",
       "3     miseltoe heart wreath white mistletoe cream 2019-01-01 10:30:00  \n",
       "4                  3d vintage christmas stickers  2019-01-01 10:30:00  \n",
       "...                                           ...                 ...  \n",
       "2059                  small white heart of wicker 2019-01-01 09:46:00  \n",
       "2060                   magnets pack of 4 swallows 2019-01-01 07:54:00  \n",
       "2061                cardholder holly wreath metal 2019-01-01 07:54:00  \n",
       "2062               box of 6 mini vintage crackers 2019-01-01 07:54:00  \n",
       "2063                    jumbo bag 50's christmas  2019-01-01 07:54:00  \n",
       "\n",
       "[2064 rows x 9 columns]"
      ]
     },
     "execution_count": 33,
     "metadata": {},
     "output_type": "execute_result"
    }
   ],
   "source": [
    "df_res"
   ]
  },
  {
   "cell_type": "markdown",
   "metadata": {},
   "source": [
    "Run dt"
   ]
  },
  {
   "cell_type": "code",
   "execution_count": 16,
   "metadata": {},
   "outputs": [],
   "source": [
    "ls_dt=[]\n",
    "ls_correct=[]\n",
    "ls_pool=[]\n",
    "dt=datetime(2019,1,1)\n",
    "dt_end=datetime(2019,2,28)"
   ]
  },
  {
   "cell_type": "code",
   "execution_count": 26,
   "metadata": {},
   "outputs": [
    {
     "name": "stdout",
     "output_type": "stream",
     "text": [
      "load\n",
      "load\n"
     ]
    },
    {
     "name": "stderr",
     "output_type": "stream",
     "text": [
      "                                                                                \r"
     ]
    },
    {
     "name": "stdout",
     "output_type": "stream",
     "text": [
      "load\n"
     ]
    },
    {
     "name": "stderr",
     "output_type": "stream",
     "text": [
      "                                                                                \r"
     ]
    },
    {
     "name": "stdout",
     "output_type": "stream",
     "text": [
      "load\n"
     ]
    },
    {
     "name": "stderr",
     "output_type": "stream",
     "text": [
      "                                                                                \r"
     ]
    },
    {
     "name": "stdout",
     "output_type": "stream",
     "text": [
      "load\n"
     ]
    },
    {
     "name": "stderr",
     "output_type": "stream",
     "text": [
      "                                                                                \r"
     ]
    },
    {
     "name": "stdout",
     "output_type": "stream",
     "text": [
      "load\n"
     ]
    },
    {
     "name": "stderr",
     "output_type": "stream",
     "text": [
      "                                                                                \r"
     ]
    },
    {
     "name": "stdout",
     "output_type": "stream",
     "text": [
      "load\n"
     ]
    },
    {
     "name": "stderr",
     "output_type": "stream",
     "text": [
      "                                                                                \r"
     ]
    },
    {
     "name": "stdout",
     "output_type": "stream",
     "text": [
      "load\n",
      "load\n"
     ]
    },
    {
     "name": "stderr",
     "output_type": "stream",
     "text": [
      "                                                                                \r"
     ]
    },
    {
     "name": "stdout",
     "output_type": "stream",
     "text": [
      "load\n"
     ]
    },
    {
     "name": "stderr",
     "output_type": "stream",
     "text": [
      "                                                                                \r"
     ]
    },
    {
     "name": "stdout",
     "output_type": "stream",
     "text": [
      "load\n"
     ]
    },
    {
     "name": "stderr",
     "output_type": "stream",
     "text": [
      "                                                                                \r"
     ]
    },
    {
     "name": "stdout",
     "output_type": "stream",
     "text": [
      "load\n"
     ]
    },
    {
     "name": "stderr",
     "output_type": "stream",
     "text": [
      "                                                                                \r"
     ]
    },
    {
     "name": "stdout",
     "output_type": "stream",
     "text": [
      "load\n"
     ]
    },
    {
     "name": "stderr",
     "output_type": "stream",
     "text": [
      "                                                                                \r"
     ]
    },
    {
     "name": "stdout",
     "output_type": "stream",
     "text": [
      "load\n"
     ]
    },
    {
     "name": "stderr",
     "output_type": "stream",
     "text": [
      "                                                                                \r"
     ]
    },
    {
     "name": "stdout",
     "output_type": "stream",
     "text": [
      "load\n",
      "load\n"
     ]
    },
    {
     "name": "stderr",
     "output_type": "stream",
     "text": [
      "                                                                                \r"
     ]
    },
    {
     "name": "stdout",
     "output_type": "stream",
     "text": [
      "load\n"
     ]
    },
    {
     "name": "stderr",
     "output_type": "stream",
     "text": [
      "                                                                                \r"
     ]
    },
    {
     "name": "stdout",
     "output_type": "stream",
     "text": [
      "load\n"
     ]
    },
    {
     "name": "stderr",
     "output_type": "stream",
     "text": [
      "                                                                                \r"
     ]
    },
    {
     "name": "stdout",
     "output_type": "stream",
     "text": [
      "load\n"
     ]
    },
    {
     "name": "stderr",
     "output_type": "stream",
     "text": [
      "                                                                                \r"
     ]
    },
    {
     "name": "stdout",
     "output_type": "stream",
     "text": [
      "load\n"
     ]
    },
    {
     "name": "stderr",
     "output_type": "stream",
     "text": [
      "                                                                                \r"
     ]
    },
    {
     "name": "stdout",
     "output_type": "stream",
     "text": [
      "load\n"
     ]
    },
    {
     "name": "stderr",
     "output_type": "stream",
     "text": [
      "                                                                                \r"
     ]
    },
    {
     "name": "stdout",
     "output_type": "stream",
     "text": [
      "load\n",
      "load\n"
     ]
    },
    {
     "name": "stderr",
     "output_type": "stream",
     "text": [
      "                                                                                \r"
     ]
    },
    {
     "name": "stdout",
     "output_type": "stream",
     "text": [
      "load\n"
     ]
    },
    {
     "name": "stderr",
     "output_type": "stream",
     "text": [
      "                                                                                \r"
     ]
    },
    {
     "name": "stdout",
     "output_type": "stream",
     "text": [
      "load\n"
     ]
    },
    {
     "name": "stderr",
     "output_type": "stream",
     "text": [
      "                                                                                \r"
     ]
    },
    {
     "name": "stdout",
     "output_type": "stream",
     "text": [
      "load\n"
     ]
    },
    {
     "name": "stderr",
     "output_type": "stream",
     "text": [
      "                                                                                \r"
     ]
    },
    {
     "name": "stdout",
     "output_type": "stream",
     "text": [
      "load\n"
     ]
    },
    {
     "name": "stderr",
     "output_type": "stream",
     "text": [
      "                                                                                \r"
     ]
    },
    {
     "ename": "KeyboardInterrupt",
     "evalue": "",
     "output_type": "error",
     "traceback": [
      "\u001b[0;31m---------------------------------------------------------------------------\u001b[0m",
      "\u001b[0;31mKeyboardInterrupt\u001b[0m                         Traceback (most recent call last)",
      "\u001b[1;32m/Users/lap14171/interview/notebook/04_evaluation.ipynb Cell 32\u001b[0m in \u001b[0;36m<cell line: 1>\u001b[0;34m()\u001b[0m\n\u001b[1;32m      <a href='vscode-notebook-cell:/Users/lap14171/interview/notebook/04_evaluation.ipynb#X65sZmlsZQ%3D%3D?line=1'>2</a>\u001b[0m data_\u001b[39m=\u001b[39mdf_\u001b[39m.\u001b[39mloc[\u001b[39mlambda\u001b[39;00m x:x\u001b[39m.\u001b[39mtimestamp\u001b[39m<\u001b[39mdt]\n\u001b[1;32m      <a href='vscode-notebook-cell:/Users/lap14171/interview/notebook/04_evaluation.ipynb#X65sZmlsZQ%3D%3D?line=2'>3</a>\u001b[0m recommender_\u001b[39m=\u001b[39mRecommender(spark\u001b[39m=\u001b[39mspark)\n\u001b[0;32m----> <a href='vscode-notebook-cell:/Users/lap14171/interview/notebook/04_evaluation.ipynb#X65sZmlsZQ%3D%3D?line=3'>4</a>\u001b[0m recommender_\u001b[39m.\u001b[39;49mfit(data_)\n\u001b[1;32m      <a href='vscode-notebook-cell:/Users/lap14171/interview/notebook/04_evaluation.ipynb#X65sZmlsZQ%3D%3D?line=4'>5</a>\u001b[0m recommender_\u001b[39m.\u001b[39m_init_recommendation(data_item\u001b[39m=\u001b[39mdf_item,dt\u001b[39m=\u001b[39mdt)\n\u001b[1;32m      <a href='vscode-notebook-cell:/Users/lap14171/interview/notebook/04_evaluation.ipynb#X65sZmlsZQ%3D%3D?line=5'>6</a>\u001b[0m truth_\u001b[39m=\u001b[39mdf_\u001b[39m.\u001b[39mloc[\u001b[39mlambda\u001b[39;00m x:(dt\u001b[39m<\u001b[39m\u001b[39m=\u001b[39mx\u001b[39m.\u001b[39mtimestamp)\u001b[39m&\u001b[39m(x\u001b[39m.\u001b[39mtimestamp\u001b[39m<\u001b[39mdt\u001b[39m+\u001b[39mtimedelta(\u001b[39m1\u001b[39m))]\n",
      "File \u001b[0;32m~/interview/recommender/Recommender.py:65\u001b[0m, in \u001b[0;36mRecommender.fit\u001b[0;34m(self, data)\u001b[0m\n\u001b[1;32m     63\u001b[0m \u001b[39mdef\u001b[39;00m \u001b[39mfit\u001b[39m(\u001b[39mself\u001b[39m, data: pd\u001b[39m.\u001b[39mDataFrame):\n\u001b[1;32m     64\u001b[0m     \u001b[39msuper\u001b[39m()\u001b[39m.\u001b[39mfit(data)\n\u001b[0;32m---> 65\u001b[0m     \u001b[39mself\u001b[39m\u001b[39m.\u001b[39mdata_parquet\u001b[39m=\u001b[39m\u001b[39mself\u001b[39;49m\u001b[39m.\u001b[39;49mspark\u001b[39m.\u001b[39;49mcreateDataFrame(\u001b[39mself\u001b[39;49m\u001b[39m.\u001b[39;49mdata)\n\u001b[1;32m     67\u001b[0m     \u001b[39mself\u001b[39m\u001b[39m.\u001b[39m_checkin_user_data\u001b[39m=\u001b[39m\u001b[39mself\u001b[39m\u001b[39m.\u001b[39mdata_parquet\u001b[39m.\u001b[39mgroupBy(\u001b[39m'\u001b[39m\u001b[39muser_id\u001b[39m\u001b[39m'\u001b[39m)\u001b[39m.\u001b[39magg(\n\u001b[1;32m     68\u001b[0m         F\u001b[39m.\u001b[39mcountDistinct(\u001b[39m'\u001b[39m\u001b[39mtrans_id\u001b[39m\u001b[39m'\u001b[39m)\u001b[39m.\u001b[39malias(\u001b[39m'\u001b[39m\u001b[39mnum_trans\u001b[39m\u001b[39m'\u001b[39m)\n\u001b[1;32m     69\u001b[0m     )\u001b[39m.\u001b[39mcache()\n",
      "File \u001b[0;32m/data/data_science/spark/spark-3.1.2-bin-hadoop3.2/python/lib/pyspark.zip/pyspark/sql/session.py:673\u001b[0m, in \u001b[0;36mSparkSession.createDataFrame\u001b[0;34m(self, data, schema, samplingRatio, verifySchema)\u001b[0m\n\u001b[1;32m    670\u001b[0m     has_pandas \u001b[39m=\u001b[39m \u001b[39mFalse\u001b[39;00m\n\u001b[1;32m    671\u001b[0m \u001b[39mif\u001b[39;00m has_pandas \u001b[39mand\u001b[39;00m \u001b[39misinstance\u001b[39m(data, pandas\u001b[39m.\u001b[39mDataFrame):\n\u001b[1;32m    672\u001b[0m     \u001b[39m# Create a DataFrame from pandas DataFrame.\u001b[39;00m\n\u001b[0;32m--> 673\u001b[0m     \u001b[39mreturn\u001b[39;00m \u001b[39msuper\u001b[39;49m(SparkSession, \u001b[39mself\u001b[39;49m)\u001b[39m.\u001b[39;49mcreateDataFrame(\n\u001b[1;32m    674\u001b[0m         data, schema, samplingRatio, verifySchema)\n\u001b[1;32m    675\u001b[0m \u001b[39mreturn\u001b[39;00m \u001b[39mself\u001b[39m\u001b[39m.\u001b[39m_create_dataframe(data, schema, samplingRatio, verifySchema)\n",
      "File \u001b[0;32m/data/data_science/spark/spark-3.1.2-bin-hadoop3.2/python/lib/pyspark.zip/pyspark/sql/pandas/conversion.py:299\u001b[0m, in \u001b[0;36mSparkConversionMixin.createDataFrame\u001b[0;34m(self, data, schema, samplingRatio, verifySchema)\u001b[0m\n\u001b[1;32m    297\u001b[0m             warnings\u001b[39m.\u001b[39mwarn(msg)\n\u001b[1;32m    298\u001b[0m             \u001b[39mraise\u001b[39;00m\n\u001b[0;32m--> 299\u001b[0m data \u001b[39m=\u001b[39m \u001b[39mself\u001b[39;49m\u001b[39m.\u001b[39;49m_convert_from_pandas(data, schema, timezone)\n\u001b[1;32m    300\u001b[0m \u001b[39mreturn\u001b[39;00m \u001b[39mself\u001b[39m\u001b[39m.\u001b[39m_create_dataframe(data, schema, samplingRatio, verifySchema)\n",
      "File \u001b[0;32m/data/data_science/spark/spark-3.1.2-bin-hadoop3.2/python/lib/pyspark.zip/pyspark/sql/pandas/conversion.py:332\u001b[0m, in \u001b[0;36mSparkConversionMixin._convert_from_pandas\u001b[0;34m(self, pdf, schema, timezone)\u001b[0m\n\u001b[1;32m    330\u001b[0m \u001b[39melse\u001b[39;00m:\n\u001b[1;32m    331\u001b[0m     \u001b[39mfor\u001b[39;00m column, series \u001b[39min\u001b[39;00m pdf\u001b[39m.\u001b[39miteritems():\n\u001b[0;32m--> 332\u001b[0m         s \u001b[39m=\u001b[39m _check_series_convert_timestamps_tz_local(series, timezone)\n\u001b[1;32m    333\u001b[0m         \u001b[39mif\u001b[39;00m s \u001b[39mis\u001b[39;00m \u001b[39mnot\u001b[39;00m series:\n\u001b[1;32m    334\u001b[0m             \u001b[39mif\u001b[39;00m \u001b[39mnot\u001b[39;00m copied:\n\u001b[1;32m    335\u001b[0m                 \u001b[39m# Copy once if the series is modified to prevent the original\u001b[39;00m\n\u001b[1;32m    336\u001b[0m                 \u001b[39m# Pandas DataFrame from being updated\u001b[39;00m\n",
      "File \u001b[0;32m/data/data_science/spark/spark-3.1.2-bin-hadoop3.2/python/lib/pyspark.zip/pyspark/sql/pandas/types.py:324\u001b[0m, in \u001b[0;36m_check_series_convert_timestamps_tz_local\u001b[0;34m(s, timezone)\u001b[0m\n\u001b[1;32m    309\u001b[0m \u001b[39mdef\u001b[39;00m \u001b[39m_check_series_convert_timestamps_tz_local\u001b[39m(s, timezone):\n\u001b[1;32m    310\u001b[0m     \u001b[39m\"\"\"\u001b[39;00m\n\u001b[1;32m    311\u001b[0m \u001b[39m    Convert timestamp to timezone-naive in the specified timezone or local timezone\u001b[39;00m\n\u001b[1;32m    312\u001b[0m \n\u001b[0;32m   (...)\u001b[0m\n\u001b[1;32m    322\u001b[0m \u001b[39m        `pandas.Series` where if it is a timestamp, has been converted to tz-naive\u001b[39;00m\n\u001b[1;32m    323\u001b[0m \u001b[39m    \"\"\"\u001b[39;00m\n\u001b[0;32m--> 324\u001b[0m     \u001b[39mreturn\u001b[39;00m _check_series_convert_timestamps_localize(s, timezone, \u001b[39mNone\u001b[39;49;00m)\n",
      "File \u001b[0;32m/data/data_science/spark/spark-3.1.2-bin-hadoop3.2/python/lib/pyspark.zip/pyspark/sql/pandas/types.py:284\u001b[0m, in \u001b[0;36m_check_series_convert_timestamps_localize\u001b[0;34m(s, from_timezone, to_timezone)\u001b[0m\n\u001b[1;32m    281\u001b[0m     \u001b[39mreturn\u001b[39;00m s\u001b[39m.\u001b[39mdt\u001b[39m.\u001b[39mtz_convert(to_tz)\u001b[39m.\u001b[39mdt\u001b[39m.\u001b[39mtz_localize(\u001b[39mNone\u001b[39;00m)\n\u001b[1;32m    282\u001b[0m \u001b[39melif\u001b[39;00m is_datetime64_dtype(s\u001b[39m.\u001b[39mdtype) \u001b[39mand\u001b[39;00m from_tz \u001b[39m!=\u001b[39m to_tz:\n\u001b[1;32m    283\u001b[0m     \u001b[39m# `s.dt.tz_localize('tzlocal()')` doesn't work properly when including NaT.\u001b[39;00m\n\u001b[0;32m--> 284\u001b[0m     \u001b[39mreturn\u001b[39;00m s\u001b[39m.\u001b[39;49mapply(\n\u001b[1;32m    285\u001b[0m         \u001b[39mlambda\u001b[39;49;00m ts: ts\u001b[39m.\u001b[39;49mtz_localize(from_tz, ambiguous\u001b[39m=\u001b[39;49m\u001b[39mFalse\u001b[39;49;00m)\u001b[39m.\u001b[39;49mtz_convert(to_tz)\u001b[39m.\u001b[39;49mtz_localize(\u001b[39mNone\u001b[39;49;00m)\n\u001b[1;32m    286\u001b[0m         \u001b[39mif\u001b[39;49;00m ts \u001b[39mis\u001b[39;49;00m \u001b[39mnot\u001b[39;49;00m pd\u001b[39m.\u001b[39;49mNaT \u001b[39melse\u001b[39;49;00m pd\u001b[39m.\u001b[39;49mNaT)\n\u001b[1;32m    287\u001b[0m \u001b[39melse\u001b[39;00m:\n\u001b[1;32m    288\u001b[0m     \u001b[39mreturn\u001b[39;00m s\n",
      "File \u001b[0;32m~/EDA/new_env/lib/python3.9/site-packages/pandas/core/series.py:4357\u001b[0m, in \u001b[0;36mSeries.apply\u001b[0;34m(self, func, convert_dtype, args, **kwargs)\u001b[0m\n\u001b[1;32m   4247\u001b[0m \u001b[39mdef\u001b[39;00m \u001b[39mapply\u001b[39m(\n\u001b[1;32m   4248\u001b[0m     \u001b[39mself\u001b[39m,\n\u001b[1;32m   4249\u001b[0m     func: AggFuncType,\n\u001b[0;32m   (...)\u001b[0m\n\u001b[1;32m   4252\u001b[0m     \u001b[39m*\u001b[39m\u001b[39m*\u001b[39mkwargs,\n\u001b[1;32m   4253\u001b[0m ) \u001b[39m-\u001b[39m\u001b[39m>\u001b[39m FrameOrSeriesUnion:\n\u001b[1;32m   4254\u001b[0m     \u001b[39m\"\"\"\u001b[39;00m\n\u001b[1;32m   4255\u001b[0m \u001b[39m    Invoke function on values of Series.\u001b[39;00m\n\u001b[1;32m   4256\u001b[0m \n\u001b[0;32m   (...)\u001b[0m\n\u001b[1;32m   4355\u001b[0m \u001b[39m    dtype: float64\u001b[39;00m\n\u001b[1;32m   4356\u001b[0m \u001b[39m    \"\"\"\u001b[39;00m\n\u001b[0;32m-> 4357\u001b[0m     \u001b[39mreturn\u001b[39;00m SeriesApply(\u001b[39mself\u001b[39;49m, func, convert_dtype, args, kwargs)\u001b[39m.\u001b[39;49mapply()\n",
      "File \u001b[0;32m~/EDA/new_env/lib/python3.9/site-packages/pandas/core/apply.py:1043\u001b[0m, in \u001b[0;36mSeriesApply.apply\u001b[0;34m(self)\u001b[0m\n\u001b[1;32m   1039\u001b[0m \u001b[39mif\u001b[39;00m \u001b[39misinstance\u001b[39m(\u001b[39mself\u001b[39m\u001b[39m.\u001b[39mf, \u001b[39mstr\u001b[39m):\n\u001b[1;32m   1040\u001b[0m     \u001b[39m# if we are a string, try to dispatch\u001b[39;00m\n\u001b[1;32m   1041\u001b[0m     \u001b[39mreturn\u001b[39;00m \u001b[39mself\u001b[39m\u001b[39m.\u001b[39mapply_str()\n\u001b[0;32m-> 1043\u001b[0m \u001b[39mreturn\u001b[39;00m \u001b[39mself\u001b[39;49m\u001b[39m.\u001b[39;49mapply_standard()\n",
      "File \u001b[0;32m~/EDA/new_env/lib/python3.9/site-packages/pandas/core/apply.py:1098\u001b[0m, in \u001b[0;36mSeriesApply.apply_standard\u001b[0;34m(self)\u001b[0m\n\u001b[1;32m   1092\u001b[0m         values \u001b[39m=\u001b[39m obj\u001b[39m.\u001b[39mastype(\u001b[39mobject\u001b[39m)\u001b[39m.\u001b[39m_values\n\u001b[1;32m   1093\u001b[0m         \u001b[39m# error: Argument 2 to \"map_infer\" has incompatible type\u001b[39;00m\n\u001b[1;32m   1094\u001b[0m         \u001b[39m# \"Union[Callable[..., Any], str, List[Union[Callable[..., Any], str]],\u001b[39;00m\n\u001b[1;32m   1095\u001b[0m         \u001b[39m# Dict[Hashable, Union[Union[Callable[..., Any], str],\u001b[39;00m\n\u001b[1;32m   1096\u001b[0m         \u001b[39m# List[Union[Callable[..., Any], str]]]]]\"; expected\u001b[39;00m\n\u001b[1;32m   1097\u001b[0m         \u001b[39m# \"Callable[[Any], Any]\"\u001b[39;00m\n\u001b[0;32m-> 1098\u001b[0m         mapped \u001b[39m=\u001b[39m lib\u001b[39m.\u001b[39;49mmap_infer(\n\u001b[1;32m   1099\u001b[0m             values,\n\u001b[1;32m   1100\u001b[0m             f,  \u001b[39m# type: ignore[arg-type]\u001b[39;49;00m\n\u001b[1;32m   1101\u001b[0m             convert\u001b[39m=\u001b[39;49m\u001b[39mself\u001b[39;49m\u001b[39m.\u001b[39;49mconvert_dtype,\n\u001b[1;32m   1102\u001b[0m         )\n\u001b[1;32m   1104\u001b[0m \u001b[39mif\u001b[39;00m \u001b[39mlen\u001b[39m(mapped) \u001b[39mand\u001b[39;00m \u001b[39misinstance\u001b[39m(mapped[\u001b[39m0\u001b[39m], ABCSeries):\n\u001b[1;32m   1105\u001b[0m     \u001b[39m# GH 25959 use pd.array instead of tolist\u001b[39;00m\n\u001b[1;32m   1106\u001b[0m     \u001b[39m# so extension arrays can be used\u001b[39;00m\n\u001b[1;32m   1107\u001b[0m     \u001b[39mreturn\u001b[39;00m obj\u001b[39m.\u001b[39m_constructor_expanddim(pd_array(mapped), index\u001b[39m=\u001b[39mobj\u001b[39m.\u001b[39mindex)\n",
      "File \u001b[0;32m~/EDA/new_env/lib/python3.9/site-packages/pandas/_libs/lib.pyx:2859\u001b[0m, in \u001b[0;36mpandas._libs.lib.map_infer\u001b[0;34m()\u001b[0m\n",
      "File \u001b[0;32m/data/data_science/spark/spark-3.1.2-bin-hadoop3.2/python/lib/pyspark.zip/pyspark/sql/pandas/types.py:285\u001b[0m, in \u001b[0;36m_check_series_convert_timestamps_localize.<locals>.<lambda>\u001b[0;34m(ts)\u001b[0m\n\u001b[1;32m    281\u001b[0m     \u001b[39mreturn\u001b[39;00m s\u001b[39m.\u001b[39mdt\u001b[39m.\u001b[39mtz_convert(to_tz)\u001b[39m.\u001b[39mdt\u001b[39m.\u001b[39mtz_localize(\u001b[39mNone\u001b[39;00m)\n\u001b[1;32m    282\u001b[0m \u001b[39melif\u001b[39;00m is_datetime64_dtype(s\u001b[39m.\u001b[39mdtype) \u001b[39mand\u001b[39;00m from_tz \u001b[39m!=\u001b[39m to_tz:\n\u001b[1;32m    283\u001b[0m     \u001b[39m# `s.dt.tz_localize('tzlocal()')` doesn't work properly when including NaT.\u001b[39;00m\n\u001b[1;32m    284\u001b[0m     \u001b[39mreturn\u001b[39;00m s\u001b[39m.\u001b[39mapply(\n\u001b[0;32m--> 285\u001b[0m         \u001b[39mlambda\u001b[39;00m ts: ts\u001b[39m.\u001b[39;49mtz_localize(from_tz, ambiguous\u001b[39m=\u001b[39;49m\u001b[39mFalse\u001b[39;49;00m)\u001b[39m.\u001b[39;49mtz_convert(to_tz)\u001b[39m.\u001b[39mtz_localize(\u001b[39mNone\u001b[39;00m)\n\u001b[1;32m    286\u001b[0m         \u001b[39mif\u001b[39;00m ts \u001b[39mis\u001b[39;00m \u001b[39mnot\u001b[39;00m pd\u001b[39m.\u001b[39mNaT \u001b[39melse\u001b[39;00m pd\u001b[39m.\u001b[39mNaT)\n\u001b[1;32m    287\u001b[0m \u001b[39melse\u001b[39;00m:\n\u001b[1;32m    288\u001b[0m     \u001b[39mreturn\u001b[39;00m s\n",
      "\u001b[0;31mKeyboardInterrupt\u001b[0m: "
     ]
    }
   ],
   "source": [
    "while dt<dt_end:\n",
    "    data_=df_.loc[lambda x:x.timestamp<dt]\n",
    "    recommender_=Recommender(spark=spark)\n",
    "    recommender_.fit(data_)\n",
    "    recommender_._init_recommendation(data_item=df_item,dt=dt)\n",
    "    truth_=df_.loc[lambda x:(dt<=x.timestamp)&(x.timestamp<dt+timedelta(1))]\n",
    "    user_pred=list(set(truth_.sort_values('timestamp')['user_id']))\n",
    "    if len(user_pred)==0: \n",
    "        dt+=timedelta(1) \n",
    "        continue\n",
    "    pred_tomorrow=recommender.recommend_batch(user_pred,n_recommends=10)\n",
    "    \n",
    "    df_correct=pred_tomorrow.merge(truth_,how='inner',on='user_id')\\\n",
    "    .assign(is_correct=lambda x: x.apply(lambda x:x.item_id in x.recommendation,axis=1))\\\n",
    "        .loc[lambda x:x.is_correct==True]\n",
    "    \n",
    "    ls_dt.append(dt)\n",
    "    ls_correct.append(len(df_correct))\n",
    "    ls_pool.append(len(truth_))\n",
    "    dt+=timedelta(1)"
   ]
  },
  {
   "cell_type": "code",
   "execution_count": 32,
   "metadata": {},
   "outputs": [],
   "source": [
    "df_res=pd.DataFrame(\n",
    "    {\n",
    "        'dt':ls_dt,\n",
    "        'correct':ls_correct,\n",
    "        'pool':ls_pool\n",
    "    }\n",
    ").assign(acc=lambda x:x.correct/x.pool)"
   ]
  },
  {
   "cell_type": "code",
   "execution_count": 39,
   "metadata": {},
   "outputs": [
    {
     "data": {
      "text/plain": [
       "Text(0.5, 0, 'Date')"
      ]
     },
     "execution_count": 39,
     "metadata": {},
     "output_type": "execute_result"
    },
    {
     "data": {
      "image/png": "[encoded data removed]",
      "text/plain": [
       "<Figure size 432x288 with 1 Axes>"
      ]
     },
     "metadata": {
      "needs_background": "light"
     },
     "output_type": "display_data"
    }
   ],
   "source": [
    "df_res.set_index('dt').sort_index()['acc'].plot()\n",
    "plt.title('Precision@10')\n",
    "plt.ylabel('Accuracy')\n",
    "plt.xlabel('Date')"
   ]
  },
  {
   "cell_type": "code",
   "execution_count": null,
   "metadata": {},
   "outputs": [],
   "source": []
  }
 ],
 "metadata": {
  "kernelspec": {
   "display_name": "new_kernel",
   "language": "python",
   "name": "new_kernel"
  },
  "language_info": {
   "codemirror_mode": {
    "name": "ipython",
    "version": 3
   },
   "file_extension": ".py",
   "mimetype": "text/x-python",
   "name": "python",
   "nbconvert_exporter": "python",
   "pygments_lexer": "ipython3",
   "version": "3.9.7"
  },
  "orig_nbformat": 4
 },
 "nbformat": 4,
 "nbformat_minor": 2
}
