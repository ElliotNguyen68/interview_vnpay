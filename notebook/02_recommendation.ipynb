{
 "cells": [
  {
   "cell_type": "code",
   "execution_count": 1,
   "metadata": {},
   "outputs": [],
   "source": [
    "import os\n",
    "\n",
    "os.environ[\"CONFIG_PATH\"] = \"/home/locnt7\"\n",
    "\n",
    "os.environ[\"SPARK_SERVER\"] = \"SPARK@95\""
   ]
  },
  {
   "cell_type": "code",
   "execution_count": 69,
   "metadata": {},
   "outputs": [],
   "source": [
    "import datetime as dt\n",
    "import gc\n",
    "import pandas as pd\n",
    "import seaborn as sns\n",
    "import scipy\n",
    "import scipy.stats as st\n",
    "from pdp.core import hdfs_utils, spark_utils\n",
    "from pyspark.sql import functions as F\n",
    "from pyspark.sql import types as T\n",
    "from pyspark.sql.window import Window\n",
    "from typing import List\n",
    "import numpy as np\n",
    "from datetime import timedelta,datetime,date\n",
    "from sklearn.preprocessing import MultiLabelBinarizer\n",
    "from sklearn.model_selection import train_test_split\n",
    "from sklearn.neighbors import KNeighborsClassifier\n",
    "from sklearn.linear_model import LogisticRegression\n",
    "from sklearn.metrics import auc,f1_score,precision_score,recall_score,accuracy_score,confusion_matrix\n",
    "from sklearn.preprocessing import LabelEncoder\n",
    "import matplotlib.pyplot as plt \n",
    "%matplotlib inline\n",
    "\n",
    "\n",
    "def date_range(start_date, end_date):\n",
    "    for n in range(int((end_date - start_date).days)):\n",
    "        yield start_date + timedelta(n)"
   ]
  },
  {
   "cell_type": "code",
   "execution_count": 3,
   "metadata": {},
   "outputs": [
    {
     "name": "stderr",
     "output_type": "stream",
     "text": [
      "22/11/21 14:45:06 WARN NativeCodeLoader: Unable to load native-hadoop library for your platform... using builtin-java classes where applicable\n",
      "Using Spark's default log4j profile: org/apache/spark/log4j-defaults.properties\n",
      "Setting default log level to \"WARN\".\n",
      "To adjust logging level use sc.setLogLevel(newLevel). For SparkR, use setLogLevel(newLevel).\n"
     ]
    },
    {
     "name": "stdout",
     "output_type": "stream",
     "text": [
      "===============================================\n",
      "Spark Master: spark://10.60.37.95:7077\n",
      "UI Web:       http://10.60.37.95:9696\n",
      "Version:      3.1.2\n",
      "App Name:     RECOMMENDATION TRANSACTION DATA\n"
     ]
    }
   ],
   "source": [
    "from pdp.core import spark_utils,hdfs_utils\n",
    "from pyspark.sql import functions as F\n",
    "\n",
    "import datetime as dt\n",
    "NO_CORES=8\n",
    "spark = spark_utils.get_spark_session(\n",
    "    app_name=\"recommendation transaction data\",\n",
    "    cores=NO_CORES,\n",
    "    driver_memory=32,\n",
    "    executor_memory=32,\n",
    "    ui_port=9696,\n",
    "    log_level=\"ERROR\",\n",
    ")"
   ]
  },
  {
   "cell_type": "code",
   "execution_count": 4,
   "metadata": {},
   "outputs": [],
   "source": [
    "df_pandas=pd.read_csv('files/transaction_data.csv',na_values=(\" \",\"?\",\"_\",\"-1\"))\\\n",
    "    .assign(TransactionTime=lambda x: x.TransactionTime.apply(lambda x: datetime.strptime(x,'%a %b %d %H:%M:%S IST %Y')))\\\n",
    "    .assign(ItemDescription=lambda x: x.ItemDescription.astype(str))\\\n",
    "    .assign(Country=lambda x: x.Country.astype(str))"
   ]
  },
  {
   "cell_type": "code",
   "execution_count": 5,
   "metadata": {},
   "outputs": [],
   "source": [
    "df_=spark.createDataFrame(df_pandas)"
   ]
  },
  {
   "cell_type": "code",
   "execution_count": 6,
   "metadata": {},
   "outputs": [],
   "source": [
    "df=df_.select(\n",
    "    F.col('UserId').alias('user_id'),\n",
    "    F.col('TransactionId').alias('trans_id'),\n",
    "    F.col('TransactionTime').alias('timestamp'),\n",
    "    F.col('ItemCode').alias('item_id'),\n",
    "    F.col('ItemDescription').alias('item_metadata'),\n",
    "    F.col('NumberOfItemsPurchased').alias('amount'),\n",
    "    F.col('CostPerItem').alias('price_1'),\n",
    "    F.col('Country').alias('country')\n",
    ")"
   ]
  },
  {
   "cell_type": "code",
   "execution_count": 7,
   "metadata": {},
   "outputs": [],
   "source": [
    "df=df.dropna()\\\n",
    "    .filter(F.col('price_1')>0)\\\n",
    "    .filter(F.col('amount')>0)"
   ]
  },
  {
   "cell_type": "code",
   "execution_count": 8,
   "metadata": {},
   "outputs": [],
   "source": [
    "df=df.drop_duplicates()\\\n",
    "    .withColumn('user_id',F.col('user_id').cast(T.IntegerType()))\\\n",
    "    .withColumn('item_id',F.col('item_id').cast(T.IntegerType()))"
   ]
  },
  {
   "cell_type": "code",
   "execution_count": 9,
   "metadata": {},
   "outputs": [],
   "source": [
    "df_range=df.groupBy('item_id').agg(\n",
    "    F.percentile_approx('price_1',0.75).alias('rd_quantile'),\n",
    "    F.percentile_approx('price_1',0.25).alias('st_quantile'),\n",
    ").withColumn('IQR',F.col('rd_quantile')-F.col('st_quantile'))\\\n",
    ".withColumn('upper_bound',F.col('rd_quantile')+1.5*F.col('IQR'))\\\n",
    ".withColumn('lower_bound',F.col('st_quantile')-1.5*F.col('IQR'))\\\n",
    ".select('item_id','upper_bound','lower_bound').cache()"
   ]
  },
  {
   "cell_type": "code",
   "execution_count": 10,
   "metadata": {},
   "outputs": [],
   "source": [
    "df_clean=df.join(df_range,on='item_id')\\\n",
    "    .filter(F.col('price_1')<=F.col('upper_bound'))\\\n",
    "    .filter(F.col('price_1')>=F.col('lower_bound')).drop('upper_bound','lower_bound').cache()"
   ]
  },
  {
   "cell_type": "code",
   "execution_count": 19,
   "metadata": {},
   "outputs": [
    {
     "name": "stderr",
     "output_type": "stream",
     "text": [
      "                                                                                \r"
     ]
    },
    {
     "data": {
      "text/html": [
       "<table border='1'>\n",
       "<tr><th>item_id</th><th>user_id</th><th>trans_id</th><th>timestamp</th><th>item_metadata</th><th>amount</th><th>price_1</th><th>country</th></tr>\n",
       "<tr><td>434679</td><td>305004</td><td>6000753</td><td>2018-05-15 08:41:00</td><td>MOUSEY LONG LEGS ...</td><td>3</td><td>3.52</td><td>United Kingdom</td></tr>\n",
       "<tr><td>434679</td><td>298494</td><td>6003932</td><td>2018-05-19 08:26:00</td><td>MOUSEY LONG LEGS ...</td><td>18</td><td>3.52</td><td>United Kingdom</td></tr>\n",
       "<tr><td>434679</td><td>289044</td><td>6164884</td><td>2018-09-29 13:15:00</td><td>MOUSEY LONG LEGS ...</td><td>6</td><td>3.52</td><td>United Kingdom</td></tr>\n",
       "<tr><td>434679</td><td>365043</td><td>6388041</td><td>2019-02-16 13:36:00</td><td>MOUSEY LONG LEGS ...</td><td>3</td><td>3.52</td><td>United Kingdom</td></tr>\n",
       "<tr><td>434679</td><td>326445</td><td>5907396</td><td>2018-02-14 13:28:00</td><td>MOUSEY LONG LEGS ...</td><td>3</td><td>3.52</td><td>United Kingdom</td></tr>\n",
       "<tr><td>434679</td><td>259602</td><td>5986233</td><td>2018-05-01 06:30:00</td><td>MOUSEY LONG LEGS ...</td><td>18</td><td>3.52</td><td>Belgium</td></tr>\n",
       "<tr><td>434679</td><td>298515</td><td>5952133</td><td>2018-03-27 10:24:00</td><td>MOUSEY LONG LEGS ...</td><td>18</td><td>3.52</td><td>United Kingdom</td></tr>\n",
       "<tr><td>434679</td><td>361977</td><td>6347286</td><td>2019-01-29 08:55:00</td><td>MOUSEY LONG LEGS ...</td><td>6</td><td>3.52</td><td>United Kingdom</td></tr>\n",
       "<tr><td>434679</td><td>303681</td><td>6124624</td><td>2018-08-26 09:15:00</td><td>MOUSEY LONG LEGS ...</td><td>6</td><td>3.52</td><td>United Kingdom</td></tr>\n",
       "<tr><td>434679</td><td>272748</td><td>5989093</td><td>2018-05-04 10:31:00</td><td>MOUSEY LONG LEGS ...</td><td>3</td><td>3.52</td><td>United Kingdom</td></tr>\n",
       "<tr><td>434679</td><td>359289</td><td>6324329</td><td>2019-01-19 13:16:00</td><td>MOUSEY LONG LEGS ...</td><td>3</td><td>3.52</td><td>United Kingdom</td></tr>\n",
       "<tr><td>455112</td><td>344547</td><td>6203120</td><td>2018-11-02 10:00:00</td><td>WHITE SPOT RED CE...</td><td>18</td><td>1.73</td><td>United Kingdom</td></tr>\n",
       "<tr><td>455112</td><td>333207</td><td>6200920</td><td>2018-10-30 12:24:00</td><td>WHITE SPOT RED CE...</td><td>6</td><td>1.73</td><td>United Kingdom</td></tr>\n",
       "<tr><td>455112</td><td>294084</td><td>6205617</td><td>2018-11-04 08:21:00</td><td>WHITE SPOT RED CE...</td><td>36</td><td>1.73</td><td>United Kingdom</td></tr>\n",
       "<tr><td>455112</td><td>266868</td><td>6060406</td><td>2018-07-03 11:52:00</td><td>WHITE SPOT RED CE...</td><td>36</td><td>1.73</td><td>Germany</td></tr>\n",
       "<tr><td>455112</td><td>321111</td><td>6121170</td><td>2018-08-24 07:41:00</td><td>WHITE SPOT RED CE...</td><td>36</td><td>1.73</td><td>United Kingdom</td></tr>\n",
       "<tr><td>455112</td><td>276129</td><td>5992822</td><td>2018-05-07 09:57:00</td><td>WHITE SPOT RED CE...</td><td>36</td><td>1.73</td><td>United Kingdom</td></tr>\n",
       "<tr><td>455112</td><td>321531</td><td>5909145</td><td>2018-02-16 09:55:00</td><td>WHITE SPOT RED CE...</td><td>18</td><td>1.73</td><td>United Kingdom</td></tr>\n",
       "<tr><td>455112</td><td>297780</td><td>6190536</td><td>2018-10-21 08:23:00</td><td>WHITE SPOT RED CE...</td><td>36</td><td>1.73</td><td>United Kingdom</td></tr>\n",
       "<tr><td>455112</td><td>349146</td><td>6115439</td><td>2018-08-20 06:50:00</td><td>WHITE SPOT RED CE...</td><td>36</td><td>1.73</td><td>United Kingdom</td></tr>\n",
       "</table>\n",
       "only showing top 20 rows\n"
      ],
      "text/plain": [
       "+-------+-------+--------+-------------------+--------------------+------+-------+--------------+\n",
       "|item_id|user_id|trans_id|          timestamp|       item_metadata|amount|price_1|       country|\n",
       "+-------+-------+--------+-------------------+--------------------+------+-------+--------------+\n",
       "| 434679| 305004| 6000753|2018-05-15 08:41:00|MOUSEY LONG LEGS ...|     3|   3.52|United Kingdom|\n",
       "| 434679| 298494| 6003932|2018-05-19 08:26:00|MOUSEY LONG LEGS ...|    18|   3.52|United Kingdom|\n",
       "| 434679| 289044| 6164884|2018-09-29 13:15:00|MOUSEY LONG LEGS ...|     6|   3.52|United Kingdom|\n",
       "| 434679| 365043| 6388041|2019-02-16 13:36:00|MOUSEY LONG LEGS ...|     3|   3.52|United Kingdom|\n",
       "| 434679| 326445| 5907396|2018-02-14 13:28:00|MOUSEY LONG LEGS ...|     3|   3.52|United Kingdom|\n",
       "| 434679| 259602| 5986233|2018-05-01 06:30:00|MOUSEY LONG LEGS ...|    18|   3.52|       Belgium|\n",
       "| 434679| 298515| 5952133|2018-03-27 10:24:00|MOUSEY LONG LEGS ...|    18|   3.52|United Kingdom|\n",
       "| 434679| 361977| 6347286|2019-01-29 08:55:00|MOUSEY LONG LEGS ...|     6|   3.52|United Kingdom|\n",
       "| 434679| 303681| 6124624|2018-08-26 09:15:00|MOUSEY LONG LEGS ...|     6|   3.52|United Kingdom|\n",
       "| 434679| 272748| 5989093|2018-05-04 10:31:00|MOUSEY LONG LEGS ...|     3|   3.52|United Kingdom|\n",
       "| 434679| 359289| 6324329|2019-01-19 13:16:00|MOUSEY LONG LEGS ...|     3|   3.52|United Kingdom|\n",
       "| 455112| 344547| 6203120|2018-11-02 10:00:00|WHITE SPOT RED CE...|    18|   1.73|United Kingdom|\n",
       "| 455112| 333207| 6200920|2018-10-30 12:24:00|WHITE SPOT RED CE...|     6|   1.73|United Kingdom|\n",
       "| 455112| 294084| 6205617|2018-11-04 08:21:00|WHITE SPOT RED CE...|    36|   1.73|United Kingdom|\n",
       "| 455112| 266868| 6060406|2018-07-03 11:52:00|WHITE SPOT RED CE...|    36|   1.73|       Germany|\n",
       "| 455112| 321111| 6121170|2018-08-24 07:41:00|WHITE SPOT RED CE...|    36|   1.73|United Kingdom|\n",
       "| 455112| 276129| 5992822|2018-05-07 09:57:00|WHITE SPOT RED CE...|    36|   1.73|United Kingdom|\n",
       "| 455112| 321531| 5909145|2018-02-16 09:55:00|WHITE SPOT RED CE...|    18|   1.73|United Kingdom|\n",
       "| 455112| 297780| 6190536|2018-10-21 08:23:00|WHITE SPOT RED CE...|    36|   1.73|United Kingdom|\n",
       "| 455112| 349146| 6115439|2018-08-20 06:50:00|WHITE SPOT RED CE...|    36|   1.73|United Kingdom|\n",
       "+-------+-------+--------+-------------------+--------------------+------+-------+--------------+\n",
       "only showing top 20 rows"
      ]
     },
     "execution_count": 19,
     "metadata": {},
     "output_type": "execute_result"
    }
   ],
   "source": [
    "df_clean"
   ]
  },
  {
   "cell_type": "markdown",
   "metadata": {},
   "source": [
    "check unique metadata -->not consistent "
   ]
  },
  {
   "cell_type": "code",
   "execution_count": 24,
   "metadata": {},
   "outputs": [],
   "source": [
    "df_description_distinct=df_clean.groupBy('item_id').agg(\n",
    "    F.collect_set('item_metadata').alias('descriptions')\n",
    ").withColumn('num_des',F.size('descriptions')).groupBy('num_des').agg(F.count('item_id'))"
   ]
  },
  {
   "cell_type": "code",
   "execution_count": 25,
   "metadata": {},
   "outputs": [
    {
     "name": "stderr",
     "output_type": "stream",
     "text": [
      "                                                                                \r"
     ]
    },
    {
     "data": {
      "text/html": [
       "<table border='1'>\n",
       "<tr><th>num_des</th><th>count(item_id)</th></tr>\n",
       "<tr><td>1</td><td>2751</td></tr>\n",
       "<tr><td>6</td><td>8</td></tr>\n",
       "<tr><td>3</td><td>76</td></tr>\n",
       "<tr><td>5</td><td>10</td></tr>\n",
       "<tr><td>4</td><td>30</td></tr>\n",
       "<tr><td>8</td><td>2</td></tr>\n",
       "<tr><td>24</td><td>1</td></tr>\n",
       "<tr><td>2</td><td>316</td></tr>\n",
       "</table>\n"
      ],
      "text/plain": [
       "+-------+--------------+\n",
       "|num_des|count(item_id)|\n",
       "+-------+--------------+\n",
       "|      1|          2751|\n",
       "|      6|             8|\n",
       "|      3|            76|\n",
       "|      5|            10|\n",
       "|      4|            30|\n",
       "|      8|             2|\n",
       "|     24|             1|\n",
       "|      2|           316|\n",
       "+-------+--------------+"
      ]
     },
     "execution_count": 25,
     "metadata": {},
     "output_type": "execute_result"
    }
   ],
   "source": [
    "df_description_distinct"
   ]
  },
  {
   "cell_type": "code",
   "execution_count": 12,
   "metadata": {},
   "outputs": [],
   "source": [
    "df_item_all=df_clean.select('item_id','item_metadata','price_1')"
   ]
  },
  {
   "cell_type": "code",
   "execution_count": 13,
   "metadata": {},
   "outputs": [],
   "source": [
    "df_item=df_item_all.groupBy('item_id').agg(\n",
    "    F.mean('price_1').alias('cost'),\n",
    "    F.collect_set('item_metadata').alias('descriptions')\n",
    ")"
   ]
  },
  {
   "cell_type": "code",
   "execution_count": 14,
   "metadata": {},
   "outputs": [],
   "source": [
    "df_item=df_item.withColumn('union_des',F.concat_ws(',','descriptions'))\\\n",
    "    .withColumn('union_des',F.regexp_replace('union_des',r' |\\.|,|\\\\|\\||!|\\?|/',' '))\\\n",
    "    .withColumn('all_word',F.split('union_des',' '))\\\n",
    "    .withColumn('bag_of_word',F.array_distinct('all_word'))\\\n",
    "    .select('item_id','cost',F.concat_ws(' ','bag_of_word').alias('description'))\\\n",
    "    .withColumn('description',F.regexp_replace('description',r'  ',' '))\\\n",
    "    .withColumn('description',F.lower('description'))\n"
   ]
  },
  {
   "cell_type": "code",
   "execution_count": 54,
   "metadata": {},
   "outputs": [],
   "source": [
    "df_trans_time=df_clean.groupBy('trans_id').agg(\n",
    "    F.max('timestamp').alias('timestamp')\n",
    ")"
   ]
  },
  {
   "cell_type": "code",
   "execution_count": 60,
   "metadata": {},
   "outputs": [],
   "source": [
    "df_final=df_clean.select('user_id','item_id','trans_id','amount').join(df_item,on='item_id').join(df_trans_time,on='trans_id').cache()"
   ]
  },
  {
   "cell_type": "code",
   "execution_count": 58,
   "metadata": {},
   "outputs": [
    {
     "name": "stderr",
     "output_type": "stream",
     "text": [
      "                                                                                \r"
     ]
    },
    {
     "data": {
      "text/plain": [
       "361891"
      ]
     },
     "execution_count": 58,
     "metadata": {},
     "output_type": "execute_result"
    }
   ],
   "source": [
    "df_final.count()"
   ]
  },
  {
   "cell_type": "code",
   "execution_count": 87,
   "metadata": {},
   "outputs": [],
   "source": [
    "df_final=df_final.filter(F.col('timestamp')<=datetime(2019,3,1))"
   ]
  },
  {
   "cell_type": "code",
   "execution_count": 88,
   "metadata": {},
   "outputs": [],
   "source": [
    "df_final.toPandas().to_csv('/home/locnt7/files/df_final.csv',index=False)"
   ]
  },
  {
   "cell_type": "code",
   "execution_count": 121,
   "metadata": {},
   "outputs": [
    {
     "data": {
      "text/plain": [
       "3194"
      ]
     },
     "execution_count": 121,
     "metadata": {},
     "output_type": "execute_result"
    }
   ],
   "source": [
    "df_item.count()"
   ]
  },
  {
   "cell_type": "code",
   "execution_count": 19,
   "metadata": {},
   "outputs": [],
   "source": [
    "users=[272391,268695,296688,3]"
   ]
  },
  {
   "cell_type": "code",
   "execution_count": 20,
   "metadata": {},
   "outputs": [],
   "source": [
    "\n",
    "users_df=spark.createDataFrame(\n",
    "    pd.DataFrame(\n",
    "        {\n",
    "            'user_id':users\n",
    "        }\n",
    "    )\n",
    ")"
   ]
  },
  {
   "cell_type": "code",
   "execution_count": 24,
   "metadata": {},
   "outputs": [
    {
     "name": "stderr",
     "output_type": "stream",
     "text": [
      "                                                                                \r"
     ]
    },
    {
     "data": {
      "text/html": [
       "<table border='1'>\n",
       "<tr><th>user_id</th><th>num_trans</th><th>segment</th></tr>\n",
       "<tr><td>272391</td><td>83</td><td>old</td></tr>\n",
       "<tr><td>268695</td><td>1</td><td>warm</td></tr>\n",
       "<tr><td>296688</td><td>2</td><td>warm</td></tr>\n",
       "<tr><td>3</td><td>0</td><td>new</td></tr>\n",
       "</table>\n"
      ],
      "text/plain": [
       "+-------+---------+-------+\n",
       "|user_id|num_trans|segment|\n",
       "+-------+---------+-------+\n",
       "| 272391|       83|    old|\n",
       "| 268695|        1|   warm|\n",
       "| 296688|        2|   warm|\n",
       "|      3|        0|    new|\n",
       "+-------+---------+-------+"
      ]
     },
     "execution_count": 24,
     "metadata": {},
     "output_type": "execute_result"
    }
   ],
   "source": [
    "df_final.groupBy('user_id').agg(\n",
    "    F.countDistinct('trans_id').alias('num_trans')\n",
    ").join(users_df,on='user_id',how='right')\\\n",
    ".fillna(0,subset=['num_trans'])\\\n",
    ".withColumn('segment',F.when(F.col('num_trans')>3,'old').otherwise(\n",
    "            F.when((F.col('num_trans')<=3)&(F.col('num_trans')>=1),'warm').otherwise('new')\n",
    "            )\n",
    "        )"
   ]
  },
  {
   "cell_type": "markdown",
   "metadata": {},
   "source": [
    "Analysis"
   ]
  },
  {
   "cell_type": "code",
   "execution_count": 81,
   "metadata": {},
   "outputs": [
    {
     "name": "stderr",
     "output_type": "stream",
     "text": [
      "                                                                                \r"
     ]
    }
   ],
   "source": [
    "num_users=df_clean.select('user_id').distinct().count()"
   ]
  },
  {
   "cell_type": "markdown",
   "metadata": {},
   "source": [
    "check users buy same item more than onnce"
   ]
  },
  {
   "cell_type": "code",
   "execution_count": 31,
   "metadata": {},
   "outputs": [
    {
     "name": "stderr",
     "output_type": "stream",
     "text": [
      "                                                                                \r"
     ]
    }
   ],
   "source": [
    "num_user_re_buy=df_final.join(\n",
    "    df_final.select(\n",
    "        'user_id',\n",
    "        F.col('trans_id').alias('trans_id_after'),\n",
    "        F.col('timestamp').alias('timestamp_after'),\n",
    "        F.col('item_id').alias('item_id_after')\n",
    "    ),on=['user_id'])\\\n",
    "    .filter(F.col('timestamp_after')>F.col('timestamp'))\\\n",
    "    .filter(F.col('trans_id')!=F.col('trans_id_after'))\\\n",
    "    .filter(F.col('item_id')==F.col('item_id_after'))\\\n",
    "    .select('user_id').distinct().count()"
   ]
  },
  {
   "cell_type": "code",
   "execution_count": 82,
   "metadata": {},
   "outputs": [
    {
     "data": {
      "text/plain": [
       "0.5754872035689129"
      ]
     },
     "execution_count": 82,
     "metadata": {},
     "output_type": "execute_result"
    }
   ],
   "source": [
    "num_user_re_buy/num_users"
   ]
  },
  {
   "cell_type": "markdown",
   "metadata": {},
   "source": [
    "57% users will buy an item that they used to buy before --> Not a dominate number --> can filter out those item this users bought in the past to enhance cross sale"
   ]
  },
  {
   "cell_type": "code",
   "execution_count": 95,
   "metadata": {},
   "outputs": [],
   "source": [
    "df_item_re_buy=df_final.join(\n",
    "    df_final.select(\n",
    "        'user_id',\n",
    "        F.col('trans_id').alias('trans_id_after'),\n",
    "        F.col('timestamp').alias('timestamp_after'),\n",
    "        F.col('item_id').alias('item_id_after')\n",
    "    ),on=['user_id'])\\\n",
    "    .filter(F.col('timestamp_after')>F.col('timestamp'))\\\n",
    "    .filter(F.col('trans_id')!=F.col('trans_id_after'))\\\n",
    "    .filter(F.col('item_id')==F.col('item_id_after')).cache()"
   ]
  },
  {
   "cell_type": "code",
   "execution_count": 94,
   "metadata": {},
   "outputs": [
    {
     "name": "stderr",
     "output_type": "stream",
     "text": [
      "                                                                                \r"
     ]
    },
    {
     "data": {
      "text/plain": [
       "0.8199749530369442"
      ]
     },
     "execution_count": 94,
     "metadata": {},
     "output_type": "execute_result"
    }
   ],
   "source": [
    "df_item_re_buy.select('item_id').distinct().count()/df_item.count()"
   ]
  },
  {
   "cell_type": "markdown",
   "metadata": {},
   "source": [
    "82% item will be re-buy some day "
   ]
  },
  {
   "cell_type": "code",
   "execution_count": 99,
   "metadata": {},
   "outputs": [
    {
     "name": "stderr",
     "output_type": "stream",
     "text": [
      "[Stage 788:===================================================> (196 + 3) / 200]\r"
     ]
    },
    {
     "name": "stdout",
     "output_type": "stream",
     "text": [
      "+-------+---------+\n",
      "|item_id|num_users|\n",
      "+-------+---------+\n",
      "|1787079|      371|\n",
      "|1787583|      333|\n",
      "|1782459|      278|\n",
      "| 470883|      274|\n",
      "| 998886|      265|\n",
      "+-------+---------+\n",
      "only showing top 5 rows\n",
      "\n"
     ]
    },
    {
     "name": "stderr",
     "output_type": "stream",
     "text": [
      "                                                                                \r"
     ]
    }
   ],
   "source": [
    "df_item_re_buy.groupBy('item_id').agg(\n",
    "    F.countDistinct('user_id').alias('num_users')\n",
    ").orderBy(F.desc('num_users')).show(5)"
   ]
  },
  {
   "cell_type": "markdown",
   "metadata": {},
   "source": [
    "### Check frequency"
   ]
  },
  {
   "cell_type": "code",
   "execution_count": 222,
   "metadata": {},
   "outputs": [],
   "source": [
    "df_freq_per_users=df_final.groupBy('user_id').agg(\n",
    "    F.countDistinct('trans_id').alias('freq')\n",
    ").select('freq','user_id')"
   ]
  },
  {
   "cell_type": "code",
   "execution_count": 124,
   "metadata": {},
   "outputs": [
    {
     "name": "stderr",
     "output_type": "stream",
     "text": [
      "                                                                                \r"
     ]
    }
   ],
   "source": [
    "freqs=df_final.groupBy('user_id').agg(\n",
    "    F.countDistinct('trans_id').alias('freq')\n",
    ").select('freq').rdd.flatMap(lambda x: x).collect()"
   ]
  },
  {
   "cell_type": "code",
   "execution_count": 147,
   "metadata": {},
   "outputs": [
    {
     "data": {
      "text/plain": [
       "count    4259.000000\n",
       "mean        4.084996\n",
       "std         7.165776\n",
       "min         1.000000\n",
       "35%         1.000000\n",
       "40%         2.000000\n",
       "50%         2.000000\n",
       "60%         3.000000\n",
       "75%         4.000000\n",
       "80%         5.000000\n",
       "95%        13.000000\n",
       "max       202.000000\n",
       "dtype: float64"
      ]
     },
     "execution_count": 147,
     "metadata": {},
     "output_type": "execute_result"
    },
    {
     "data": {
      "image/png": "[encoded data removed]",
      "text/plain": [
       "<Figure size 1440x576 with 1 Axes>"
      ]
     },
     "metadata": {
      "needs_background": "light"
     },
     "output_type": "display_data"
    }
   ],
   "source": [
    "plt.figure(figsize=(20,8))\n",
    "plt.hist(freqs,bins=50);\n",
    "plt.title('Purchase frequency of user')\n",
    "plt.xlabel('times')\n",
    "plt.ylabel('# users')\n",
    "pd.Series(freqs).describe(percentiles=[.35,.4,.5,.6,.75,.8,.95])"
   ]
  },
  {
   "cell_type": "code",
   "execution_count": 159,
   "metadata": {},
   "outputs": [
    {
     "data": {
      "text/plain": [
       "<matplotlib.legend.Legend at 0x7f988fab3fa0>"
      ]
     },
     "execution_count": 159,
     "metadata": {},
     "output_type": "execute_result"
    },
    {
     "data": {
      "image/png": "[encoded data removed]",
      "text/plain": [
       "<Figure size 1440x576 with 1 Axes>"
      ]
     },
     "metadata": {},
     "output_type": "display_data"
    }
   ],
   "source": [
    "plt.figure(figsize=(20,8))\n",
    "plt.pie(pd.Series(freqs).value_counts(),labels=pd.Series(freqs).value_counts().index);\n",
    "plt.tight_layout()\n",
    "plt.title('Proportion frequency of users')\n",
    "plt.legend()"
   ]
  },
  {
   "cell_type": "markdown",
   "metadata": {},
   "source": [
    "35% users are new users\n"
   ]
  },
  {
   "cell_type": "code",
   "execution_count": 219,
   "metadata": {},
   "outputs": [],
   "source": [
    "user_num_item_bought=df_final.groupBy('user_id').agg(\n",
    "    F.countDistinct('item_id').alias('num_item_bought')\n",
    ").select('user_id','num_item_bought')"
   ]
  },
  {
   "cell_type": "code",
   "execution_count": 225,
   "metadata": {},
   "outputs": [
    {
     "name": "stderr",
     "output_type": "stream",
     "text": [
      "                                                                                \r"
     ]
    },
    {
     "data": {
      "text/html": [
       "<table border='1'>\n",
       "<tr><th>sum(num_item_bought)</th></tr>\n",
       "<tr><td>247343</td></tr>\n",
       "</table>\n"
      ],
      "text/plain": [
       "+--------------------+\n",
       "|sum(num_item_bought)|\n",
       "+--------------------+\n",
       "|              247343|\n",
       "+--------------------+"
      ]
     },
     "execution_count": 225,
     "metadata": {},
     "output_type": "execute_result"
    }
   ],
   "source": [
    "user_num_item_bought.join(df_freq_per_users,on='user_id').select(F.sum('num_item_bought'))"
   ]
  },
  {
   "cell_type": "code",
   "execution_count": 227,
   "metadata": {},
   "outputs": [
    {
     "name": "stderr",
     "output_type": "stream",
     "text": [
      "                                                                                \r"
     ]
    },
    {
     "data": {
      "text/plain": [
       "13603246"
      ]
     },
     "execution_count": 227,
     "metadata": {},
     "output_type": "execute_result"
    }
   ],
   "source": [
    "df_final.select('user_id').distinct().count()*df_final.select('item_id').distinct().count()"
   ]
  },
  {
   "cell_type": "code",
   "execution_count": 229,
   "metadata": {},
   "outputs": [
    {
     "data": {
      "text/plain": [
       "0.018182645524457912"
      ]
     },
     "execution_count": 229,
     "metadata": {},
     "output_type": "execute_result"
    }
   ],
   "source": [
    "247343/13603246\n",
    "# This is ~ netflix sparity ==> can do collaborative filtering\n"
   ]
  },
  {
   "cell_type": "code",
   "execution_count": 215,
   "metadata": {},
   "outputs": [],
   "source": [
    "df_rating_pd=df_final.withColumn('score',F.lit(1)).select('user_id','item_id','score').drop_duplicates().toPandas()"
   ]
  },
  {
   "cell_type": "code",
   "execution_count": 216,
   "metadata": {},
   "outputs": [],
   "source": [
    "df_rating_pd.to_csv('/home/locnt7/files/data_rating_vnpay.csv',index=False)"
   ]
  },
  {
   "cell_type": "markdown",
   "metadata": {},
   "source": [
    "Recommendation system will contain 3 segments :\n",
    "- New users: Users just enter system, have no data\n",
    "  - Enter system: Recommend most popular item\n",
    "  - Search item: Session based + Content based \n",
    "- Warm start users: Users with little information about their previous preference: \n",
    "  - Association rule based on their last purchased items when open app\n",
    "  - Search item: Session based + Content based \n",
    "- Old users: Users with dense trasaction on system:\n",
    "  - Collaborative filtering when open app\n",
    "  - Search item: Collaborative filtering + Content based \n",
    "\n",
    "When new item is added:\n",
    "- Add to list item can be found by content based method\n",
    "- When there are enough user buy this item will retrain cf model  "
   ]
  },
  {
   "cell_type": "code",
   "execution_count": 173,
   "metadata": {},
   "outputs": [],
   "source": [
    "df_item_pd=df_item.toPandas()"
   ]
  },
  {
   "cell_type": "code",
   "execution_count": 40,
   "metadata": {},
   "outputs": [
    {
     "data": {
      "text/html": [
       "<div>\n",
       "<style scoped>\n",
       "    .dataframe tbody tr th:only-of-type {\n",
       "        vertical-align: middle;\n",
       "    }\n",
       "\n",
       "    .dataframe tbody tr th {\n",
       "        vertical-align: top;\n",
       "    }\n",
       "\n",
       "    .dataframe thead th {\n",
       "        text-align: right;\n",
       "    }\n",
       "</style>\n",
       "<table border=\"1\" class=\"dataframe\">\n",
       "  <thead>\n",
       "    <tr style=\"text-align: right;\">\n",
       "      <th></th>\n",
       "      <th>item_id</th>\n",
       "      <th>num_distinct_user</th>\n",
       "    </tr>\n",
       "  </thead>\n",
       "  <tbody>\n",
       "    <tr>\n",
       "      <th>0</th>\n",
       "      <td>470883</td>\n",
       "      <td>806</td>\n",
       "    </tr>\n",
       "    <tr>\n",
       "      <th>1</th>\n",
       "      <td>1787583</td>\n",
       "      <td>768</td>\n",
       "    </tr>\n",
       "    <tr>\n",
       "      <th>2</th>\n",
       "      <td>1787079</td>\n",
       "      <td>764</td>\n",
       "    </tr>\n",
       "    <tr>\n",
       "      <th>3</th>\n",
       "      <td>998886</td>\n",
       "      <td>693</td>\n",
       "    </tr>\n",
       "    <tr>\n",
       "      <th>4</th>\n",
       "      <td>1782459</td>\n",
       "      <td>663</td>\n",
       "    </tr>\n",
       "    <tr>\n",
       "      <th>...</th>\n",
       "      <td>...</td>\n",
       "      <td>...</td>\n",
       "    </tr>\n",
       "    <tr>\n",
       "      <th>3189</th>\n",
       "      <td>787311</td>\n",
       "      <td>1</td>\n",
       "    </tr>\n",
       "    <tr>\n",
       "      <th>3190</th>\n",
       "      <td>1892184</td>\n",
       "      <td>1</td>\n",
       "    </tr>\n",
       "    <tr>\n",
       "      <th>3191</th>\n",
       "      <td>1892142</td>\n",
       "      <td>1</td>\n",
       "    </tr>\n",
       "    <tr>\n",
       "      <th>3192</th>\n",
       "      <td>1780233</td>\n",
       "      <td>1</td>\n",
       "    </tr>\n",
       "    <tr>\n",
       "      <th>3193</th>\n",
       "      <td>449694</td>\n",
       "      <td>1</td>\n",
       "    </tr>\n",
       "  </tbody>\n",
       "</table>\n",
       "<p>3194 rows × 2 columns</p>\n",
       "</div>"
      ],
      "text/plain": [
       "      item_id  num_distinct_user\n",
       "0      470883                806\n",
       "1     1787583                768\n",
       "2     1787079                764\n",
       "3      998886                693\n",
       "4     1782459                663\n",
       "...       ...                ...\n",
       "3189   787311                  1\n",
       "3190  1892184                  1\n",
       "3191  1892142                  1\n",
       "3192  1780233                  1\n",
       "3193   449694                  1\n",
       "\n",
       "[3194 rows x 2 columns]"
      ]
     },
     "execution_count": 40,
     "metadata": {},
     "output_type": "execute_result"
    }
   ],
   "source": [
    "df_final_pd.groupby('item_id').agg({\n",
    "    'user_id':pd.Series.nunique\n",
    "    }\n",
    ").rename(columns={'user_id':'num_distinct_user'}).sort_values(['num_distinct_user'],ascending=False).reset_index()"
   ]
  },
  {
   "cell_type": "code",
   "execution_count": 81,
   "metadata": {},
   "outputs": [],
   "source": [
    "dt=datetime(2022,9,1)\n",
    "window=Window.partitionBy('user_id').orderBy(F.desc('timestamp'))"
   ]
  },
  {
   "cell_type": "code",
   "execution_count": 82,
   "metadata": {},
   "outputs": [
    {
     "data": {
      "text/plain": [
       "datetime.datetime(2022, 9, 1, 0, 0)"
      ]
     },
     "execution_count": 82,
     "metadata": {},
     "output_type": "execute_result"
    }
   ],
   "source": [
    "dt"
   ]
  },
  {
   "cell_type": "code",
   "execution_count": 83,
   "metadata": {},
   "outputs": [],
   "source": [
    "df_latest_trans=df_final.filter(F.col('timestamp')<dt)\\\n",
    "    .groupBy('user_id','trans_id','timestamp').agg(\n",
    "        F.collect_set('item_id').alias('package')\n",
    "    )\\\n",
    "    .withColumn('order_trans_inverse',F.row_number().over(window))\\\n",
    "    .filter(F.col('order_trans_inverse')==1)"
   ]
  },
  {
   "cell_type": "code",
   "execution_count": 84,
   "metadata": {},
   "outputs": [
    {
     "name": "stderr",
     "output_type": "stream",
     "text": [
      "                                                                                \r"
     ]
    },
    {
     "data": {
      "text/html": [
       "<table border='1'>\n",
       "<tr><th>user_id</th><th>trans_id</th><th>timestamp</th><th>package</th><th>order_trans_inverse</th></tr>\n",
       "<tr><td>268695</td><td>6353798</td><td>2019-02-02 06:27:00</td><td>[486633, 484764, ...</td><td>1</td></tr>\n",
       "<tr><td>272391</td><td>6389702</td><td>2019-02-17 08:20:00</td><td>[454041, 488607, ...</td><td>1</td></tr>\n",
       "<tr><td>280602</td><td>6377239</td><td>2019-02-11 10:41:00</td><td>[493479, 438207, ...</td><td>1</td></tr>\n",
       "<tr><td>291417</td><td>6234305</td><td>2018-11-26 11:49:00</td><td>[489867, 455028]</td><td>1</td></tr>\n",
       "<tr><td>291501</td><td>6263488</td><td>2018-12-16 05:26:00</td><td>[1785672]</td><td>1</td></tr>\n",
       "<tr><td>296688</td><td>6273223</td><td>2018-12-22 08:00:00</td><td>[474117, 472143, ...</td><td>1</td></tr>\n",
       "<tr><td>306768</td><td>6387887</td><td>2019-02-16 12:52:00</td><td>[466347, 1764609,...</td><td>1</td></tr>\n",
       "<tr><td>310296</td><td>6291076</td><td>2018-12-31 11:34:00</td><td>[440475]</td><td>1</td></tr>\n",
       "<tr><td>318927</td><td>6394597</td><td>2019-02-19 07:56:00</td><td>[491148, 482832, ...</td><td>1</td></tr>\n",
       "<tr><td>327642</td><td>6380836</td><td>2019-02-12 10:14:00</td><td>[458010, 465234, ...</td><td>1</td></tr>\n",
       "<tr><td>331590</td><td>6374115</td><td>2019-02-10 10:53:00</td><td>[490182, 1788150,...</td><td>1</td></tr>\n",
       "<tr><td>351141</td><td>6021279</td><td>2018-06-03 12:08:00</td><td>[479577, 468195, ...</td><td>1</td></tr>\n",
       "<tr><td>351267</td><td>5921432</td><td>2018-02-21 09:48:00</td><td>[473928, 461580, ...</td><td>1</td></tr>\n",
       "<tr><td>351750</td><td>6301482</td><td>2019-01-07 08:48:00</td><td>[473928, 451185, ...</td><td>1</td></tr>\n",
       "<tr><td>352674</td><td>6395950</td><td>2019-02-19 13:54:00</td><td>[755181, 486822, ...</td><td>1</td></tr>\n",
       "<tr><td>381549</td><td>6273652</td><td>2018-12-22 08:18:00</td><td>[485751, 489762, ...</td><td>1</td></tr>\n",
       "<tr><td>259455</td><td>6076939</td><td>2018-07-21 09:49:00</td><td>[470883, 480690, ...</td><td>1</td></tr>\n",
       "<tr><td>260211</td><td>6349508</td><td>2019-01-30 08:07:00</td><td>[474306, 479178, ...</td><td>1</td></tr>\n",
       "<tr><td>263046</td><td>6397314</td><td>2019-02-20 08:09:00</td><td>[446397, 463617, ...</td><td>1</td></tr>\n",
       "<tr><td>265587</td><td>6347297</td><td>2019-01-29 08:56:00</td><td>[472605, 446817, ...</td><td>1</td></tr>\n",
       "</table>\n",
       "only showing top 20 rows\n"
      ],
      "text/plain": [
       "+-------+--------+-------------------+--------------------+-------------------+\n",
       "|user_id|trans_id|          timestamp|             package|order_trans_inverse|\n",
       "+-------+--------+-------------------+--------------------+-------------------+\n",
       "| 268695| 6353798|2019-02-02 06:27:00|[486633, 484764, ...|                  1|\n",
       "| 272391| 6389702|2019-02-17 08:20:00|[454041, 488607, ...|                  1|\n",
       "| 280602| 6377239|2019-02-11 10:41:00|[493479, 438207, ...|                  1|\n",
       "| 291417| 6234305|2018-11-26 11:49:00|    [489867, 455028]|                  1|\n",
       "| 291501| 6263488|2018-12-16 05:26:00|           [1785672]|                  1|\n",
       "| 296688| 6273223|2018-12-22 08:00:00|[474117, 472143, ...|                  1|\n",
       "| 306768| 6387887|2019-02-16 12:52:00|[466347, 1764609,...|                  1|\n",
       "| 310296| 6291076|2018-12-31 11:34:00|            [440475]|                  1|\n",
       "| 318927| 6394597|2019-02-19 07:56:00|[491148, 482832, ...|                  1|\n",
       "| 327642| 6380836|2019-02-12 10:14:00|[458010, 465234, ...|                  1|\n",
       "| 331590| 6374115|2019-02-10 10:53:00|[490182, 1788150,...|                  1|\n",
       "| 351141| 6021279|2018-06-03 12:08:00|[479577, 468195, ...|                  1|\n",
       "| 351267| 5921432|2018-02-21 09:48:00|[473928, 461580, ...|                  1|\n",
       "| 351750| 6301482|2019-01-07 08:48:00|[473928, 451185, ...|                  1|\n",
       "| 352674| 6395950|2019-02-19 13:54:00|[755181, 486822, ...|                  1|\n",
       "| 381549| 6273652|2018-12-22 08:18:00|[485751, 489762, ...|                  1|\n",
       "| 259455| 6076939|2018-07-21 09:49:00|[470883, 480690, ...|                  1|\n",
       "| 260211| 6349508|2019-01-30 08:07:00|[474306, 479178, ...|                  1|\n",
       "| 263046| 6397314|2019-02-20 08:09:00|[446397, 463617, ...|                  1|\n",
       "| 265587| 6347297|2019-01-29 08:56:00|[472605, 446817, ...|                  1|\n",
       "+-------+--------+-------------------+--------------------+-------------------+\n",
       "only showing top 20 rows"
      ]
     },
     "execution_count": 84,
     "metadata": {},
     "output_type": "execute_result"
    }
   ],
   "source": [
    "df_latest_trans.cache()"
   ]
  },
  {
   "cell_type": "markdown",
   "metadata": {},
   "source": []
  },
  {
   "cell_type": "markdown",
   "metadata": {},
   "source": [
    "## Content based"
   ]
  },
  {
   "cell_type": "code",
   "execution_count": 176,
   "metadata": {},
   "outputs": [],
   "source": [
    "from sklearn.feature_extraction.text import TfidfVectorizer\n",
    "tfidf = TfidfVectorizer(stop_words='english')\n"
   ]
  },
  {
   "cell_type": "code",
   "execution_count": 178,
   "metadata": {},
   "outputs": [],
   "source": [
    "tfidf_matrix = tfidf.fit_transform(df_item_pd['description'])\n"
   ]
  },
  {
   "cell_type": "code",
   "execution_count": 183,
   "metadata": {},
   "outputs": [],
   "source": [
    "from sklearn.metrics.pairwise import linear_kernel\n"
   ]
  },
  {
   "cell_type": "code",
   "execution_count": 184,
   "metadata": {},
   "outputs": [],
   "source": [
    "cosine_sim = linear_kernel(tfidf_matrix, tfidf_matrix)"
   ]
  },
  {
   "cell_type": "code",
   "execution_count": 200,
   "metadata": {},
   "outputs": [
    {
     "data": {
      "text/plain": [
       "scipy.sparse.csr.csr_matrix"
      ]
     },
     "execution_count": 200,
     "metadata": {},
     "output_type": "execute_result"
    }
   ],
   "source": [
    "type(tfidf_matrix)"
   ]
  },
  {
   "cell_type": "code",
   "execution_count": 203,
   "metadata": {},
   "outputs": [
    {
     "data": {
      "text/plain": [
       "array([[0., 0., 0., ..., 0., 0., 0.]])"
      ]
     },
     "execution_count": 203,
     "metadata": {},
     "output_type": "execute_result"
    }
   ],
   "source": [
    "linear_kernel(tfidf.transform(['adsf zxcv']),tfidf_matrix)"
   ]
  },
  {
   "cell_type": "code",
   "execution_count": 204,
   "metadata": {},
   "outputs": [],
   "source": [
    "a=np.array([2,1,3,4])"
   ]
  },
  {
   "cell_type": "code",
   "execution_count": 208,
   "metadata": {},
   "outputs": [
    {
     "data": {
      "text/plain": [
       "array([3, 2])"
      ]
     },
     "execution_count": 208,
     "metadata": {},
     "output_type": "execute_result"
    }
   ],
   "source": [
    "a.argsort()[::-1][:2]"
   ]
  },
  {
   "cell_type": "code",
   "execution_count": 210,
   "metadata": {},
   "outputs": [
    {
     "data": {
      "text/html": [
       "<div>\n",
       "<style scoped>\n",
       "    .dataframe tbody tr th:only-of-type {\n",
       "        vertical-align: middle;\n",
       "    }\n",
       "\n",
       "    .dataframe tbody tr th {\n",
       "        vertical-align: top;\n",
       "    }\n",
       "\n",
       "    .dataframe thead th {\n",
       "        text-align: right;\n",
       "    }\n",
       "</style>\n",
       "<table border=\"1\" class=\"dataframe\">\n",
       "  <thead>\n",
       "    <tr style=\"text-align: right;\">\n",
       "      <th></th>\n",
       "      <th>item_id</th>\n",
       "      <th>cost</th>\n",
       "      <th>description</th>\n",
       "    </tr>\n",
       "  </thead>\n",
       "  <tbody>\n",
       "    <tr>\n",
       "      <th>2</th>\n",
       "      <td>455910</td>\n",
       "      <td>6.840000</td>\n",
       "      <td>folding umbrella pinkwhite polkadot</td>\n",
       "    </tr>\n",
       "    <tr>\n",
       "      <th>4</th>\n",
       "      <td>477099</td>\n",
       "      <td>1.653529</td>\n",
       "      <td>gumball monochrome coat rack</td>\n",
       "    </tr>\n",
       "    <tr>\n",
       "      <th>1</th>\n",
       "      <td>455112</td>\n",
       "      <td>1.730000</td>\n",
       "      <td>white spot red ceramic drawer knob</td>\n",
       "    </tr>\n",
       "  </tbody>\n",
       "</table>\n",
       "</div>"
      ],
      "text/plain": [
       "   item_id      cost                          description\n",
       "2   455910  6.840000  folding umbrella pinkwhite polkadot\n",
       "4   477099  1.653529         gumball monochrome coat rack\n",
       "1   455112  1.730000   white spot red ceramic drawer knob"
      ]
     },
     "execution_count": 210,
     "metadata": {},
     "output_type": "execute_result"
    }
   ],
   "source": [
    "df_item_pd.iloc[[2,4,1]]"
   ]
  },
  {
   "cell_type": "code",
   "execution_count": 211,
   "metadata": {},
   "outputs": [],
   "source": [
    "df_item_pd.to_csv('/home/locnt7/files/data_item_vnpay.csv',index=False)"
   ]
  },
  {
   "cell_type": "code",
   "execution_count": 234,
   "metadata": {},
   "outputs": [
    {
     "name": "stderr",
     "output_type": "stream",
     "text": [
      "                                                                                \r"
     ]
    },
    {
     "data": {
      "text/html": [
       "<table border='1'>\n",
       "<tr><th>user_id</th><th>trans_id</th><th>num_items</th></tr>\n",
       "<tr><td>261954</td><td>6342677</td><td>40</td></tr>\n",
       "<tr><td>272391</td><td>6317630</td><td>3</td></tr>\n",
       "<tr><td>270690</td><td>6342886</td><td>77</td></tr>\n",
       "<tr><td>313131</td><td>6163300</td><td>61</td></tr>\n",
       "<tr><td>287574</td><td>6169713</td><td>12</td></tr>\n",
       "<tr><td>345954</td><td>6264731</td><td>75</td></tr>\n",
       "<tr><td>293853</td><td>6090348</td><td>15</td></tr>\n",
       "<tr><td>354837</td><td>5968611</td><td>30</td></tr>\n",
       "<tr><td>326172</td><td>6180735</td><td>52</td></tr>\n",
       "<tr><td>281274</td><td>6284410</td><td>25</td></tr>\n",
       "<tr><td>329427</td><td>5971768</td><td>22</td></tr>\n",
       "<tr><td>272202</td><td>6200656</td><td>11</td></tr>\n",
       "<tr><td>374661</td><td>6308456</td><td>96</td></tr>\n",
       "<tr><td>275142</td><td>6178711</td><td>11</td></tr>\n",
       "<tr><td>315756</td><td>6255799</td><td>63</td></tr>\n",
       "<tr><td>262983</td><td>5949361</td><td>7</td></tr>\n",
       "<tr><td>308742</td><td>6152949</td><td>13</td></tr>\n",
       "<tr><td>350490</td><td>6255700</td><td>7</td></tr>\n",
       "<tr><td>355551</td><td>6295201</td><td>49</td></tr>\n",
       "<tr><td>300258</td><td>6069217</td><td>29</td></tr>\n",
       "</table>\n",
       "only showing top 20 rows\n"
      ],
      "text/plain": [
       "+-------+--------+---------+\n",
       "|user_id|trans_id|num_items|\n",
       "+-------+--------+---------+\n",
       "| 261954| 6342677|       40|\n",
       "| 272391| 6317630|        3|\n",
       "| 270690| 6342886|       77|\n",
       "| 313131| 6163300|       61|\n",
       "| 287574| 6169713|       12|\n",
       "| 345954| 6264731|       75|\n",
       "| 293853| 6090348|       15|\n",
       "| 354837| 5968611|       30|\n",
       "| 326172| 6180735|       52|\n",
       "| 281274| 6284410|       25|\n",
       "| 329427| 5971768|       22|\n",
       "| 272202| 6200656|       11|\n",
       "| 374661| 6308456|       96|\n",
       "| 275142| 6178711|       11|\n",
       "| 315756| 6255799|       63|\n",
       "| 262983| 5949361|        7|\n",
       "| 308742| 6152949|       13|\n",
       "| 350490| 6255700|        7|\n",
       "| 355551| 6295201|       49|\n",
       "| 300258| 6069217|       29|\n",
       "+-------+--------+---------+\n",
       "only showing top 20 rows"
      ]
     },
     "execution_count": 234,
     "metadata": {},
     "output_type": "execute_result"
    }
   ],
   "source": [
    "df_final.groupBy('user_id','trans_id').agg(\n",
    "    F.countDistinct('item_id').alias('num_items')\n",
    ")"
   ]
  },
  {
   "cell_type": "code",
   "execution_count": 241,
   "metadata": {},
   "outputs": [],
   "source": [
    "df_package=df_final.groupBy('user_id','trans_id').agg(\n",
    "    F.collect_set('item_id').alias('items')\n",
    ").cache()"
   ]
  },
  {
   "cell_type": "code",
   "execution_count": 242,
   "metadata": {},
   "outputs": [],
   "source": [
    "from pyspark.ml.fpm import FPGrowth,FPGrowthModel"
   ]
  },
  {
   "cell_type": "code",
   "execution_count": 244,
   "metadata": {},
   "outputs": [],
   "source": [
    "fp=FPGrowth(minConfidence=0.001,minSupport=0.001,itemsCol='items')"
   ]
  },
  {
   "cell_type": "code",
   "execution_count": 245,
   "metadata": {},
   "outputs": [
    {
     "name": "stderr",
     "output_type": "stream",
     "text": [
      "                                                                                \r"
     ]
    }
   ],
   "source": [
    "model=fp.fit(df_package)"
   ]
  },
  {
   "cell_type": "code",
   "execution_count": 248,
   "metadata": {},
   "outputs": [
    {
     "name": "stderr",
     "output_type": "stream",
     "text": [
      "                                                                                \r"
     ]
    }
   ],
   "source": [
    "model.save(\"hdfs://10.60.37.61:8020/zalopay/data_platform/data_science/study/transaction_fpgrowth\")"
   ]
  },
  {
   "cell_type": "code",
   "execution_count": 252,
   "metadata": {},
   "outputs": [
    {
     "name": "stderr",
     "output_type": "stream",
     "text": [
      "                                                                                \r"
     ]
    }
   ],
   "source": [
    "model.write().overwrite().save('hdfs://10.60.37.61:8020/zalopay/data_platform/data_science/study/transaction_fpgrowth')"
   ]
  },
  {
   "cell_type": "code",
   "execution_count": 253,
   "metadata": {},
   "outputs": [],
   "source": [
    "model_=FPGrowthModel()"
   ]
  },
  {
   "cell_type": "code",
   "execution_count": 254,
   "metadata": {},
   "outputs": [
    {
     "name": "stderr",
     "output_type": "stream",
     "text": [
      "                                                                                \r"
     ]
    },
    {
     "data": {
      "text/plain": [
       "FPGrowthModel: uid=FPGrowth_ebff62b4996c, numTrainingRecords=17398"
      ]
     },
     "execution_count": 254,
     "metadata": {},
     "output_type": "execute_result"
    }
   ],
   "source": [
    "model_.load('hdfs://10.60.37.61:8020/zalopay/data_platform/data_science/study/transaction_fpgrowth')"
   ]
  },
  {
   "cell_type": "code",
   "execution_count": 246,
   "metadata": {},
   "outputs": [
    {
     "data": {
      "text/plain": [
       "FPGrowthModel: uid=FPGrowth_ebff62b4996c, numTrainingRecords=17398"
      ]
     },
     "execution_count": 246,
     "metadata": {},
     "output_type": "execute_result"
    }
   ],
   "source": [
    "model"
   ]
  },
  {
   "cell_type": "code",
   "execution_count": 247,
   "metadata": {},
   "outputs": [
    {
     "name": "stderr",
     "output_type": "stream",
     "text": [
      "                                                                                \r"
     ]
    },
    {
     "data": {
      "text/html": [
       "<table border='1'>\n",
       "<tr><th>user_id</th><th>trans_id</th><th>items</th><th>prediction</th></tr>\n",
       "<tr><td>281274</td><td>6284410</td><td>[474117, 470358, ...</td><td>[474138, 487158, ...</td></tr>\n",
       "<tr><td>283941</td><td>6395455</td><td>[755370, 486024, ...</td><td>[487158, 489573, ...</td></tr>\n",
       "<tr><td>354837</td><td>5968611</td><td>[451164, 740061, ...</td><td>[476406, 476259, ...</td></tr>\n",
       "<tr><td>374661</td><td>6308456</td><td>[466452, 476259, ...</td><td>[435246, 470631, ...</td></tr>\n",
       "<tr><td>382158</td><td>6387469</td><td>[476070, 456078, ...</td><td>[484029, 484071, ...</td></tr>\n",
       "<tr><td>382746</td><td>6239090</td><td>[487242, 486465, ...</td><td>[487305, 475881, ...</td></tr>\n",
       "<tr><td>261954</td><td>6342677</td><td>[462567, 481740, ...</td><td>[490413, 487158, ...</td></tr>\n",
       "<tr><td>268338</td><td>6352214</td><td>[435099, 435183, ...</td><td>[460593, 434931, ...</td></tr>\n",
       "<tr><td>280119</td><td>6095364</td><td>[470967, 479787, ...</td><td>[476679, 477120, ...</td></tr>\n",
       "<tr><td>313131</td><td>6163300</td><td>[339276, 1890630,...</td><td>[474810, 474789, ...</td></tr>\n",
       "<tr><td>315756</td><td>6255799</td><td>[489216, 339276, ...</td><td>[490224, 435267, ...</td></tr>\n",
       "<tr><td>325941</td><td>6160869</td><td>[472353, 487830, ...</td><td>[486276, 489069, ...</td></tr>\n",
       "<tr><td>326172</td><td>6180735</td><td>[443352, 465507, ...</td><td>[468951, 445452, ...</td></tr>\n",
       "<tr><td>327474</td><td>6223866</td><td>[478212, 487011, ...</td><td>[475272, 493563, ...</td></tr>\n",
       "<tr><td>345954</td><td>6264731</td><td>[491190, 475293, ...</td><td>[479514, 489678, ...</td></tr>\n",
       "<tr><td>275142</td><td>6178711</td><td>[488229, 482916, ...</td><td>[486276, 489069, ...</td></tr>\n",
       "<tr><td>332451</td><td>6279097</td><td>[473907, 475293, ...</td><td>[457590, 473550, ...</td></tr>\n",
       "<tr><td>344631</td><td>6352731</td><td>[464310, 484890, ...</td><td>[475041, 477414, ...</td></tr>\n",
       "<tr><td>344925</td><td>5979710</td><td>[475104, 1781472,...</td><td>[1010436, 488943,...</td></tr>\n",
       "<tr><td>363027</td><td>6166336</td><td>[474096, 1782459,...</td><td>[449190, 468216, ...</td></tr>\n",
       "</table>\n",
       "only showing top 20 rows\n"
      ],
      "text/plain": [
       "+-------+--------+--------------------+--------------------+\n",
       "|user_id|trans_id|               items|          prediction|\n",
       "+-------+--------+--------------------+--------------------+\n",
       "| 281274| 6284410|[474117, 470358, ...|[474138, 487158, ...|\n",
       "| 283941| 6395455|[755370, 486024, ...|[487158, 489573, ...|\n",
       "| 354837| 5968611|[451164, 740061, ...|[476406, 476259, ...|\n",
       "| 374661| 6308456|[466452, 476259, ...|[435246, 470631, ...|\n",
       "| 382158| 6387469|[476070, 456078, ...|[484029, 484071, ...|\n",
       "| 382746| 6239090|[487242, 486465, ...|[487305, 475881, ...|\n",
       "| 261954| 6342677|[462567, 481740, ...|[490413, 487158, ...|\n",
       "| 268338| 6352214|[435099, 435183, ...|[460593, 434931, ...|\n",
       "| 280119| 6095364|[470967, 479787, ...|[476679, 477120, ...|\n",
       "| 313131| 6163300|[339276, 1890630,...|[474810, 474789, ...|\n",
       "| 315756| 6255799|[489216, 339276, ...|[490224, 435267, ...|\n",
       "| 325941| 6160869|[472353, 487830, ...|[486276, 489069, ...|\n",
       "| 326172| 6180735|[443352, 465507, ...|[468951, 445452, ...|\n",
       "| 327474| 6223866|[478212, 487011, ...|[475272, 493563, ...|\n",
       "| 345954| 6264731|[491190, 475293, ...|[479514, 489678, ...|\n",
       "| 275142| 6178711|[488229, 482916, ...|[486276, 489069, ...|\n",
       "| 332451| 6279097|[473907, 475293, ...|[457590, 473550, ...|\n",
       "| 344631| 6352731|[464310, 484890, ...|[475041, 477414, ...|\n",
       "| 344925| 5979710|[475104, 1781472,...|[1010436, 488943,...|\n",
       "| 363027| 6166336|[474096, 1782459,...|[449190, 468216, ...|\n",
       "+-------+--------+--------------------+--------------------+\n",
       "only showing top 20 rows"
      ]
     },
     "execution_count": 247,
     "metadata": {},
     "output_type": "execute_result"
    }
   ],
   "source": [
    "model.transform(df_package)"
   ]
  },
  {
   "cell_type": "code",
   "execution_count": 1,
   "metadata": {},
   "outputs": [],
   "source": [
    "import sys"
   ]
  },
  {
   "cell_type": "code",
   "execution_count": 2,
   "metadata": {},
   "outputs": [],
   "source": [
    "sys.path.append('/home/locnt7/interview/')"
   ]
  },
  {
   "cell_type": "code",
   "execution_count": 7,
   "metadata": {},
   "outputs": [],
   "source": [
    "from recommender.AssociationRule import FpGrowthRecommender\n",
    "from recommender.CollaborativeFilteringRec import CollaborativeFilteringRecommender\n",
    "from recommender.ContentBasedRec import ContentBasedRecommender"
   ]
  },
  {
   "cell_type": "code",
   "execution_count": 90,
   "metadata": {},
   "outputs": [
    {
     "name": "stderr",
     "output_type": "stream",
     "text": [
      "                                                                                \r"
     ]
    },
    {
     "data": {
      "text/html": [
       "<table border='1'>\n",
       "<tr><th>user_id</th><th>count_trans</th></tr>\n",
       "<tr><td>296688</td><td>2</td></tr>\n",
       "<tr><td>272391</td><td>82</td></tr>\n",
       "<tr><td>327642</td><td>9</td></tr>\n",
       "<tr><td>291501</td><td>6</td></tr>\n",
       "<tr><td>318927</td><td>13</td></tr>\n",
       "<tr><td>310296</td><td>11</td></tr>\n",
       "<tr><td>352674</td><td>10</td></tr>\n",
       "<tr><td>351267</td><td>1</td></tr>\n",
       "<tr><td>351750</td><td>5</td></tr>\n",
       "<tr><td>291417</td><td>1</td></tr>\n",
       "<tr><td>280602</td><td>4</td></tr>\n",
       "<tr><td>381549</td><td>1</td></tr>\n",
       "<tr><td>306768</td><td>3</td></tr>\n",
       "<tr><td>268695</td><td>1</td></tr>\n",
       "<tr><td>331590</td><td>1</td></tr>\n",
       "<tr><td>351141</td><td>1</td></tr>\n",
       "<tr><td>367731</td><td>29</td></tr>\n",
       "<tr><td>291291</td><td>13</td></tr>\n",
       "<tr><td>349146</td><td>17</td></tr>\n",
       "<tr><td>321090</td><td>18</td></tr>\n",
       "</table>\n",
       "only showing top 20 rows\n"
      ],
      "text/plain": [
       "+-------+-----------+\n",
       "|user_id|count_trans|\n",
       "+-------+-----------+\n",
       "| 318927|         13|\n",
       "| 272391|         82|\n",
       "| 310296|         11|\n",
       "| 291501|          6|\n",
       "| 327642|          9|\n",
       "| 352674|         10|\n",
       "| 280602|          4|\n",
       "| 351141|          1|\n",
       "| 306768|          3|\n",
       "| 351750|          5|\n",
       "| 268695|          1|\n",
       "| 351267|          1|\n",
       "| 296688|          2|\n",
       "| 331590|          1|\n",
       "| 381549|          1|\n",
       "| 291417|          1|\n",
       "| 265587|         10|\n",
       "| 367731|         29|\n",
       "| 371805|          9|\n",
       "| 321090|         18|\n",
       "+-------+-----------+\n",
       "only showing top 20 rows"
      ]
     },
     "execution_count": 90,
     "metadata": {},
     "output_type": "execute_result"
    }
   ],
   "source": [
    "df_final.groupBy('user_id').agg(\n",
    "    F.countDistinct('trans_id').alias('count_trans')\n",
    ").filter()"
   ]
  },
  {
   "cell_type": "code",
   "execution_count": null,
   "metadata": {},
   "outputs": [],
   "source": []
  }
 ],
 "metadata": {
  "kernelspec": {
   "display_name": "new_kernel",
   "language": "python",
   "name": "new_kernel"
  },
  "language_info": {
   "codemirror_mode": {
    "name": "ipython",
    "version": 3
   },
   "file_extension": ".py",
   "mimetype": "text/x-python",
   "name": "python",
   "nbconvert_exporter": "python",
   "pygments_lexer": "ipython3",
   "version": "3.9.7"
  },
  "orig_nbformat": 4,
  "vscode": {
   "interpreter": {
    "hash": "aee8b7b246df8f9039afb4144a1f6fd8d2ca17a180786b69acc140d282b71a49"
   }
  }
 },
 "nbformat": 4,
 "nbformat_minor": 2
}
