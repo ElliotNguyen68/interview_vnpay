{
 "cells": [
  {
   "cell_type": "code",
   "execution_count": 1,
   "metadata": {},
   "outputs": [],
   "source": [
    "import os\n",
    "\n",
    "os.environ[\"CONFIG_PATH\"] = \"/home/locnt7\"\n",
    "\n",
    "os.environ[\"SPARK_SERVER\"] = \"SPARK@95\""
   ]
  },
  {
   "cell_type": "code",
   "execution_count": 2,
   "metadata": {},
   "outputs": [],
   "source": [
    "import datetime as dt\n",
    "import gc\n",
    "import pandas as pd\n",
    "import seaborn as sns\n",
    "import scipy\n",
    "import scipy.stats as st\n",
    "from pdp.core import hdfs_utils, spark_utils\n",
    "from pyspark.sql import functions as F\n",
    "from pyspark.sql import types as T\n",
    "from pyspark.sql.window import Window\n",
    "from typing import List\n",
    "import numpy as np\n",
    "from datetime import timedelta,datetime,date\n",
    "from sklearn.preprocessing import MultiLabelBinarizer\n",
    "from sklearn.model_selection import train_test_split\n",
    "from sklearn.neighbors import KNeighborsClassifier\n",
    "from sklearn.linear_model import LogisticRegression\n",
    "from sklearn.metrics import auc,f1_score,precision_score,recall_score,accuracy_score,confusion_matrix\n",
    "from sklearn.preprocessing import LabelEncoder\n",
    "import matplotlib.pyplot as plt \n",
    "%matplotlib inline\n",
    "\n",
    "\n",
    "def date_range(start_date, end_date):\n",
    "    for n in range(int((end_date - start_date).days)):\n",
    "        yield start_date + timedelta(n)"
   ]
  },
  {
   "cell_type": "code",
   "execution_count": 5,
   "metadata": {},
   "outputs": [
    {
     "name": "stderr",
     "output_type": "stream",
     "text": [
      "22/11/18 17:26:28 WARN NativeCodeLoader: Unable to load native-hadoop library for your platform... using builtin-java classes where applicable\n",
      "Using Spark's default log4j profile: org/apache/spark/log4j-defaults.properties\n",
      "Setting default log level to \"WARN\".\n",
      "To adjust logging level use sc.setLogLevel(newLevel). For SparkR, use setLogLevel(newLevel).\n"
     ]
    },
    {
     "name": "stdout",
     "output_type": "stream",
     "text": [
      "===============================================\n",
      "Spark Master: spark://10.60.37.95:7077\n",
      "UI Web:       http://10.60.37.95:9696\n",
      "Version:      3.1.2\n",
      "App Name:     CHECK TRANSACTION DATA\n"
     ]
    }
   ],
   "source": [
    "from pdp.core import spark_utils,hdfs_utils\n",
    "from pyspark.sql import functions as F\n",
    "\n",
    "import datetime as dt\n",
    "NO_CORES=16\n",
    "spark = spark_utils.get_spark_session(\n",
    "    app_name=\"check transaction data\",\n",
    "    cores=NO_CORES,\n",
    "    driver_memory=32,\n",
    "    executor_memory=32,\n",
    "    ui_port=9696,\n",
    "    log_level=\"ERROR\",\n",
    ")"
   ]
  },
  {
   "cell_type": "code",
   "execution_count": 3,
   "metadata": {},
   "outputs": [],
   "source": [
    "df_pandas=pd.read_csv('files/transaction_data.csv',na_values=(\" \",\"?\",\"_\",\"-1\"))\\\n",
    "    .assign(TransactionTime=lambda x: x.TransactionTime.apply(lambda x: datetime.strptime(x,'%a %b %d %H:%M:%S IST %Y')))\\\n",
    "    .assign(ItemDescription=lambda x: x.ItemDescription.astype(str))\\\n",
    "    .assign(Country=lambda x: x.Country.astype(str))\n",
    "# df_pandas.ItemDescription=df_pandas.ItemDescription.astype(str)\n",
    "# df_pandas.Country=df_pandas.Country.astype(str)"
   ]
  },
  {
   "cell_type": "code",
   "execution_count": 6,
   "metadata": {},
   "outputs": [
    {
     "data": {
      "text/html": [
       "<div>\n",
       "<style scoped>\n",
       "    .dataframe tbody tr th:only-of-type {\n",
       "        vertical-align: middle;\n",
       "    }\n",
       "\n",
       "    .dataframe tbody tr th {\n",
       "        vertical-align: top;\n",
       "    }\n",
       "\n",
       "    .dataframe thead th {\n",
       "        text-align: right;\n",
       "    }\n",
       "</style>\n",
       "<table border=\"1\" class=\"dataframe\">\n",
       "  <thead>\n",
       "    <tr style=\"text-align: right;\">\n",
       "      <th></th>\n",
       "      <th>UserId</th>\n",
       "      <th>TransactionId</th>\n",
       "      <th>ItemCode</th>\n",
       "      <th>NumberOfItemsPurchased</th>\n",
       "      <th>CostPerItem</th>\n",
       "    </tr>\n",
       "  </thead>\n",
       "  <tbody>\n",
       "    <tr>\n",
       "      <th>count</th>\n",
       "      <td>813658.000000</td>\n",
       "      <td>1.083818e+06</td>\n",
       "      <td>1.078226e+06</td>\n",
       "      <td>1.083818e+06</td>\n",
       "      <td>1.083818e+06</td>\n",
       "    </tr>\n",
       "    <tr>\n",
       "      <th>mean</th>\n",
       "      <td>321041.501975</td>\n",
       "      <td>6.159417e+06</td>\n",
       "      <td>6.616827e+05</td>\n",
       "      <td>2.865675e+01</td>\n",
       "      <td>9.498798e+00</td>\n",
       "    </tr>\n",
       "    <tr>\n",
       "      <th>std</th>\n",
       "      <td>35985.584256</td>\n",
       "      <td>1.476341e+05</td>\n",
       "      <td>4.513078e+05</td>\n",
       "      <td>6.542432e+02</td>\n",
       "      <td>2.308139e+03</td>\n",
       "    </tr>\n",
       "    <tr>\n",
       "      <th>min</th>\n",
       "      <td>259266.000000</td>\n",
       "      <td>5.900015e+06</td>\n",
       "      <td>4.200000e+01</td>\n",
       "      <td>-2.429850e+05</td>\n",
       "      <td>-1.526564e+04</td>\n",
       "    </tr>\n",
       "    <tr>\n",
       "      <th>25%</th>\n",
       "      <td>293013.000000</td>\n",
       "      <td>6.026856e+06</td>\n",
       "      <td>4.614960e+05</td>\n",
       "      <td>3.000000e+00</td>\n",
       "      <td>1.730000e+00</td>\n",
       "    </tr>\n",
       "    <tr>\n",
       "      <th>50%</th>\n",
       "      <td>318192.000000</td>\n",
       "      <td>6.166611e+06</td>\n",
       "      <td>4.754190e+05</td>\n",
       "      <td>9.000000e+00</td>\n",
       "      <td>2.880000e+00</td>\n",
       "    </tr>\n",
       "    <tr>\n",
       "      <th>75%</th>\n",
       "      <td>352611.000000</td>\n",
       "      <td>6.289569e+06</td>\n",
       "      <td>4.889640e+05</td>\n",
       "      <td>3.000000e+01</td>\n",
       "      <td>5.700000e+00</td>\n",
       "    </tr>\n",
       "    <tr>\n",
       "      <th>max</th>\n",
       "      <td>384027.000000</td>\n",
       "      <td>6.397457e+06</td>\n",
       "      <td>1.894494e+06</td>\n",
       "      <td>2.429850e+05</td>\n",
       "      <td>1.696285e+06</td>\n",
       "    </tr>\n",
       "  </tbody>\n",
       "</table>\n",
       "</div>"
      ],
      "text/plain": [
       "              UserId  TransactionId      ItemCode  NumberOfItemsPurchased  \\\n",
       "count  813658.000000   1.083818e+06  1.078226e+06            1.083818e+06   \n",
       "mean   321041.501975   6.159417e+06  6.616827e+05            2.865675e+01   \n",
       "std     35985.584256   1.476341e+05  4.513078e+05            6.542432e+02   \n",
       "min    259266.000000   5.900015e+06  4.200000e+01           -2.429850e+05   \n",
       "25%    293013.000000   6.026856e+06  4.614960e+05            3.000000e+00   \n",
       "50%    318192.000000   6.166611e+06  4.754190e+05            9.000000e+00   \n",
       "75%    352611.000000   6.289569e+06  4.889640e+05            3.000000e+01   \n",
       "max    384027.000000   6.397457e+06  1.894494e+06            2.429850e+05   \n",
       "\n",
       "        CostPerItem  \n",
       "count  1.083818e+06  \n",
       "mean   9.498798e+00  \n",
       "std    2.308139e+03  \n",
       "min   -1.526564e+04  \n",
       "25%    1.730000e+00  \n",
       "50%    2.880000e+00  \n",
       "75%    5.700000e+00  \n",
       "max    1.696285e+06  "
      ]
     },
     "execution_count": 6,
     "metadata": {},
     "output_type": "execute_result"
    }
   ],
   "source": [
    "df_pandas.describe()"
   ]
  },
  {
   "cell_type": "code",
   "execution_count": 11,
   "metadata": {},
   "outputs": [
    {
     "data": {
      "text/plain": [
       "UserId                    270160\n",
       "TransactionId                  0\n",
       "TransactionTime                0\n",
       "ItemCode                    5592\n",
       "ItemDescription                0\n",
       "NumberOfItemsPurchased         0\n",
       "CostPerItem                    0\n",
       "Country                        0\n",
       "dtype: int64"
      ]
     },
     "execution_count": 11,
     "metadata": {},
     "output_type": "execute_result"
    }
   ],
   "source": [
    "df_pandas.isna().sum()"
   ]
  },
  {
   "cell_type": "code",
   "execution_count": 201,
   "metadata": {},
   "outputs": [],
   "source": [
    "df_=spark.createDataFrame(df_pandas)"
   ]
  },
  {
   "cell_type": "code",
   "execution_count": 202,
   "metadata": {},
   "outputs": [
    {
     "name": "stdout",
     "output_type": "stream",
     "text": [
      "root\n",
      " |-- UserId: double (nullable = true)\n",
      " |-- TransactionId: long (nullable = true)\n",
      " |-- TransactionTime: timestamp (nullable = true)\n",
      " |-- ItemCode: double (nullable = true)\n",
      " |-- ItemDescription: string (nullable = true)\n",
      " |-- NumberOfItemsPurchased: long (nullable = true)\n",
      " |-- CostPerItem: double (nullable = true)\n",
      " |-- Country: string (nullable = true)\n",
      "\n"
     ]
    }
   ],
   "source": [
    "df_.printSchema()"
   ]
  },
  {
   "cell_type": "code",
   "execution_count": 220,
   "metadata": {},
   "outputs": [],
   "source": [
    "df=df_.select(\n",
    "    F.col('UserId').alias('user_id'),\n",
    "    F.col('TransactionId').alias('trans_id'),\n",
    "    F.col('TransactionTime').alias('timestamp'),\n",
    "    F.col('ItemCode').alias('item_id'),\n",
    "    F.col('ItemDescription').alias('item_metadata'),\n",
    "    F.col('NumberOfItemsPurchased').alias('amount'),\n",
    "    F.col('CostPerItem').alias('price_1'),\n",
    "    F.col('Country').alias('country')\n",
    ")"
   ]
  },
  {
   "cell_type": "markdown",
   "metadata": {},
   "source": [
    "# preprocess"
   ]
  },
  {
   "cell_type": "markdown",
   "metadata": {},
   "source": [
    "### Data understanding"
   ]
  },
  {
   "cell_type": "code",
   "execution_count": 116,
   "metadata": {},
   "outputs": [
    {
     "name": "stderr",
     "output_type": "stream",
     "text": [
      "                                                                                \r"
     ]
    },
    {
     "data": {
      "text/html": [
       "<table border='1'>\n",
       "<tr><th>min(amount)</th></tr>\n",
       "<tr><td>-242985</td></tr>\n",
       "</table>\n"
      ],
      "text/plain": [
       "+-----------+\n",
       "|min(amount)|\n",
       "+-----------+\n",
       "|    -242985|\n",
       "+-----------+"
      ]
     },
     "execution_count": 116,
     "metadata": {},
     "output_type": "execute_result"
    }
   ],
   "source": [
    "df.select(F.min('amount'))"
   ]
  },
  {
   "cell_type": "code",
   "execution_count": 74,
   "metadata": {},
   "outputs": [
    {
     "name": "stderr",
     "output_type": "stream",
     "text": [
      "                                                                                \r"
     ]
    },
    {
     "data": {
      "text/html": [
       "<table border='1'>\n",
       "<tr><th>min(price)</th></tr>\n",
       "<tr><td>-15265.64</td></tr>\n",
       "</table>\n"
      ],
      "text/plain": [
       "+----------+\n",
       "|min(price)|\n",
       "+----------+\n",
       "| -15265.64|\n",
       "+----------+"
      ]
     },
     "execution_count": 74,
     "metadata": {},
     "output_type": "execute_result"
    }
   ],
   "source": [
    "df.select(F.min('price'))"
   ]
  },
  {
   "cell_type": "code",
   "execution_count": 77,
   "metadata": {},
   "outputs": [
    {
     "name": "stderr",
     "output_type": "stream",
     "text": [
      "                                                                                \r"
     ]
    },
    {
     "data": {
      "text/html": [
       "<table border='1'>\n",
       "<tr><th>max(timestamp)</th></tr>\n",
       "<tr><td>2028-02-18 14:36:00</td></tr>\n",
       "</table>\n"
      ],
      "text/plain": [
       "+-------------------+\n",
       "|     max(timestamp)|\n",
       "+-------------------+\n",
       "|2028-02-18 14:36:00|\n",
       "+-------------------+"
      ]
     },
     "execution_count": 77,
     "metadata": {},
     "output_type": "execute_result"
    }
   ],
   "source": [
    "df.select(F.max('timestamp'))"
   ]
  },
  {
   "cell_type": "code",
   "execution_count": 80,
   "metadata": {},
   "outputs": [
    {
     "name": "stderr",
     "output_type": "stream",
     "text": [
      "                                                                                \r"
     ]
    },
    {
     "data": {
      "text/plain": [
       "5926"
      ]
     },
     "execution_count": 80,
     "metadata": {},
     "output_type": "execute_result"
    }
   ],
   "source": [
    "df.filter(F.col('timestamp')>datetime(2022,12,31)).count()"
   ]
  },
  {
   "cell_type": "code",
   "execution_count": 117,
   "metadata": {},
   "outputs": [
    {
     "name": "stderr",
     "output_type": "stream",
     "text": [
      "                                                                                \r"
     ]
    },
    {
     "data": {
      "text/plain": [
       "1083818"
      ]
     },
     "execution_count": 117,
     "metadata": {},
     "output_type": "execute_result"
    }
   ],
   "source": [
    "df.count()"
   ]
  },
  {
   "cell_type": "code",
   "execution_count": 221,
   "metadata": {},
   "outputs": [],
   "source": [
    "df=df.dropna()\\\n",
    "    .filter(F.col('price_1')>0)\\\n",
    "    .filter(F.col('amount')>0)"
   ]
  },
  {
   "cell_type": "markdown",
   "metadata": {},
   "source": [
    "Check date trans"
   ]
  },
  {
   "cell_type": "code",
   "execution_count": 222,
   "metadata": {},
   "outputs": [
    {
     "name": "stderr",
     "output_type": "stream",
     "text": [
      "                                                                                \r"
     ]
    },
    {
     "data": {
      "text/html": [
       "<table border='1'>\n",
       "<tr><th>year</th><th>month</th><th>num_trans</th></tr>\n",
       "<tr><td>2018</td><td>2</td><td>1198</td></tr>\n",
       "<tr><td>2018</td><td>3</td><td>629</td></tr>\n",
       "<tr><td>2018</td><td>4</td><td>1041</td></tr>\n",
       "<tr><td>2018</td><td>5</td><td>1157</td></tr>\n",
       "<tr><td>2018</td><td>6</td><td>1365</td></tr>\n",
       "<tr><td>2018</td><td>7</td><td>1399</td></tr>\n",
       "<tr><td>2018</td><td>8</td><td>1405</td></tr>\n",
       "<tr><td>2018</td><td>9</td><td>1273</td></tr>\n",
       "<tr><td>2018</td><td>10</td><td>1361</td></tr>\n",
       "<tr><td>2018</td><td>11</td><td>1350</td></tr>\n",
       "<tr><td>2018</td><td>12</td><td>1994</td></tr>\n",
       "<tr><td>2019</td><td>1</td><td>2360</td></tr>\n",
       "<tr><td>2019</td><td>2</td><td>1802</td></tr>\n",
       "<tr><td>2028</td><td>2</td><td>71</td></tr>\n",
       "</table>\n"
      ],
      "text/plain": [
       "+----+-----+---------+\n",
       "|year|month|num_trans|\n",
       "+----+-----+---------+\n",
       "|2018|    2|     1198|\n",
       "|2018|    3|      629|\n",
       "|2018|    4|     1041|\n",
       "|2018|    5|     1157|\n",
       "|2018|    6|     1365|\n",
       "|2018|    7|     1399|\n",
       "|2018|    8|     1405|\n",
       "|2018|    9|     1273|\n",
       "|2018|   10|     1361|\n",
       "|2018|   11|     1350|\n",
       "|2018|   12|     1994|\n",
       "|2019|    1|     2360|\n",
       "|2019|    2|     1802|\n",
       "|2028|    2|       71|\n",
       "+----+-----+---------+"
      ]
     },
     "execution_count": 222,
     "metadata": {},
     "output_type": "execute_result"
    }
   ],
   "source": [
    "df.withColumn('year',F.year('timestamp'))\\\n",
    "    .withColumn('month',F.month('timestamp'))\\\n",
    "    .groupBy('year','month').agg(\n",
    "        F.countDistinct('trans_id').alias('num_trans')\n",
    "    ).orderBy('year','month')"
   ]
  },
  {
   "cell_type": "code",
   "execution_count": 223,
   "metadata": {},
   "outputs": [],
   "source": [
    "df=df.filter(F.col('timestamp')<datetime(2019,3,1))"
   ]
  },
  {
   "cell_type": "code",
   "execution_count": 205,
   "metadata": {},
   "outputs": [
    {
     "name": "stderr",
     "output_type": "stream",
     "text": [
      "                                                                                \r"
     ]
    },
    {
     "data": {
      "text/plain": [
       "792940"
      ]
     },
     "execution_count": 205,
     "metadata": {},
     "output_type": "execute_result"
    }
   ],
   "source": [
    "df.count()"
   ]
  },
  {
   "cell_type": "code",
   "execution_count": 206,
   "metadata": {},
   "outputs": [
    {
     "name": "stderr",
     "output_type": "stream",
     "text": [
      "                                                                                \r"
     ]
    },
    {
     "data": {
      "text/plain": [
       "4334"
      ]
     },
     "execution_count": 206,
     "metadata": {},
     "output_type": "execute_result"
    }
   ],
   "source": [
    "df.select('user_id').distinct().count()"
   ]
  },
  {
   "cell_type": "code",
   "execution_count": 207,
   "metadata": {},
   "outputs": [
    {
     "name": "stderr",
     "output_type": "stream",
     "text": [
      "                                                                                \r"
     ]
    },
    {
     "data": {
      "text/plain": [
       "3194"
      ]
     },
     "execution_count": 207,
     "metadata": {},
     "output_type": "execute_result"
    }
   ],
   "source": [
    "df.select('item_id').distinct().count()"
   ]
  },
  {
   "cell_type": "code",
   "execution_count": 90,
   "metadata": {},
   "outputs": [
    {
     "name": "stderr",
     "output_type": "stream",
     "text": [
      "                                                                                \r"
     ]
    },
    {
     "data": {
      "text/html": [
       "<table border='1'>\n",
       "<tr><th>user_id</th><th>num_trans</th><th>distinct_item</th></tr>\n",
       "<tr><td>328629</td><td>2</td><td>1</td></tr>\n",
       "<tr><td>275226</td><td>2</td><td>1</td></tr>\n",
       "<tr><td>377076</td><td>2</td><td>1</td></tr>\n",
       "<tr><td>356790</td><td>2</td><td>1</td></tr>\n",
       "<tr><td>316470</td><td>2</td><td>1</td></tr>\n",
       "<tr><td>326802</td><td>2</td><td>1</td></tr>\n",
       "<tr><td>323169</td><td>2</td><td>1</td></tr>\n",
       "<tr><td>383628</td><td>2</td><td>1</td></tr>\n",
       "<tr><td>288687</td><td>2</td><td>1</td></tr>\n",
       "<tr><td>317478</td><td>2</td><td>1</td></tr>\n",
       "<tr><td>379827</td><td>2</td><td>1</td></tr>\n",
       "<tr><td>352065</td><td>2</td><td>1</td></tr>\n",
       "<tr><td>276885</td><td>2</td><td>1</td></tr>\n",
       "<tr><td>381654</td><td>2</td><td>1</td></tr>\n",
       "<tr><td>337953</td><td>2</td><td>1</td></tr>\n",
       "<tr><td>342783</td><td>2</td><td>1</td></tr>\n",
       "<tr><td>372792</td><td>2</td><td>1</td></tr>\n",
       "<tr><td>302904</td><td>2</td><td>1</td></tr>\n",
       "<tr><td>373023</td><td>2</td><td>1</td></tr>\n",
       "<tr><td>337533</td><td>2</td><td>1</td></tr>\n",
       "</table>\n",
       "only showing top 20 rows\n"
      ],
      "text/plain": [
       "+-------+---------+-------------+\n",
       "|user_id|num_trans|distinct_item|\n",
       "+-------+---------+-------------+\n",
       "| 328629|        2|            1|\n",
       "| 275226|        2|            1|\n",
       "| 337953|        2|            1|\n",
       "| 356790|        2|            1|\n",
       "| 383628|        2|            1|\n",
       "| 376425|        2|            1|\n",
       "| 323169|        2|            1|\n",
       "| 302904|        2|            1|\n",
       "| 381654|        2|            1|\n",
       "| 316470|        2|            1|\n",
       "| 379827|        2|            1|\n",
       "| 372792|        2|            1|\n",
       "| 326802|        2|            1|\n",
       "| 373023|        2|            1|\n",
       "| 317478|        2|            1|\n",
       "| 276885|        2|            1|\n",
       "| 352065|        2|            1|\n",
       "| 337533|        2|            1|\n",
       "| 288687|        2|            1|\n",
       "| 342783|        2|            1|\n",
       "+-------+---------+-------------+\n",
       "only showing top 20 rows"
      ]
     },
     "execution_count": 90,
     "metadata": {},
     "output_type": "execute_result"
    }
   ],
   "source": [
    "df.groupBy('user_id').agg(\n",
    "    F.count('trans_id').alias('num_trans'),\n",
    "    F.countDistinct('item_id').alias('distinct_item'),\n",
    ").orderBy('num_trans','distinct_item')"
   ]
  },
  {
   "cell_type": "markdown",
   "metadata": {},
   "source": [
    "Why min # transaction a user make is 2 --> need check"
   ]
  },
  {
   "cell_type": "code",
   "execution_count": 94,
   "metadata": {},
   "outputs": [
    {
     "data": {
      "text/html": [
       "<div>\n",
       "<style scoped>\n",
       "    .dataframe tbody tr th:only-of-type {\n",
       "        vertical-align: middle;\n",
       "    }\n",
       "\n",
       "    .dataframe tbody tr th {\n",
       "        vertical-align: top;\n",
       "    }\n",
       "\n",
       "    .dataframe thead th {\n",
       "        text-align: right;\n",
       "    }\n",
       "</style>\n",
       "<table border=\"1\" class=\"dataframe\">\n",
       "  <thead>\n",
       "    <tr style=\"text-align: right;\">\n",
       "      <th></th>\n",
       "      <th>UserId</th>\n",
       "      <th>TransactionId</th>\n",
       "      <th>TransactionTime</th>\n",
       "      <th>ItemCode</th>\n",
       "      <th>ItemDescription</th>\n",
       "      <th>NumberOfItemsPurchased</th>\n",
       "      <th>CostPerItem</th>\n",
       "      <th>Country</th>\n",
       "    </tr>\n",
       "  </thead>\n",
       "  <tbody>\n",
       "    <tr>\n",
       "      <th>2787</th>\n",
       "      <td>275226</td>\n",
       "      <td>6179921</td>\n",
       "      <td>2018-10-10 11:12:00</td>\n",
       "      <td>471576</td>\n",
       "      <td>NATURAL SLATE CHALKBOARD LARGE</td>\n",
       "      <td>54</td>\n",
       "      <td>5.87</td>\n",
       "      <td>United Kingdom</td>\n",
       "    </tr>\n",
       "    <tr>\n",
       "      <th>311837</th>\n",
       "      <td>275226</td>\n",
       "      <td>6179921</td>\n",
       "      <td>2018-10-10 11:12:00</td>\n",
       "      <td>471576</td>\n",
       "      <td>NATURAL SLATE CHALKBOARD LARGE</td>\n",
       "      <td>54</td>\n",
       "      <td>5.87</td>\n",
       "      <td>United Kingdom</td>\n",
       "    </tr>\n",
       "    <tr>\n",
       "      <th>715106</th>\n",
       "      <td>275226</td>\n",
       "      <td>6183760</td>\n",
       "      <td>2018-10-15 07:50:00</td>\n",
       "      <td>471576</td>\n",
       "      <td>NATURAL SLATE CHALKBOARD LARGE</td>\n",
       "      <td>-12</td>\n",
       "      <td>5.87</td>\n",
       "      <td>United Kingdom</td>\n",
       "    </tr>\n",
       "    <tr>\n",
       "      <th>855368</th>\n",
       "      <td>275226</td>\n",
       "      <td>6183760</td>\n",
       "      <td>2018-10-15 07:50:00</td>\n",
       "      <td>471576</td>\n",
       "      <td>NATURAL SLATE CHALKBOARD LARGE</td>\n",
       "      <td>-12</td>\n",
       "      <td>5.87</td>\n",
       "      <td>United Kingdom</td>\n",
       "    </tr>\n",
       "  </tbody>\n",
       "</table>\n",
       "</div>"
      ],
      "text/plain": [
       "        UserId  TransactionId     TransactionTime  ItemCode  \\\n",
       "2787    275226        6179921 2018-10-10 11:12:00    471576   \n",
       "311837  275226        6179921 2018-10-10 11:12:00    471576   \n",
       "715106  275226        6183760 2018-10-15 07:50:00    471576   \n",
       "855368  275226        6183760 2018-10-15 07:50:00    471576   \n",
       "\n",
       "                        ItemDescription  NumberOfItemsPurchased  CostPerItem  \\\n",
       "2787    NATURAL SLATE CHALKBOARD LARGE                       54         5.87   \n",
       "311837  NATURAL SLATE CHALKBOARD LARGE                       54         5.87   \n",
       "715106  NATURAL SLATE CHALKBOARD LARGE                      -12         5.87   \n",
       "855368  NATURAL SLATE CHALKBOARD LARGE                      -12         5.87   \n",
       "\n",
       "               Country  \n",
       "2787    United Kingdom  \n",
       "311837  United Kingdom  \n",
       "715106  United Kingdom  \n",
       "855368  United Kingdom  "
      ]
     },
     "execution_count": 94,
     "metadata": {},
     "output_type": "execute_result"
    }
   ],
   "source": [
    "df_pandas.loc[lambda x:x.UserId==275226]"
   ]
  },
  {
   "cell_type": "markdown",
   "metadata": {},
   "source": [
    "duplicate in transactionID --> error in inserting process"
   ]
  },
  {
   "cell_type": "code",
   "execution_count": 102,
   "metadata": {},
   "outputs": [
    {
     "name": "stderr",
     "output_type": "stream",
     "text": [
      "                                                                                \r"
     ]
    },
    {
     "data": {
      "text/plain": [
       "[Row(trans_id=6389801, num_users=1)]"
      ]
     },
     "execution_count": 102,
     "metadata": {},
     "output_type": "execute_result"
    }
   ],
   "source": [
    "df.groupBy('trans_id').agg(\n",
    "    F.countDistinct('user_id').alias('num_users')\n",
    ").orderBy(F.desc('num_users')).head(1)"
   ]
  },
  {
   "cell_type": "markdown",
   "metadata": {},
   "source": [
    "No duplicate userid in 1 transaction id"
   ]
  },
  {
   "cell_type": "code",
   "execution_count": 104,
   "metadata": {},
   "outputs": [
    {
     "name": "stderr",
     "output_type": "stream",
     "text": [
      "                                                                                \r"
     ]
    },
    {
     "data": {
      "text/plain": [
       "[Row(trans_id=6339729, num=1082),\n",
       " Row(trans_id=6371156, num=1064),\n",
       " Row(trans_id=6387997, num=1056),\n",
       " Row(trans_id=6360970, num=882),\n",
       " Row(trans_id=6309336, num=868)]"
      ]
     },
     "execution_count": 104,
     "metadata": {},
     "output_type": "execute_result"
    }
   ],
   "source": [
    "df.groupBy('trans_id').agg(\n",
    "    F.count('user_id').alias('num'),\n",
    ").orderBy(F.desc('num')).head(5)"
   ]
  },
  {
   "cell_type": "markdown",
   "metadata": {},
   "source": [
    "There some mistake, so every item in transaction is duplicate"
   ]
  },
  {
   "cell_type": "markdown",
   "metadata": {},
   "source": [
    "### Data exploration"
   ]
  },
  {
   "cell_type": "code",
   "execution_count": 224,
   "metadata": {},
   "outputs": [],
   "source": [
    "df=df.drop_duplicates()\\\n",
    "    .withColumn('user_id',F.col('user_id').cast(T.IntegerType()))\\\n",
    "    .withColumn('item_id',F.col('item_id').cast(T.IntegerType()))"
   ]
  },
  {
   "cell_type": "code",
   "execution_count": 213,
   "metadata": {},
   "outputs": [
    {
     "name": "stderr",
     "output_type": "stream",
     "text": [
      "                                                                                \r"
     ]
    },
    {
     "data": {
      "text/plain": [
       "391249"
      ]
     },
     "execution_count": 213,
     "metadata": {},
     "output_type": "execute_result"
    }
   ],
   "source": [
    "df.count()"
   ]
  },
  {
   "cell_type": "code",
   "execution_count": 125,
   "metadata": {},
   "outputs": [
    {
     "name": "stderr",
     "output_type": "stream",
     "text": [
      "                                                                                \r"
     ]
    },
    {
     "data": {
      "text/plain": [
       "<AxesSubplot:xlabel='country'>"
      ]
     },
     "execution_count": 125,
     "metadata": {},
     "output_type": "execute_result"
    },
    {
     "data": {
      "image/png": "[encoded data removed]",
      "text/plain": [
       "<Figure size 432x288 with 1 Axes>"
      ]
     },
     "metadata": {
      "needs_background": "light"
     },
     "output_type": "display_data"
    }
   ],
   "source": [
    "df_country_trans=df.groupby('country').count().orderBy(F.desc('count')).toPandas()\n",
    "df_country_trans=df_country_trans.set_index('country')\n",
    "df_country_trans.plot.bar()"
   ]
  },
  {
   "cell_type": "code",
   "execution_count": 150,
   "metadata": {},
   "outputs": [
    {
     "name": "stderr",
     "output_type": "stream",
     "text": [
      "                                                                                \r"
     ]
    },
    {
     "data": {
      "text/html": [
       "<table border='1'>\n",
       "<tr><th>user_id</th><th>trans_id</th><th>timestamp</th><th>item_id</th><th>item_metadata</th><th>amount</th><th>price_1</th><th>country</th><th>cost</th></tr>\n",
       "<tr><td>288687</td><td>5900323</td><td>2018-02-12 06:37:00</td><td>465780</td><td>RETROSPOT LAMP</td><td>24</td><td>1696285.44</td><td>United Kingdom</td><td>4.071085056E7</td></tr>\n",
       "<tr><td>345366</td><td>6396313</td><td>2019-02-20 05:15:00</td><td>500703</td><td>PAPER CRAFT , LIT...</td><td>242985</td><td>2.88</td><td>United Kingdom</td><td>699796.7999999999</td></tr>\n",
       "<tr><td>259266</td><td>5955741</td><td>2018-04-01 06:01:00</td><td>486486</td><td>MEDIUM CERAMIC TO...</td><td>222645</td><td>1.44</td><td>United Kingdom</td><td>320608.8</td></tr>\n",
       "<tr><td>317058</td><td>6120884</td><td>2018-08-22 11:28:00</td><td>472542</td><td>PICNIC BASKET WIC...</td><td>180</td><td>896.31</td><td>United Kingdom</td><td>161335.8</td></tr>\n",
       "<tr><td>366450</td><td>6241653</td><td>2018-12-02 07:05:00</td><td>488103</td><td>SET OF TEA COFFEE...</td><td>4236</td><td>6.99</td><td>United Kingdom</td><td>29609.64</td></tr>\n",
       "<tr><td>330729</td><td>6055071</td><td>2018-06-30 09:20:00</td><td>443268</td><td>FAIRY CAKE FLANNE...</td><td>9342</td><td>2.9</td><td>United Kingdom</td><td>27091.8</td></tr>\n",
       "<tr><td>330729</td><td>5948965</td><td>2018-03-25 08:55:00</td><td>443268</td><td>FAIRY CAKE FLANNE...</td><td>9342</td><td>2.9</td><td>United Kingdom</td><td>27091.8</td></tr>\n",
       "<tr><td>307566</td><td>6303033</td><td>2019-01-08 08:11:00</td><td>484764</td><td>RABBIT NIGHT LIGHT</td><td>7200</td><td>2.88</td><td>Netherlands</td><td>20736.0</td></tr>\n",
       "<tr><td>330729</td><td>5948965</td><td>2018-03-25 08:55:00</td><td>1787583</td><td>WHITE HANGING HEA...</td><td>5790</td><td>3.52</td><td>United Kingdom</td><td>20380.8</td></tr>\n",
       "<tr><td>330729</td><td>6055071</td><td>2018-06-30 09:20:00</td><td>1787583</td><td>WHITE HANGING HEA...</td><td>5790</td><td>3.32</td><td>United Kingdom</td><td>19222.8</td></tr>\n",
       "<tr><td>330729</td><td>5948998</td><td>2018-03-25 08:57:00</td><td>1011885</td><td>DOORMAT FAIRY CAKE</td><td>2010</td><td>9.32</td><td>United Kingdom</td><td>18733.2</td></tr>\n",
       "<tr><td>376929</td><td>6143786</td><td>2018-09-11 07:01:00</td><td>486633</td><td>REGENCY TEAPOT RO...</td><td>1620</td><td>11.25</td><td>United Kingdom</td><td>18225.0</td></tr>\n",
       "<tr><td>330729</td><td>6055071</td><td>2018-06-30 09:20:00</td><td>1011885</td><td>DOORMAT FAIRY CAKE</td><td>2010</td><td>8.77</td><td>United Kingdom</td><td>17627.7</td></tr>\n",
       "<tr><td>271551</td><td>6186829</td><td>2018-10-16 14:06:00</td><td>1782459</td><td>ASSORTED COLOUR B...</td><td>8640</td><td>2.01</td><td>United Kingdom</td><td>17366.399999999998</td></tr>\n",
       "<tr><td>366450</td><td>5947579</td><td>2018-03-25 04:43:00</td><td>471870</td><td>HEART OF WICKER L...</td><td>3852</td><td>4.43</td><td>United Kingdom</td><td>17064.36</td></tr>\n",
       "<tr><td>319095</td><td>6392265</td><td>2019-02-18 08:20:00</td><td>470673</td><td>METAL SIGN TAKE I...</td><td>4212</td><td>3.8</td><td>United Kingdom</td><td>16005.599999999999</td></tr>\n",
       "<tr><td>366450</td><td>6241653</td><td>2018-12-02 07:05:00</td><td>485373</td><td>PANTRY CHOPPING B...</td><td>2268</td><td>6.99</td><td>United Kingdom</td><td>15853.32</td></tr>\n",
       "<tr><td>267855</td><td>5916889</td><td>2018-02-20 06:44:00</td><td>468888</td><td>ROUND SNACK BOXES...</td><td>4464</td><td>3.52</td><td>Japan</td><td>15713.28</td></tr>\n",
       "<tr><td>330729</td><td>5948965</td><td>2018-03-25 08:55:00</td><td>444675</td><td>GIN + TONIC DIET ...</td><td>6000</td><td>2.56</td><td>United Kingdom</td><td>15360.0</td></tr>\n",
       "<tr><td>268758</td><td>6374478</td><td>2019-02-10 11:52:00</td><td>484764</td><td>RABBIT NIGHT LIGHT</td><td>6120</td><td>2.48</td><td>Japan</td><td>15177.6</td></tr>\n",
       "</table>\n",
       "only showing top 20 rows\n"
      ],
      "text/plain": [
       "+-------+--------+-------------------+-------+--------------------+------+----------+--------------+------------------+\n",
       "|user_id|trans_id|          timestamp|item_id|       item_metadata|amount|   price_1|       country|              cost|\n",
       "+-------+--------+-------------------+-------+--------------------+------+----------+--------------+------------------+\n",
       "| 288687| 5900323|2018-02-12 06:37:00| 465780|      RETROSPOT LAMP|    24|1696285.44|United Kingdom|     4.071085056E7|\n",
       "| 345366| 6396313|2019-02-20 05:15:00| 500703|PAPER CRAFT , LIT...|242985|      2.88|United Kingdom| 699796.7999999999|\n",
       "| 259266| 5955741|2018-04-01 06:01:00| 486486|MEDIUM CERAMIC TO...|222645|      1.44|United Kingdom|          320608.8|\n",
       "| 317058| 6120884|2018-08-22 11:28:00| 472542|PICNIC BASKET WIC...|   180|    896.31|United Kingdom|          161335.8|\n",
       "| 366450| 6241653|2018-12-02 07:05:00| 488103|SET OF TEA COFFEE...|  4236|      6.99|United Kingdom|          29609.64|\n",
       "| 330729| 5948965|2018-03-25 08:55:00| 443268|FAIRY CAKE FLANNE...|  9342|       2.9|United Kingdom|           27091.8|\n",
       "| 330729| 6055071|2018-06-30 09:20:00| 443268|FAIRY CAKE FLANNE...|  9342|       2.9|United Kingdom|           27091.8|\n",
       "| 307566| 6303033|2019-01-08 08:11:00| 484764|  RABBIT NIGHT LIGHT|  7200|      2.88|   Netherlands|           20736.0|\n",
       "| 330729| 5948965|2018-03-25 08:55:00|1787583|WHITE HANGING HEA...|  5790|      3.52|United Kingdom|           20380.8|\n",
       "| 330729| 6055071|2018-06-30 09:20:00|1787583|WHITE HANGING HEA...|  5790|      3.32|United Kingdom|           19222.8|\n",
       "| 330729| 5948998|2018-03-25 08:57:00|1011885|  DOORMAT FAIRY CAKE|  2010|      9.32|United Kingdom|           18733.2|\n",
       "| 376929| 6143786|2018-09-11 07:01:00| 486633|REGENCY TEAPOT RO...|  1620|     11.25|United Kingdom|           18225.0|\n",
       "| 330729| 6055071|2018-06-30 09:20:00|1011885|  DOORMAT FAIRY CAKE|  2010|      8.77|United Kingdom|           17627.7|\n",
       "| 271551| 6186829|2018-10-16 14:06:00|1782459|ASSORTED COLOUR B...|  8640|      2.01|United Kingdom|17366.399999999998|\n",
       "| 366450| 5947579|2018-03-25 04:43:00| 471870|HEART OF WICKER L...|  3852|      4.43|United Kingdom|          17064.36|\n",
       "| 319095| 6392265|2019-02-18 08:20:00| 470673|METAL SIGN TAKE I...|  4212|       3.8|United Kingdom|16005.599999999999|\n",
       "| 366450| 6241653|2018-12-02 07:05:00| 485373|PANTRY CHOPPING B...|  2268|      6.99|United Kingdom|          15853.32|\n",
       "| 267855| 5916889|2018-02-20 06:44:00| 468888|ROUND SNACK BOXES...|  4464|      3.52|         Japan|          15713.28|\n",
       "| 330729| 5948965|2018-03-25 08:55:00| 444675|GIN + TONIC DIET ...|  6000|      2.56|United Kingdom|           15360.0|\n",
       "| 268758| 6374478|2019-02-10 11:52:00| 484764|  RABBIT NIGHT LIGHT|  6120|      2.48|         Japan|           15177.6|\n",
       "+-------+--------+-------------------+-------+--------------------+------+----------+--------------+------------------+\n",
       "only showing top 20 rows"
      ]
     },
     "execution_count": 150,
     "metadata": {},
     "output_type": "execute_result"
    }
   ],
   "source": [
    "df.withColumn('cost',F.col('amount')*F.col('price_1')).orderBy(F.desc('cost'))"
   ]
  },
  {
   "cell_type": "code",
   "execution_count": 153,
   "metadata": {},
   "outputs": [
    {
     "name": "stderr",
     "output_type": "stream",
     "text": [
      "                                                                                \r"
     ]
    },
    {
     "data": {
      "text/html": [
       "<table border='1'>\n",
       "<tr><th>user_id</th><th>trans_id</th><th>timestamp</th><th>item_id</th><th>item_metadata</th><th>amount</th><th>price_1</th><th>country</th></tr>\n",
       "<tr><td>297780</td><td>6138341</td><td>2018-09-05 08:14:00</td><td>465780</td><td>RETROSPOT LAMP</td><td>6</td><td>13.74</td><td>United Kingdom</td></tr>\n",
       "<tr><td>313131</td><td>6011599</td><td>2018-05-26 08:15:00</td><td>465780</td><td>RETROSPOT LAMP</td><td>3</td><td>13.74</td><td>EIRE</td></tr>\n",
       "<tr><td>272097</td><td>5940209</td><td>2018-03-18 08:18:00</td><td>465780</td><td>RETROSPOT LAMP</td><td>6</td><td>13.74</td><td>United Kingdom</td></tr>\n",
       "<tr><td>370608</td><td>6105275</td><td>2018-08-12 07:21:00</td><td>465780</td><td>RETROSPOT LAMP</td><td>3</td><td>13.74</td><td>United Kingdom</td></tr>\n",
       "<tr><td>371217</td><td>6283244</td><td>2018-12-26 08:34:00</td><td>465780</td><td>RETROSPOT LAMP</td><td>18</td><td>13.74</td><td>United Kingdom</td></tr>\n",
       "<tr><td>313131</td><td>5906725</td><td>2018-02-14 10:04:00</td><td>465780</td><td>RETROSPOT LAMP</td><td>12</td><td>13.74</td><td>EIRE</td></tr>\n",
       "<tr><td>343602</td><td>6228233</td><td>2018-11-21 10:47:00</td><td>465780</td><td>RETROSPOT LAMP</td><td>6</td><td>13.74</td><td>United Kingdom</td></tr>\n",
       "<tr><td>382725</td><td>6159098</td><td>2018-09-24 11:29:00</td><td>465780</td><td>RETROSPOT LAMP</td><td>12</td><td>13.74</td><td>United Kingdom</td></tr>\n",
       "<tr><td>285243</td><td>6151222</td><td>2018-09-18 06:40:00</td><td>465780</td><td>RETROSPOT LAMP</td><td>6</td><td>13.74</td><td>United Kingdom</td></tr>\n",
       "<tr><td>353829</td><td>6111468</td><td>2018-08-18 05:16:00</td><td>465780</td><td>RETROSPOT LAMP</td><td>6</td><td>13.74</td><td>United Kingdom</td></tr>\n",
       "<tr><td>306726</td><td>6282738</td><td>2018-12-26 06:25:00</td><td>465780</td><td>RETROSPOT LAMP</td><td>6</td><td>13.74</td><td>United Kingdom</td></tr>\n",
       "<tr><td>313131</td><td>6297049</td><td>2019-01-05 08:53:00</td><td>465780</td><td>RETROSPOT LAMP</td><td>36</td><td>11.73</td><td>EIRE</td></tr>\n",
       "<tr><td>259434</td><td>6060021</td><td>2018-07-03 09:11:00</td><td>465780</td><td>RETROSPOT LAMP</td><td>6</td><td>13.74</td><td>Spain</td></tr>\n",
       "<tr><td>297780</td><td>6074002</td><td>2018-07-18 09:38:00</td><td>465780</td><td>RETROSPOT LAMP</td><td>3</td><td>13.74</td><td>United Kingdom</td></tr>\n",
       "<tr><td>263256</td><td>6277392</td><td>2018-12-23 10:52:00</td><td>465780</td><td>RETROSPOT LAMP</td><td>12</td><td>13.74</td><td>France</td></tr>\n",
       "<tr><td>309939</td><td>6059196</td><td>2018-07-03 06:55:00</td><td>465780</td><td>RETROSPOT LAMP</td><td>6</td><td>13.74</td><td>United Kingdom</td></tr>\n",
       "<tr><td>371175</td><td>5992910</td><td>2018-05-07 11:53:00</td><td>465780</td><td>RETROSPOT LAMP</td><td>6</td><td>13.74</td><td>United Kingdom</td></tr>\n",
       "<tr><td>381528</td><td>6093021</td><td>2018-07-31 15:02:00</td><td>465780</td><td>RETROSPOT LAMP</td><td>6</td><td>13.74</td><td>United Kingdom</td></tr>\n",
       "<tr><td>374661</td><td>6266392</td><td>2018-12-17 09:58:00</td><td>465780</td><td>RETROSPOT LAMP</td><td>3</td><td>13.74</td><td>United Kingdom</td></tr>\n",
       "<tr><td>306033</td><td>6080833</td><td>2018-07-23 08:32:00</td><td>465780</td><td>RETROSPOT LAMP</td><td>3</td><td>13.74</td><td>United Kingdom</td></tr>\n",
       "</table>\n",
       "only showing top 20 rows\n"
      ],
      "text/plain": [
       "+-------+--------+-------------------+-------+--------------+------+-------+--------------+\n",
       "|user_id|trans_id|          timestamp|item_id| item_metadata|amount|price_1|       country|\n",
       "+-------+--------+-------------------+-------+--------------+------+-------+--------------+\n",
       "| 297780| 6138341|2018-09-05 08:14:00| 465780|RETROSPOT LAMP|     6|  13.74|United Kingdom|\n",
       "| 313131| 6011599|2018-05-26 08:15:00| 465780|RETROSPOT LAMP|     3|  13.74|          EIRE|\n",
       "| 272097| 5940209|2018-03-18 08:18:00| 465780|RETROSPOT LAMP|     6|  13.74|United Kingdom|\n",
       "| 370608| 6105275|2018-08-12 07:21:00| 465780|RETROSPOT LAMP|     3|  13.74|United Kingdom|\n",
       "| 371217| 6283244|2018-12-26 08:34:00| 465780|RETROSPOT LAMP|    18|  13.74|United Kingdom|\n",
       "| 313131| 5906725|2018-02-14 10:04:00| 465780|RETROSPOT LAMP|    12|  13.74|          EIRE|\n",
       "| 343602| 6228233|2018-11-21 10:47:00| 465780|RETROSPOT LAMP|     6|  13.74|United Kingdom|\n",
       "| 382725| 6159098|2018-09-24 11:29:00| 465780|RETROSPOT LAMP|    12|  13.74|United Kingdom|\n",
       "| 285243| 6151222|2018-09-18 06:40:00| 465780|RETROSPOT LAMP|     6|  13.74|United Kingdom|\n",
       "| 353829| 6111468|2018-08-18 05:16:00| 465780|RETROSPOT LAMP|     6|  13.74|United Kingdom|\n",
       "| 306726| 6282738|2018-12-26 06:25:00| 465780|RETROSPOT LAMP|     6|  13.74|United Kingdom|\n",
       "| 313131| 6297049|2019-01-05 08:53:00| 465780|RETROSPOT LAMP|    36|  11.73|          EIRE|\n",
       "| 259434| 6060021|2018-07-03 09:11:00| 465780|RETROSPOT LAMP|     6|  13.74|         Spain|\n",
       "| 297780| 6074002|2018-07-18 09:38:00| 465780|RETROSPOT LAMP|     3|  13.74|United Kingdom|\n",
       "| 263256| 6277392|2018-12-23 10:52:00| 465780|RETROSPOT LAMP|    12|  13.74|        France|\n",
       "| 309939| 6059196|2018-07-03 06:55:00| 465780|RETROSPOT LAMP|     6|  13.74|United Kingdom|\n",
       "| 371175| 5992910|2018-05-07 11:53:00| 465780|RETROSPOT LAMP|     6|  13.74|United Kingdom|\n",
       "| 381528| 6093021|2018-07-31 15:02:00| 465780|RETROSPOT LAMP|     6|  13.74|United Kingdom|\n",
       "| 374661| 6266392|2018-12-17 09:58:00| 465780|RETROSPOT LAMP|     3|  13.74|United Kingdom|\n",
       "| 306033| 6080833|2018-07-23 08:32:00| 465780|RETROSPOT LAMP|     3|  13.74|United Kingdom|\n",
       "+-------+--------+-------------------+-------+--------------+------+-------+--------------+\n",
       "only showing top 20 rows"
      ]
     },
     "execution_count": 153,
     "metadata": {},
     "output_type": "execute_result"
    }
   ],
   "source": [
    "df.filter(F.col('item_id')==465780)"
   ]
  },
  {
   "cell_type": "code",
   "execution_count": null,
   "metadata": {},
   "outputs": [],
   "source": [
    "count_trans_per_item=df.groupBy('item_id').agg(\n",
    "    F.count('trans_id').alias('count')\n",
    ").select('count').rdd.flatMap(lambda x:x).collect()"
   ]
  },
  {
   "cell_type": "code",
   "execution_count": 179,
   "metadata": {},
   "outputs": [
    {
     "data": {
      "image/png": "[encoded data removed]",
      "text/plain": [
       "<Figure size 2160x288 with 1 Axes>"
      ]
     },
     "metadata": {
      "needs_background": "light"
     },
     "output_type": "display_data"
    },
    {
     "data": {
      "text/plain": [
       "count    3194.000000\n",
       "mean      122.153413\n",
       "std       177.323160\n",
       "min         1.000000\n",
       "2%          1.000000\n",
       "4%          2.000000\n",
       "6%          3.000000\n",
       "8%          4.000000\n",
       "10%         6.000000\n",
       "12%         7.000000\n",
       "14%         8.000000\n",
       "16%        10.000000\n",
       "18%        12.000000\n",
       "20%        14.000000\n",
       "22%        16.000000\n",
       "24%        18.000000\n",
       "26%        20.180000\n",
       "28%        23.000000\n",
       "30%        25.000000\n",
       "32%        28.760000\n",
       "34%        31.000000\n",
       "36%        35.000000\n",
       "38%        38.000000\n",
       "40%        42.000000\n",
       "42%        45.000000\n",
       "44%        49.000000\n",
       "46%        53.000000\n",
       "48%        59.000000\n",
       "50%        63.000000\n",
       "52%        68.000000\n",
       "54%        74.000000\n",
       "56%        78.080000\n",
       "58.0%      85.000000\n",
       "60%        90.000000\n",
       "62%        95.000000\n",
       "64%       103.000000\n",
       "66%       111.000000\n",
       "68%       119.000000\n",
       "70%       128.000000\n",
       "72%       137.000000\n",
       "74%       147.820000\n",
       "76%       159.680000\n",
       "78%       173.000000\n",
       "80%       185.000000\n",
       "82%       202.260000\n",
       "84%       223.120000\n",
       "86%       242.980000\n",
       "88%       267.840000\n",
       "90%       299.000000\n",
       "92%       336.560000\n",
       "94%       391.840000\n",
       "96%       499.840000\n",
       "98%       684.260000\n",
       "max      2917.000000\n",
       "dtype: float64"
      ]
     },
     "execution_count": 179,
     "metadata": {},
     "output_type": "execute_result"
    },
    {
     "data": {
      "image/png": "[encoded data removed]",
      "text/plain": [
       "<Figure size 432x288 with 1 Axes>"
      ]
     },
     "metadata": {
      "needs_background": "light"
     },
     "output_type": "display_data"
    }
   ],
   "source": [
    "plt.figure(figsize=(30,4))\n",
    "plt.hist(count_trans_per_item,bins=500);\n",
    "plt.show()\n",
    "plt.hist(count_trans_per_item,bins=500,cumulative=True,density=True)\n",
    "pd.Series(count_trans_per_item).describe(\n",
    "    percentiles=[0.02*x for x in range(1,50)]\n",
    ")"
   ]
  },
  {
   "cell_type": "code",
   "execution_count": 225,
   "metadata": {},
   "outputs": [],
   "source": [
    "df_range=df.groupBy('item_id').agg(\n",
    "    F.percentile_approx('price_1',0.75).alias('rd_quantile'),\n",
    "    F.percentile_approx('price_1',0.25).alias('st_quantile'),\n",
    ").withColumn('IQR',F.col('rd_quantile')-F.col('st_quantile'))\\\n",
    ".withColumn('upper_bound',F.col('rd_quantile')+1.5*F.col('IQR'))\\\n",
    ".withColumn('lower_bound',F.col('st_quantile')-1.5*F.col('IQR'))\\\n",
    ".select('item_id','upper_bound','lower_bound').cache()"
   ]
  },
  {
   "cell_type": "code",
   "execution_count": 226,
   "metadata": {},
   "outputs": [],
   "source": [
    "df_clean=df.join(df_range,on='item_id')\\\n",
    "    .filter(F.col('price_1')<=F.col('upper_bound'))\\\n",
    "    .filter(F.col('price_1')>=F.col('lower_bound')).drop('upper_bound','lower_bound').cache()"
   ]
  },
  {
   "cell_type": "markdown",
   "metadata": {},
   "source": [
    "## Analysis\n"
   ]
  },
  {
   "cell_type": "markdown",
   "metadata": {},
   "source": [
    "### Amount and price per month"
   ]
  },
  {
   "cell_type": "code",
   "execution_count": 229,
   "metadata": {},
   "outputs": [],
   "source": [
    "amount_price_per_month_pd=df_clean.withColumn('cost',F.col('price_1')*F.col('amount'))\\\n",
    "    .withColumn('year',F.year('timestamp'))\\\n",
    "    .withColumn('month',F.month('timestamp'))\\\n",
    "    .groupBy('year','month').agg(\n",
    "        F.sum('amount').alias('num_item_purchased'),\n",
    "        F.sum('cost').alias('price')\n",
    "    ).orderBy('year','month').toPandas()"
   ]
  },
  {
   "cell_type": "code",
   "execution_count": 241,
   "metadata": {},
   "outputs": [
    {
     "data": {
      "image/png": "[encoded data removed]",
      "text/plain": [
       "<Figure size 432x288 with 1 Axes>"
      ]
     },
     "metadata": {
      "needs_background": "light"
     },
     "output_type": "display_data"
    }
   ],
   "source": [
    "amount_price_per_month_pd.set_index(['year','month']).plot();\n",
    "plt.ylabel('value');\n",
    "plt.title('Amount and Price per month');"
   ]
  },
  {
   "cell_type": "markdown",
   "metadata": {},
   "source": [
    "### Report selling efficency"
   ]
  },
  {
   "cell_type": "code",
   "execution_count": 240,
   "metadata": {},
   "outputs": [
    {
     "data": {
      "image/png": "[encoded data removed]",
      "text/plain": [
       "<Figure size 432x288 with 1 Axes>"
      ]
     },
     "metadata": {
      "needs_background": "light"
     },
     "output_type": "display_data"
    }
   ],
   "source": [
    "amount_price_per_month_pd\\\n",
    "    .assign(mean_prod_value=lambda x:x.price/x.num_item_purchased)\\\n",
    "    [['year','month','mean_prod_value']]\\\n",
    "    .set_index(['year','month']).plot();\n",
    "plt.ylabel('value')\n",
    "plt.title('Mean product value by time');\n"
   ]
  },
  {
   "cell_type": "code",
   "execution_count": 257,
   "metadata": {},
   "outputs": [],
   "source": [
    "df_mean_revenue_per_item=df_clean.withColumn('cost',F.col('price_1')*F.col('amount'))\\\n",
    "    .withColumn('year',F.year('timestamp'))\\\n",
    "    .withColumn('month',F.month('timestamp'))\\\n",
    "    .groupBy('year','month','item_id').agg(\n",
    "        F.sum('cost').alias('cost_this_month')\n",
    "    ).orderBy('item_id','year','month').groupBy('item_id').agg(\n",
    "        F.mean('cost_this_month').alias('mean_over_month'),\n",
    "        F.collect_list('cost_this_month').alias('list_cost'),\n",
    "        F.count('month').alias('num_sample'),\n",
    "        F.stddev_samp('cost_this_month').alias('std_')\n",
    "    ).orderBy(F.desc('mean_over_month')).toPandas()"
   ]
  },
  {
   "cell_type": "code",
   "execution_count": 275,
   "metadata": {},
   "outputs": [
    {
     "data": {
      "text/html": [
       "<div>\n",
       "<style scoped>\n",
       "    .dataframe tbody tr th:only-of-type {\n",
       "        vertical-align: middle;\n",
       "    }\n",
       "\n",
       "    .dataframe tbody tr th {\n",
       "        vertical-align: top;\n",
       "    }\n",
       "\n",
       "    .dataframe thead th {\n",
       "        text-align: right;\n",
       "    }\n",
       "</style>\n",
       "<table border=\"1\" class=\"dataframe\">\n",
       "  <thead>\n",
       "    <tr style=\"text-align: right;\">\n",
       "      <th></th>\n",
       "      <th>item_id</th>\n",
       "      <th>mean_over_month</th>\n",
       "      <th>list_cost</th>\n",
       "      <th>num_sample</th>\n",
       "      <th>std_</th>\n",
       "      <th>std_error</th>\n",
       "      <th>upper_confidend_bound_975</th>\n",
       "      <th>lower_confidend_bound_975</th>\n",
       "    </tr>\n",
       "  </thead>\n",
       "  <tbody>\n",
       "    <tr>\n",
       "      <th>1</th>\n",
       "      <td>1787079</td>\n",
       "      <td>33584.270769</td>\n",
       "      <td>[9201.600000000006, 6293.7, 12222.900000000003...</td>\n",
       "      <td>13</td>\n",
       "      <td>19864.905274</td>\n",
       "      <td>5509.533427</td>\n",
       "      <td>45486.894096</td>\n",
       "      <td>21681.647443</td>\n",
       "    </tr>\n",
       "    <tr>\n",
       "      <th>3</th>\n",
       "      <td>1784937</td>\n",
       "      <td>18268.617692</td>\n",
       "      <td>[7676.759999999993, 34582.80000000006, 19623.7...</td>\n",
       "      <td>13</td>\n",
       "      <td>8115.821950</td>\n",
       "      <td>2250.924014</td>\n",
       "      <td>23131.443381</td>\n",
       "      <td>13405.792004</td>\n",
       "    </tr>\n",
       "    <tr>\n",
       "      <th>4</th>\n",
       "      <td>470883</td>\n",
       "      <td>15462.276923</td>\n",
       "      <td>[12672.0, 8712.0, 11985.600000000004, 16579.20...</td>\n",
       "      <td>13</td>\n",
       "      <td>4279.343973</td>\n",
       "      <td>1186.876471</td>\n",
       "      <td>18026.367649</td>\n",
       "      <td>12898.186197</td>\n",
       "    </tr>\n",
       "    <tr>\n",
       "      <th>5</th>\n",
       "      <td>998886</td>\n",
       "      <td>15059.814545</td>\n",
       "      <td>[4945.320000000001, 13420.080000000004, 21361....</td>\n",
       "      <td>11</td>\n",
       "      <td>7787.346513</td>\n",
       "      <td>2347.973318</td>\n",
       "      <td>20227.668974</td>\n",
       "      <td>9891.960117</td>\n",
       "    </tr>\n",
       "    <tr>\n",
       "      <th>11</th>\n",
       "      <td>1782459</td>\n",
       "      <td>11823.840000</td>\n",
       "      <td>[9912.239999999993, 5524.739999999997, 7069.13...</td>\n",
       "      <td>13</td>\n",
       "      <td>3718.649545</td>\n",
       "      <td>1031.367816</td>\n",
       "      <td>14051.974704</td>\n",
       "      <td>9595.705296</td>\n",
       "    </tr>\n",
       "    <tr>\n",
       "      <th>...</th>\n",
       "      <td>...</td>\n",
       "      <td>...</td>\n",
       "      <td>...</td>\n",
       "      <td>...</td>\n",
       "      <td>...</td>\n",
       "      <td>...</td>\n",
       "      <td>...</td>\n",
       "      <td>...</td>\n",
       "    </tr>\n",
       "    <tr>\n",
       "      <th>3187</th>\n",
       "      <td>1784790</td>\n",
       "      <td>4.560000</td>\n",
       "      <td>[4.5600000000000005]</td>\n",
       "      <td>1</td>\n",
       "      <td>NaN</td>\n",
       "      <td>NaN</td>\n",
       "      <td>NaN</td>\n",
       "      <td>NaN</td>\n",
       "    </tr>\n",
       "    <tr>\n",
       "      <th>3190</th>\n",
       "      <td>1892184</td>\n",
       "      <td>3.540000</td>\n",
       "      <td>[3.54]</td>\n",
       "      <td>1</td>\n",
       "      <td>NaN</td>\n",
       "      <td>NaN</td>\n",
       "      <td>NaN</td>\n",
       "      <td>NaN</td>\n",
       "    </tr>\n",
       "    <tr>\n",
       "      <th>3191</th>\n",
       "      <td>1891764</td>\n",
       "      <td>3.540000</td>\n",
       "      <td>[3.54]</td>\n",
       "      <td>1</td>\n",
       "      <td>NaN</td>\n",
       "      <td>NaN</td>\n",
       "      <td>NaN</td>\n",
       "      <td>NaN</td>\n",
       "    </tr>\n",
       "    <tr>\n",
       "      <th>3192</th>\n",
       "      <td>446628</td>\n",
       "      <td>3.480000</td>\n",
       "      <td>[3.4799999999999995]</td>\n",
       "      <td>1</td>\n",
       "      <td>NaN</td>\n",
       "      <td>NaN</td>\n",
       "      <td>NaN</td>\n",
       "      <td>NaN</td>\n",
       "    </tr>\n",
       "    <tr>\n",
       "      <th>3193</th>\n",
       "      <td>1768767</td>\n",
       "      <td>1.740000</td>\n",
       "      <td>[1.7399999999999998]</td>\n",
       "      <td>1</td>\n",
       "      <td>NaN</td>\n",
       "      <td>NaN</td>\n",
       "      <td>NaN</td>\n",
       "      <td>NaN</td>\n",
       "    </tr>\n",
       "  </tbody>\n",
       "</table>\n",
       "<p>3194 rows × 8 columns</p>\n",
       "</div>"
      ],
      "text/plain": [
       "      item_id  mean_over_month  \\\n",
       "1     1787079     33584.270769   \n",
       "3     1784937     18268.617692   \n",
       "4      470883     15462.276923   \n",
       "5      998886     15059.814545   \n",
       "11    1782459     11823.840000   \n",
       "...       ...              ...   \n",
       "3187  1784790         4.560000   \n",
       "3190  1892184         3.540000   \n",
       "3191  1891764         3.540000   \n",
       "3192   446628         3.480000   \n",
       "3193  1768767         1.740000   \n",
       "\n",
       "                                              list_cost  num_sample  \\\n",
       "1     [9201.600000000006, 6293.7, 12222.900000000003...          13   \n",
       "3     [7676.759999999993, 34582.80000000006, 19623.7...          13   \n",
       "4     [12672.0, 8712.0, 11985.600000000004, 16579.20...          13   \n",
       "5     [4945.320000000001, 13420.080000000004, 21361....          11   \n",
       "11    [9912.239999999993, 5524.739999999997, 7069.13...          13   \n",
       "...                                                 ...         ...   \n",
       "3187                               [4.5600000000000005]           1   \n",
       "3190                                             [3.54]           1   \n",
       "3191                                             [3.54]           1   \n",
       "3192                               [3.4799999999999995]           1   \n",
       "3193                               [1.7399999999999998]           1   \n",
       "\n",
       "              std_    std_error  upper_confidend_bound_975  \\\n",
       "1     19864.905274  5509.533427               45486.894096   \n",
       "3      8115.821950  2250.924014               23131.443381   \n",
       "4      4279.343973  1186.876471               18026.367649   \n",
       "5      7787.346513  2347.973318               20227.668974   \n",
       "11     3718.649545  1031.367816               14051.974704   \n",
       "...            ...          ...                        ...   \n",
       "3187           NaN          NaN                        NaN   \n",
       "3190           NaN          NaN                        NaN   \n",
       "3191           NaN          NaN                        NaN   \n",
       "3192           NaN          NaN                        NaN   \n",
       "3193           NaN          NaN                        NaN   \n",
       "\n",
       "      lower_confidend_bound_975  \n",
       "1                  21681.647443  \n",
       "3                  13405.792004  \n",
       "4                  12898.186197  \n",
       "5                   9891.960117  \n",
       "11                  9595.705296  \n",
       "...                         ...  \n",
       "3187                        NaN  \n",
       "3190                        NaN  \n",
       "3191                        NaN  \n",
       "3192                        NaN  \n",
       "3193                        NaN  \n",
       "\n",
       "[3194 rows x 8 columns]"
      ]
     },
     "execution_count": 275,
     "metadata": {},
     "output_type": "execute_result"
    }
   ],
   "source": [
    "df_mean_revenue_per_item.assign(std_error=lambda x:x.std_/x.num_sample.apply(lambda x: np.sqrt(x)))\\\n",
    ".assign(upper_confidend_bound_975=lambda x:x.mean_over_month+np.abs(st.t.ppf(.025,x.num_sample))*x.std_error)\\\n",
    ".assign(lower_confidend_bound_975=lambda x:x.mean_over_month-np.abs(st.t.ppf(.025,x.num_sample))*x.std_error)\\\n",
    ".sort_values(['lower_confidend_bound_975'],ascending=False)\n",
    "        "
   ]
  },
  {
   "cell_type": "markdown",
   "metadata": {},
   "source": [
    "### Number of bought product in window"
   ]
  },
  {
   "cell_type": "code",
   "execution_count": 287,
   "metadata": {},
   "outputs": [],
   "source": [
    "all_columns=['user_id','timestamp','country']\n",
    "threshold=30"
   ]
  },
  {
   "cell_type": "code",
   "execution_count": 333,
   "metadata": {},
   "outputs": [],
   "source": [
    "df_purchased_30=df_clean.select('user_id',F.to_date('timestamp').alias('timestamp'),'country').distinct()\\\n",
    ".join(\n",
    "    df_clean.select(\n",
    "        'user_id',\n",
    "        F.to_date('timestamp').alias('time_before'),\n",
    "        F.col('amount').alias('amount_before')\n",
    "    ),on='user_id')\\\n",
    ".filter(F.col('time_before')<=F.col('timestamp'))\\\n",
    ".withColumn('date_diff',F.datediff('timestamp','time_before'))\\\n",
    ".filter(F.col('date_diff')<=threshold)\\\n",
    ".groupBy(*all_columns).agg(I\n",
    "    F.sum('amount_before').alias('NumberOfItemsPurchased_30days')\n",
    ").cache()\n"
   ]
  },
  {
   "cell_type": "code",
   "execution_count": 335,
   "metadata": {},
   "outputs": [
    {
     "data": {
      "text/html": [
       "<table border='1'>\n",
       "<tr><th>user_id</th><th>timestamp</th><th>country</th><th>NumberOfItemsPurchased_30days</th></tr>\n",
       "<tr><td>348432</td><td>2018-05-09</td><td>United Kingdom</td><td>1002</td></tr>\n",
       "<tr><td>348432</td><td>2018-06-13</td><td>United Kingdom</td><td>639</td></tr>\n",
       "<tr><td>348432</td><td>2018-08-03</td><td>United Kingdom</td><td>708</td></tr>\n",
       "<tr><td>348432</td><td>2018-08-21</td><td>United Kingdom</td><td>1431</td></tr>\n",
       "<tr><td>348432</td><td>2018-10-07</td><td>United Kingdom</td><td>1779</td></tr>\n",
       "<tr><td>348432</td><td>2019-01-01</td><td>United Kingdom</td><td>516</td></tr>\n",
       "<tr><td>348432</td><td>2019-01-21</td><td>United Kingdom</td><td>879</td></tr>\n",
       "<tr><td>348432</td><td>2019-02-08</td><td>United Kingdom</td><td>1038</td></tr>\n",
       "<tr><td>348432</td><td>2019-02-16</td><td>United Kingdom</td><td>2490</td></tr>\n",
       "</table>\n"
      ],
      "text/plain": [
       "+-------+----------+--------------+-----------------------------+\n",
       "|user_id| timestamp|       country|NumberOfItemsPurchased_30days|\n",
       "+-------+----------+--------------+-----------------------------+\n",
       "| 348432|2018-05-09|United Kingdom|                         1002|\n",
       "| 348432|2018-06-13|United Kingdom|                          639|\n",
       "| 348432|2018-08-03|United Kingdom|                          708|\n",
       "| 348432|2018-08-21|United Kingdom|                         1431|\n",
       "| 348432|2018-10-07|United Kingdom|                         1779|\n",
       "| 348432|2019-01-01|United Kingdom|                          516|\n",
       "| 348432|2019-01-21|United Kingdom|                          879|\n",
       "| 348432|2019-02-08|United Kingdom|                         1038|\n",
       "| 348432|2019-02-16|United Kingdom|                         2490|\n",
       "+-------+----------+--------------+-----------------------------+"
      ]
     },
     "execution_count": 335,
     "metadata": {},
     "output_type": "execute_result"
    }
   ],
   "source": [
    "df_purchased_30.filter(F.col('user_id')==348432).orderBy('timestamp')"
   ]
  },
  {
   "cell_type": "code",
   "execution_count": 317,
   "metadata": {},
   "outputs": [
    {
     "data": {
      "text/html": [
       "<table border='1'>\n",
       "<tr><th>date</th><th>sum(amount)</th></tr>\n",
       "<tr><td>2018-05-09</td><td>1002</td></tr>\n",
       "<tr><td>2018-06-13</td><td>639</td></tr>\n",
       "<tr><td>2018-08-03</td><td>708</td></tr>\n",
       "<tr><td>2018-08-21</td><td>723</td></tr>\n",
       "<tr><td>2018-10-07</td><td>1779</td></tr>\n",
       "<tr><td>2019-01-01</td><td>516</td></tr>\n",
       "<tr><td>2019-01-21</td><td>363</td></tr>\n",
       "<tr><td>2019-02-08</td><td>675</td></tr>\n",
       "<tr><td>2019-02-16</td><td>1452</td></tr>\n",
       "</table>\n"
      ],
      "text/plain": [
       "+----------+-----------+\n",
       "|      date|sum(amount)|\n",
       "+----------+-----------+\n",
       "|2018-05-09|       1002|\n",
       "|2018-06-13|        639|\n",
       "|2018-08-03|        708|\n",
       "|2018-08-21|        723|\n",
       "|2018-10-07|       1779|\n",
       "|2019-01-01|        516|\n",
       "|2019-01-21|        363|\n",
       "|2019-02-08|        675|\n",
       "|2019-02-16|       1452|\n",
       "+----------+-----------+"
      ]
     },
     "execution_count": 317,
     "metadata": {},
     "output_type": "execute_result"
    }
   ],
   "source": [
    "df_clean.filter(F.col('user_id')==348432)\\\n",
    "    .withColumn('date',F.to_date('timestamp'))\\\n",
    "    .groupBy('date').agg(\n",
    "        F.sum('amount')\n",
    "    ).orderBy('date')"
   ]
  },
  {
   "cell_type": "code",
   "execution_count": 342,
   "metadata": {},
   "outputs": [
    {
     "name": "stdout",
     "output_type": "stream",
     "text": [
      "-RECORD 0--------------------------------------------\n",
      " item_metadata | SET/3 RED GINGHAM ROSE STORAGE BOX  \n",
      "-RECORD 1--------------------------------------------\n",
      " item_metadata | PACK OF 12 50'S CHRISTMAS TISSUES   \n",
      "-RECORD 2--------------------------------------------\n",
      " item_metadata | BUNNY DECORATION MAGIC GARDEN       \n",
      "-RECORD 3--------------------------------------------\n",
      " item_metadata | SET/10 PINK POLKADOT PARTY CANDLES  \n",
      "-RECORD 4--------------------------------------------\n",
      " item_metadata | STORAGE TIN VINTAGE LEAF            \n",
      "-RECORD 5--------------------------------------------\n",
      " item_metadata | PLAYING CARDS KEEP CALM & CARRY ON  \n",
      "-RECORD 6--------------------------------------------\n",
      " item_metadata | STAR WOODEN CHRISTMAS DECORATION    \n",
      "-RECORD 7--------------------------------------------\n",
      " item_metadata | SET/20 RED RETROSPOT PAPER NAPKINS  \n",
      "-RECORD 8--------------------------------------------\n",
      " item_metadata | SILVER HEARTS TABLE DECORATION      \n",
      "-RECORD 9--------------------------------------------\n",
      " item_metadata | NATURAL SLATE RECTANGLE CHALKBOARD  \n",
      "-RECORD 10-------------------------------------------\n",
      " item_metadata | COLOUR GLASS T-LIGHT HOLDER HANGING \n",
      "-RECORD 11-------------------------------------------\n",
      " item_metadata | STAR WREATH DECORATION WITH BELL    \n",
      "-RECORD 12-------------------------------------------\n",
      " item_metadata | RED RETROSPOT APRON                 \n",
      "-RECORD 13-------------------------------------------\n",
      " item_metadata | SET/2 RED RETROSPOT TEA TOWELS      \n",
      "-RECORD 14-------------------------------------------\n",
      " item_metadata | IVORY DINER WALL CLOCK              \n",
      "-RECORD 15-------------------------------------------\n",
      " item_metadata | SILVER BELLS TABLE DECORATION       \n",
      "-RECORD 16-------------------------------------------\n",
      " item_metadata | PACK OF 60 PINK PAISLEY CAKE CASES  \n",
      "-RECORD 17-------------------------------------------\n",
      " item_metadata | LARGE WHITE HEART OF WICKER         \n",
      "-RECORD 18-------------------------------------------\n",
      " item_metadata | HEART WOODEN CHRISTMAS DECORATION   \n",
      "-RECORD 19-------------------------------------------\n",
      " item_metadata | NATURAL SLATE HEART CHALKBOARD      \n",
      "only showing top 20 rows\n",
      "\n"
     ]
    }
   ],
   "source": [
    "df_clean.filter(F.col('user_id')==348432).select('item_metadata').distinct().show(truncate=False,vertical=True)"
   ]
  },
  {
   "cell_type": "code",
   "execution_count": null,
   "metadata": {},
   "outputs": [],
   "source": []
  }
 ],
 "metadata": {
  "kernelspec": {
   "display_name": "new_kernel",
   "language": "python",
   "name": "new_kernel"
  },
  "language_info": {
   "codemirror_mode": {
    "name": "ipython",
    "version": 3
   },
   "file_extension": ".py",
   "mimetype": "text/x-python",
   "name": "python",
   "nbconvert_exporter": "python",
   "pygments_lexer": "ipython3",
   "version": "3.9.7"
  },
  "orig_nbformat": 4
 },
 "nbformat": 4,
 "nbformat_minor": 2
}
